{
 "cells": [
  {
   "cell_type": "markdown",
   "id": "ff9b9e39",
   "metadata": {},
   "source": [
    "Exercise 1:\n",
    "Calculate the circumference and area of a circle with specified radius. (Reminder: c=2pi*r , a=pi*r^2)\n",
    "If you'd like to use a proper Pi instead of 3.14, you can use the following code to import math module. \n",
    "You can explore python's documentation for math module to learn more about what's available."
   ]
  },
  {
   "cell_type": "code",
   "execution_count": 6,
   "id": "b8e33bdd",
   "metadata": {},
   "outputs": [
    {
     "name": "stdout",
     "output_type": "stream",
     "text": [
      "3.141592653589793\n",
      "37.69911184307752\n",
      "113.09733552923255\n"
     ]
    }
   ],
   "source": [
    "import math\n",
    "r=6\n",
    "print(math.pi)\n",
    "c=2*math.pi*r\n",
    "print(c)\n",
    "a=math.pi*r**2\n",
    "print(a)"
   ]
  },
  {
   "cell_type": "markdown",
   "id": "848a2d70",
   "metadata": {},
   "source": [
    "Exercise 2-1:\n",
    "Define a fraction number with numerator=123 and denominator=456, print out the fraction number \n",
    "in format a/b and the quotient with 8 digits after decimal point.\n",
    "Sample output: \"123/456 = 0.269737\""
   ]
  },
  {
   "cell_type": "code",
   "execution_count": 8,
   "id": "d72c7b6e",
   "metadata": {},
   "outputs": [
    {
     "data": {
      "text/plain": [
       "0.26973684"
      ]
     },
     "execution_count": 8,
     "metadata": {},
     "output_type": "execute_result"
    }
   ],
   "source": [
    "round(123/456, 8)"
   ]
  },
  {
   "cell_type": "markdown",
   "id": "4f5e45d7",
   "metadata": {},
   "source": [
    "Exercise 2-2:\n",
    "Print out every other character of the string \"Data Science\" using string slicing."
   ]
  },
  {
   "cell_type": "code",
   "execution_count": 11,
   "id": "d44f2209",
   "metadata": {},
   "outputs": [
    {
     "name": "stdout",
     "output_type": "stream",
     "text": [
      "Dt cec\n"
     ]
    }
   ],
   "source": [
    "#[start:stop:step]\n",
    "\n",
    "string = 'Data Science'\n",
    "print(string[::2])"
   ]
  },
  {
   "cell_type": "markdown",
   "id": "76c64ed3",
   "metadata": {},
   "source": [
    "Exercise 2-3: The string regex_wiki contains the second paragraph of regular expression introduction in Wikipedia. Modify the string with all lower case and no space."
   ]
  },
  {
   "cell_type": "code",
   "execution_count": 18,
   "id": "1a8159c7",
   "metadata": {},
   "outputs": [
    {
     "name": "stdout",
     "output_type": "stream",
     "text": [
      "theconceptaroseinthe1950swhentheamericanmathematicianstephencolekleeneformalized\n",
      "thedescriptionofaregularlanguage.theconceptcameintocommonusewithunixtext-processingutilities.\n",
      "differentsyntaxesforwritingregularexpressionshaveexistedsincethe1980s,onebeingtheposixstandard\n",
      "andanother,widelyused,beingtheperlsyntax.\n"
     ]
    }
   ],
   "source": [
    "regex_wiki = \"\"\"The concept arose in the 1950s when the American mathematician Stephen Cole Kleene formalized \n",
    "the description of a regular language. The concept came into common use with Unix text-processing utilities. \n",
    "Different syntaxes for writing regular expressions have existed since the 1980s, one being the POSIX standard \n",
    "and another, widely used, being the Perl syntax.\"\"\"\n",
    "\n",
    "regex_wiki = regex_wiki.lower().replace(' ', '')\n",
    "\n",
    "print(regex_wiki)"
   ]
  },
  {
   "cell_type": "markdown",
   "id": "1a9613bb",
   "metadata": {},
   "source": [
    "Exercise 2-4: Replace all data with <3 in the following string. Use a string method to check data is not in the new string."
   ]
  },
  {
   "cell_type": "code",
   "execution_count": 12,
   "id": "6a0fa763",
   "metadata": {},
   "outputs": [
    {
     "name": "stdout",
     "output_type": "stream",
     "text": [
      "Data science continues to evolve as one of the most promising and in-demand career paths for \n",
      "skilled professionals. Today, successful <3 professionals understand that they must advance past the traditional \n",
      "skills of analyzing large amounts of <3, <3 mining, and programming skills. In order to uncover useful \n",
      "intelligence for their organizations, <3 scientists must master the full spectrum of the <3 science life cycle \n",
      "and possess a level of flexibility and understanding to maximize returns at each phase of the process.\n"
     ]
    }
   ],
   "source": [
    "data_science = \"\"\"Data science continues to evolve as one of the most promising and in-demand career paths for \n",
    "skilled professionals. Today, successful data professionals understand that they must advance past the traditional \n",
    "skills of analyzing large amounts of data, data mining, and programming skills. In order to uncover useful \n",
    "intelligence for their organizations, data scientists must master the full spectrum of the data science life cycle \n",
    "and possess a level of flexibility and understanding to maximize returns at each phase of the process.\"\"\"\n",
    "\n",
    "data_science = data_science.replace('data', '<3')\n",
    "\n",
    "print(data_science)"
   ]
  },
  {
   "cell_type": "markdown",
   "id": "e46f24b6",
   "metadata": {},
   "source": [
    "Exercise 2-5: (Bonus Challenge): if you are familiar with string manipulation and regex, use python's regular expression re module to replace the first a in all data in the paragraph above, and keep the original case for the word.\n",
    "Data ---> D<3ta, data ---> d<3ta, DATA --- D<3TA, etc.\n",
    "\n",
    "We can use this example for an intro to regex if some of your are interested."
   ]
  },
  {
   "cell_type": "code",
   "execution_count": 15,
   "id": "bef241c1",
   "metadata": {},
   "outputs": [
    {
     "name": "stdout",
     "output_type": "stream",
     "text": [
      "Data science continues to evolve as one of the most promising and in-demand career paths for \n",
      "skilled professionals. Today, successful d<3ta professionals understand that they must advance past the traditional \n",
      "skills of analyzing large amounts of d<3ta, d<3ta mining, and programming skills. In order to uncover useful \n",
      "intelligence for their organizations, d<3ta scientists must master the full spectrum of the d<3ta science life cycle \n",
      "and possess a level of flexibility and understanding to maximize returns at each phase of the process.\n"
     ]
    }
   ],
   "source": [
    "import re\n",
    "\n",
    "\"\"\"\n",
    "# Original string\n",
    "text = \"data\"\n",
    "\n",
    "# Pattern to match (in this case, the letter 'a')\n",
    "pattern = 'a'\n",
    "\n",
    "# Replacement (in this case, the letter 'x')\n",
    "replacement = 'x'\n",
    "\n",
    "# Using re.sub() to replace the first occurrence of 'a' with 'x'\n",
    "# The 'count' parameter is set to 1 to replace only the first occurrence\n",
    "result = re.sub(pattern, replacement, text, count=1)\n",
    "\n",
    "print(result)\n",
    "\n",
    "\"\"\"\n",
    "\n",
    "data_science = \"\"\"Data science continues to evolve as one of the most promising and in-demand career paths for \n",
    "skilled professionals. Today, successful data professionals understand that they must advance past the traditional \n",
    "skills of analyzing large amounts of data, data mining, and programming skills. In order to uncover useful \n",
    "intelligence for their organizations, data scientists must master the full spectrum of the data science life cycle \n",
    "and possess a level of flexibility and understanding to maximize returns at each phase of the process.\"\"\"\n",
    "pattern = 'data' or 'Data'\n",
    "replacement = 'd<3ta'\n",
    "print(re.sub(pattern, replacement, data_science))\n",
    "\n",
    "\n"
   ]
  },
  {
   "cell_type": "markdown",
   "id": "87b3ebdd",
   "metadata": {},
   "source": [
    "**re.search(pattern, string, flags=0)**:\n",
    "\n",
    "This function scans through the entire string looking for any location where the pattern produces a match.\n",
    "It returns a Match object if it finds a match, or None if it doesn't find any.\n",
    "Unlike re.match(), re.search() checks for a match anywhere in the string, not just at the beginning.\n",
    "For example, if your string is \"Data Science\" and your pattern is 'Sci', re.search() will find a match because 'Sci' appears in the string, even though it's not at the start.\n",
    "\n",
    "\n",
    "\n",
    "**re.match(pattern, string, flags=0)**:\n",
    "\n",
    "This function checks if the beginning of the string matches the pattern.\n",
    "It also returns a Match object if it finds a match at the beginning of the string, or None if the beginning of the string doesn't match the pattern.\n",
    "For instance, using the same string \"Data Science\" and pattern 'Sci', re.match() will not find a match because 'Sci' does not appear at the start of the string.\n",
    "\n",
    "\n",
    "\n",
    "**re.sub()** function in Python's re (regular expressions) module is used for string substitution. It replaces occurrences of a pattern in a string with a replacement string or the result of a function. \n",
    "\n",
    "**re.sub(pattern, repl, string, count=0, flags=0)**\n",
    "\n",
    "pattern: This is the regular expression pattern that you are looking to replace in the string. It can be a string pattern or a compiled regular expression object.\n",
    "\n",
    "repl: The replacement string or a function.\n",
    "\n",
    "If it's a string, any occurrence of the pattern in the string will be replaced by repl.\n",
    "If it's a function, it's called for every non-overlapping occurrence of the pattern. The function takes a single Match object argument and returns the replacement string.\n",
    "string: The string on which to perform the substitution.\n",
    "\n",
    "count (optional): The maximum number of pattern occurrences to be replaced. The default value 0 means replace all occurrences.\n",
    "\n",
    "flags (optional): Additional flags that modify the regular expression. Common flags include re.IGNORECASE, re.MULTILINE, etc."
   ]
  },
  {
   "cell_type": "markdown",
   "id": "01273ed9",
   "metadata": {},
   "source": [
    "match is a match object representing each match found by re.sub(). When match.group(0) is called, it gets the specific instance of 'data' that was found in the string.\n",
    "\n",
    "group(0): This returns the entire match, which is the full substring that matches the pattern given in the regular expression. In your specific context, where the pattern is \\bdata\\b, group(0) returns the entire word 'data' whenever it matches.\n",
    "\n",
    "group(n) (where n is a positive integer): If you have a regular expression with capturing groups (parts of the pattern enclosed in parentheses), group(n) will return the part of the string matched by the nth capturing group. For example, in the regular expression pattern (data)(science), group(1) would return 'data', and group(2) would return 'science'.\n",
    "\n",
    "pattern = r'\\bdata\\b': The regular expression \\bdata\\b matches the word 'data' precisely, using word boundaries (\\b) to ensure it doesn't match 'data' within other words.\n",
    "\n",
    "re.sub(pattern, replace_a_with_<3, data_science): This line applies the substitution, using the function to replace 'a' with '<3' in every 'data'."
   ]
  },
  {
   "cell_type": "code",
   "execution_count": 7,
   "id": "f7c67c81",
   "metadata": {
    "scrolled": true
   },
   "outputs": [
    {
     "name": "stdout",
     "output_type": "stream",
     "text": [
      "DAt<3 science continues to evolve as one of the most promising and in-demand career paths for \n",
      "skilled professionals. Today, successful d<3ta professionals understand that they must advance past the traditional \n",
      "skills of analyzing large amounts of DATA, d<3ta mining, and programming skills. In order to uncover useful \n",
      "intelligence for their organizations, d<3ta scientists must master the full spectrum of the d<3ta science life cycle \n",
      "and possess a level of flexibility and understanding to maximize returns at each phase of the process.\n"
     ]
    }
   ],
   "source": [
    "import re\n",
    "\n",
    "data_science = \"\"\"DAta science continues to evolve as one of the most promising and in-demand career paths for \n",
    "skilled professionals. Today, successful data professionals understand that they must advance past the traditional \n",
    "skills of analyzing large amounts of DATA, data mining, and programming skills. In order to uncover useful \n",
    "intelligence for their organizations, data scientists must master the full spectrum of the data science life cycle \n",
    "and possess a level of flexibility and understanding to maximize returns at each phase of the process.\"\"\"\n",
    "\n",
    "pattern = r'\\bdata\\b'\n",
    "\n",
    "def replace_with_heart(match):\n",
    "    word = match.group(0)\n",
    "    if word[1].lower() == 'a':\n",
    "        return word.replace('a' or 'A', '<3', 1)\n",
    "\n",
    "print(re.sub(pattern, replace_with_heart, data_science, flags=re.IGNORECASE))\n",
    "\n"
   ]
  },
  {
   "cell_type": "code",
   "execution_count": 13,
   "id": "7e8aece1",
   "metadata": {},
   "outputs": [
    {
     "name": "stdout",
     "output_type": "stream",
     "text": [
      "DAta science continues to evolve as one of the most promising and in-demand career paths for \n",
      "skilled professionals. Today, successful data professionals understand that they must advance past the traditional \n",
      "skills of analyzing large amounts of DATA, data mining, and programming skills. In order to uncover useful \n",
      "intelligence for their organizations, data scientists must master the full spectrum of the data science life cycle \n",
      "and possess a level of flexibility and understanding to maximize returns at each phase of the process.\n"
     ]
    }
   ],
   "source": [
    "import re\n",
    "\n",
    "data_science = \"\"\"DAta science continues to evolve as one of the most promising and in-demand career paths for \n",
    "skilled professionals. Today, successful data professionals understand that they must advance past the traditional \n",
    "skills of analyzing large amounts of DATA, data mining, and programming skills. In order to uncover useful \n",
    "intelligence for their organizations, data scientists must master the full spectrum of the data science life cycle \n",
    "and possess a level of flexibility and understanding to maximize returns at each phase of the process.\"\"\"\n",
    "\n",
    "pattern = r'\\b[Dd][Aa][Tt][Aa]\\b'\n",
    "\n",
    "def replace_a (match):\n",
    "    return match.group(0).replace(r'[Aa]', '<3', 1)\n",
    "    \n",
    "print(re.sub(pattern, replace_a, data_science, flags=re.IGNORECASE))"
   ]
  },
  {
   "cell_type": "code",
   "execution_count": 14,
   "id": "c8cb406a",
   "metadata": {},
   "outputs": [
    {
     "name": "stdout",
     "output_type": "stream",
     "text": [
      "D<3TA science continues to evolve as one of the most promising and in-demand career paths for \n",
      "skilled professionals. Today, successful d<3ta professionals understand that they must advance past the traditional \n",
      "skills of analyzing large amounts of D<3TA, d<3ta mining, and programming skills. In order to uncover useful \n",
      "intelligence for their organizations, d<3ta scientists must master the full spectrum of the d<3ta science life cycle \n",
      "and possess a level of flexibility and understanding to maximize returns at each phase of the process.\n"
     ]
    }
   ],
   "source": [
    "import re\n",
    "\n",
    "data_science = \"\"\"DATA science continues to evolve as one of the most promising and in-demand career paths for \n",
    "skilled professionals. Today, successful data professionals understand that they must advance past the traditional \n",
    "skills of analyzing large amounts of DATA, data mining, and programming skills. In order to uncover useful \n",
    "intelligence for their organizations, data scientists must master the full spectrum of the data science life cycle \n",
    "and possess a level of flexibility and understanding to maximize returns at each phase of the process.\"\"\"\n",
    "\n",
    "pattern = r'\\b[Dd][Aa][Tt][Aa]\\b'\n",
    "\n",
    "def replace_first_a_with_heart(match):\n",
    "    # Replace the first 'a' or 'A', depending on the case\n",
    "    return re.sub(r'[Aa]', '<3', match.group(0), count=1)\n",
    "\n",
    "result = re.sub(pattern, replace_first_a_with_heart, data_science, flags=re.IGNORECASE)\n",
    "print(result)"
   ]
  },
  {
   "cell_type": "markdown",
   "id": "5c0aeb7e",
   "metadata": {},
   "source": [
    "Exercies 3-1: Write a program flow which will assign grade by the test scores using the following conditions:\n",
    "\n",
    "If score >= 90, grade=\"A\"\n",
    "If 80 >= score >90, grade=\"B\"\n",
    "If 70 >= score >80, grade=\"C\"\n",
    "If 60 >= score >70, grade=\"D\"\n",
    "IF score < 60, grade=\"F\""
   ]
  },
  {
   "cell_type": "code",
   "execution_count": 18,
   "id": "78dc5b62",
   "metadata": {},
   "outputs": [],
   "source": [
    "def grade(score):\n",
    "    if score >= 90:\n",
    "        return 'A'\n",
    "    elif 90 > score >= 80:\n",
    "        return 'B'\n",
    "    elif 80 > score >= 70:\n",
    "        return 'C'\n",
    "    elif 70 > score >= 60:\n",
    "        return 'D'\n",
    "    elif 60 > score:\n",
    "        return 'F'"
   ]
  },
  {
   "cell_type": "code",
   "execution_count": 19,
   "id": "69b4df4e",
   "metadata": {},
   "outputs": [
    {
     "data": {
      "text/plain": [
       "'A'"
      ]
     },
     "execution_count": 19,
     "metadata": {},
     "output_type": "execute_result"
    }
   ],
   "source": [
    "grade(94)"
   ]
  },
  {
   "cell_type": "markdown",
   "id": "1ec2d156",
   "metadata": {},
   "source": [
    "Exercise 3-2: x=1, y=1, write a flow to assign messge to different value base on different criteria as below, and in the end print out the message:\n",
    "\n",
    "a. If x less than y, messge=\"x is less than y\"\n",
    "\n",
    "b. If x larger than y, messge=\"x is greater than y\"\n",
    "\n",
    "c. If x equal to y, messge=\"x is the same as y\""
   ]
  },
  {
   "cell_type": "code",
   "execution_count": 21,
   "id": "a32d25b0",
   "metadata": {},
   "outputs": [],
   "source": [
    "def compare(x, y):\n",
    "    if x < y:\n",
    "        print('x is less than y.')\n",
    "    elif x > y:\n",
    "        print('x is greater than y.')\n",
    "    elif x == y:\n",
    "        print('x is the same as y.')"
   ]
  },
  {
   "cell_type": "code",
   "execution_count": 22,
   "id": "68568a5f",
   "metadata": {},
   "outputs": [
    {
     "name": "stdout",
     "output_type": "stream",
     "text": [
      "x is the same as y.\n"
     ]
    }
   ],
   "source": [
    "compare(1,1)"
   ]
  },
  {
   "cell_type": "code",
   "execution_count": null,
   "id": "97c8ee61",
   "metadata": {},
   "outputs": [],
   "source": []
  }
 ],
 "metadata": {
  "kernelspec": {
   "display_name": "Python 3 (ipykernel)",
   "language": "python",
   "name": "python3"
  },
  "language_info": {
   "codemirror_mode": {
    "name": "ipython",
    "version": 3
   },
   "file_extension": ".py",
   "mimetype": "text/x-python",
   "name": "python",
   "nbconvert_exporter": "python",
   "pygments_lexer": "ipython3",
   "version": "3.9.18"
  }
 },
 "nbformat": 4,
 "nbformat_minor": 5
}
