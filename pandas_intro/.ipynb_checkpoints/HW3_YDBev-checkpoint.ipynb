{
 "cells": [
  {
   "cell_type": "markdown",
   "id": "4902a5bf",
   "metadata": {},
   "source": [
    "#  `college` dataset 02.ipynb"
   ]
  },
  {
   "cell_type": "code",
   "execution_count": 1,
   "id": "2363da4e",
   "metadata": {},
   "outputs": [
    {
     "data": {
      "text/plain": [
       "'/Users/dby/Desktop/DS_Projects/ds-intro-class-2022/pandas_intro'"
      ]
     },
     "execution_count": 1,
     "metadata": {},
     "output_type": "execute_result"
    }
   ],
   "source": [
    "import numpy as np\n",
    "import os\n",
    "\n",
    "os.getcwd() # get current working directory"
   ]
  },
  {
   "cell_type": "code",
   "execution_count": 2,
   "id": "c0f5b6ea",
   "metadata": {},
   "outputs": [],
   "source": [
    "import pandas as pd\n",
    "pd.set_option('display.max_columns', 100)\n",
    "\n",
    "college = pd.read_csv('data/college.csv')"
   ]
  },
  {
   "cell_type": "code",
   "execution_count": 3,
   "id": "3b0a547e",
   "metadata": {},
   "outputs": [
    {
     "data": {
      "text/html": [
       "<div>\n",
       "<style scoped>\n",
       "    .dataframe tbody tr th:only-of-type {\n",
       "        vertical-align: middle;\n",
       "    }\n",
       "\n",
       "    .dataframe tbody tr th {\n",
       "        vertical-align: top;\n",
       "    }\n",
       "\n",
       "    .dataframe thead th {\n",
       "        text-align: right;\n",
       "    }\n",
       "</style>\n",
       "<table border=\"1\" class=\"dataframe\">\n",
       "  <thead>\n",
       "    <tr style=\"text-align: right;\">\n",
       "      <th></th>\n",
       "      <th>instnm</th>\n",
       "      <th>city</th>\n",
       "      <th>stabbr</th>\n",
       "      <th>hbcu</th>\n",
       "      <th>menonly</th>\n",
       "      <th>womenonly</th>\n",
       "      <th>relaffil</th>\n",
       "      <th>satvrmid</th>\n",
       "      <th>satmtmid</th>\n",
       "      <th>distanceonly</th>\n",
       "      <th>ugds</th>\n",
       "      <th>ugds_white</th>\n",
       "      <th>ugds_black</th>\n",
       "      <th>ugds_hisp</th>\n",
       "      <th>ugds_asian</th>\n",
       "      <th>ugds_aian</th>\n",
       "      <th>ugds_nhpi</th>\n",
       "      <th>ugds_2mor</th>\n",
       "      <th>ugds_nra</th>\n",
       "      <th>ugds_unkn</th>\n",
       "      <th>pptug_ef</th>\n",
       "      <th>curroper</th>\n",
       "      <th>pctpell</th>\n",
       "      <th>pctfloan</th>\n",
       "      <th>ug25abv</th>\n",
       "      <th>md_earn_wne_p10</th>\n",
       "      <th>grad_debt_mdn_supp</th>\n",
       "    </tr>\n",
       "  </thead>\n",
       "  <tbody>\n",
       "    <tr>\n",
       "      <th>0</th>\n",
       "      <td>Alabama A &amp; M University</td>\n",
       "      <td>Normal</td>\n",
       "      <td>AL</td>\n",
       "      <td>1.0</td>\n",
       "      <td>0.0</td>\n",
       "      <td>0.0</td>\n",
       "      <td>0</td>\n",
       "      <td>424.0</td>\n",
       "      <td>420.0</td>\n",
       "      <td>0.0</td>\n",
       "      <td>4206.0</td>\n",
       "      <td>0.0333</td>\n",
       "      <td>0.9353</td>\n",
       "      <td>0.0055</td>\n",
       "      <td>0.0019</td>\n",
       "      <td>0.0024</td>\n",
       "      <td>0.0019</td>\n",
       "      <td>0.0000</td>\n",
       "      <td>0.0059</td>\n",
       "      <td>0.0138</td>\n",
       "      <td>0.0656</td>\n",
       "      <td>1</td>\n",
       "      <td>0.7356</td>\n",
       "      <td>0.8284</td>\n",
       "      <td>0.1049</td>\n",
       "      <td>30300</td>\n",
       "      <td>33888</td>\n",
       "    </tr>\n",
       "    <tr>\n",
       "      <th>1</th>\n",
       "      <td>University of Alabama at Birmingham</td>\n",
       "      <td>Birmingham</td>\n",
       "      <td>AL</td>\n",
       "      <td>0.0</td>\n",
       "      <td>0.0</td>\n",
       "      <td>0.0</td>\n",
       "      <td>0</td>\n",
       "      <td>570.0</td>\n",
       "      <td>565.0</td>\n",
       "      <td>0.0</td>\n",
       "      <td>11383.0</td>\n",
       "      <td>0.5922</td>\n",
       "      <td>0.2600</td>\n",
       "      <td>0.0283</td>\n",
       "      <td>0.0518</td>\n",
       "      <td>0.0022</td>\n",
       "      <td>0.0007</td>\n",
       "      <td>0.0368</td>\n",
       "      <td>0.0179</td>\n",
       "      <td>0.0100</td>\n",
       "      <td>0.2607</td>\n",
       "      <td>1</td>\n",
       "      <td>0.3460</td>\n",
       "      <td>0.5214</td>\n",
       "      <td>0.2422</td>\n",
       "      <td>39700</td>\n",
       "      <td>21941.5</td>\n",
       "    </tr>\n",
       "    <tr>\n",
       "      <th>2</th>\n",
       "      <td>Amridge University</td>\n",
       "      <td>Montgomery</td>\n",
       "      <td>AL</td>\n",
       "      <td>0.0</td>\n",
       "      <td>0.0</td>\n",
       "      <td>0.0</td>\n",
       "      <td>1</td>\n",
       "      <td>NaN</td>\n",
       "      <td>NaN</td>\n",
       "      <td>1.0</td>\n",
       "      <td>291.0</td>\n",
       "      <td>0.2990</td>\n",
       "      <td>0.4192</td>\n",
       "      <td>0.0069</td>\n",
       "      <td>0.0034</td>\n",
       "      <td>0.0000</td>\n",
       "      <td>0.0000</td>\n",
       "      <td>0.0000</td>\n",
       "      <td>0.0000</td>\n",
       "      <td>0.2715</td>\n",
       "      <td>0.4536</td>\n",
       "      <td>1</td>\n",
       "      <td>0.6801</td>\n",
       "      <td>0.7795</td>\n",
       "      <td>0.8540</td>\n",
       "      <td>40100</td>\n",
       "      <td>23370</td>\n",
       "    </tr>\n",
       "    <tr>\n",
       "      <th>3</th>\n",
       "      <td>University of Alabama in Huntsville</td>\n",
       "      <td>Huntsville</td>\n",
       "      <td>AL</td>\n",
       "      <td>0.0</td>\n",
       "      <td>0.0</td>\n",
       "      <td>0.0</td>\n",
       "      <td>0</td>\n",
       "      <td>595.0</td>\n",
       "      <td>590.0</td>\n",
       "      <td>0.0</td>\n",
       "      <td>5451.0</td>\n",
       "      <td>0.6988</td>\n",
       "      <td>0.1255</td>\n",
       "      <td>0.0382</td>\n",
       "      <td>0.0376</td>\n",
       "      <td>0.0143</td>\n",
       "      <td>0.0002</td>\n",
       "      <td>0.0172</td>\n",
       "      <td>0.0332</td>\n",
       "      <td>0.0350</td>\n",
       "      <td>0.2146</td>\n",
       "      <td>1</td>\n",
       "      <td>0.3072</td>\n",
       "      <td>0.4596</td>\n",
       "      <td>0.2640</td>\n",
       "      <td>45500</td>\n",
       "      <td>24097</td>\n",
       "    </tr>\n",
       "    <tr>\n",
       "      <th>4</th>\n",
       "      <td>Alabama State University</td>\n",
       "      <td>Montgomery</td>\n",
       "      <td>AL</td>\n",
       "      <td>1.0</td>\n",
       "      <td>0.0</td>\n",
       "      <td>0.0</td>\n",
       "      <td>0</td>\n",
       "      <td>425.0</td>\n",
       "      <td>430.0</td>\n",
       "      <td>0.0</td>\n",
       "      <td>4811.0</td>\n",
       "      <td>0.0158</td>\n",
       "      <td>0.9208</td>\n",
       "      <td>0.0121</td>\n",
       "      <td>0.0019</td>\n",
       "      <td>0.0010</td>\n",
       "      <td>0.0006</td>\n",
       "      <td>0.0098</td>\n",
       "      <td>0.0243</td>\n",
       "      <td>0.0137</td>\n",
       "      <td>0.0892</td>\n",
       "      <td>1</td>\n",
       "      <td>0.7347</td>\n",
       "      <td>0.7554</td>\n",
       "      <td>0.1270</td>\n",
       "      <td>26600</td>\n",
       "      <td>33118.5</td>\n",
       "    </tr>\n",
       "  </tbody>\n",
       "</table>\n",
       "</div>"
      ],
      "text/plain": [
       "                                instnm        city stabbr  hbcu  menonly  \\\n",
       "0             Alabama A & M University      Normal     AL   1.0      0.0   \n",
       "1  University of Alabama at Birmingham  Birmingham     AL   0.0      0.0   \n",
       "2                   Amridge University  Montgomery     AL   0.0      0.0   \n",
       "3  University of Alabama in Huntsville  Huntsville     AL   0.0      0.0   \n",
       "4             Alabama State University  Montgomery     AL   1.0      0.0   \n",
       "\n",
       "   womenonly  relaffil  satvrmid  satmtmid  distanceonly     ugds  ugds_white  \\\n",
       "0        0.0         0     424.0     420.0           0.0   4206.0      0.0333   \n",
       "1        0.0         0     570.0     565.0           0.0  11383.0      0.5922   \n",
       "2        0.0         1       NaN       NaN           1.0    291.0      0.2990   \n",
       "3        0.0         0     595.0     590.0           0.0   5451.0      0.6988   \n",
       "4        0.0         0     425.0     430.0           0.0   4811.0      0.0158   \n",
       "\n",
       "   ugds_black  ugds_hisp  ugds_asian  ugds_aian  ugds_nhpi  ugds_2mor  \\\n",
       "0      0.9353     0.0055      0.0019     0.0024     0.0019     0.0000   \n",
       "1      0.2600     0.0283      0.0518     0.0022     0.0007     0.0368   \n",
       "2      0.4192     0.0069      0.0034     0.0000     0.0000     0.0000   \n",
       "3      0.1255     0.0382      0.0376     0.0143     0.0002     0.0172   \n",
       "4      0.9208     0.0121      0.0019     0.0010     0.0006     0.0098   \n",
       "\n",
       "   ugds_nra  ugds_unkn  pptug_ef  curroper  pctpell  pctfloan  ug25abv  \\\n",
       "0    0.0059     0.0138    0.0656         1   0.7356    0.8284   0.1049   \n",
       "1    0.0179     0.0100    0.2607         1   0.3460    0.5214   0.2422   \n",
       "2    0.0000     0.2715    0.4536         1   0.6801    0.7795   0.8540   \n",
       "3    0.0332     0.0350    0.2146         1   0.3072    0.4596   0.2640   \n",
       "4    0.0243     0.0137    0.0892         1   0.7347    0.7554   0.1270   \n",
       "\n",
       "  md_earn_wne_p10 grad_debt_mdn_supp  \n",
       "0           30300              33888  \n",
       "1           39700            21941.5  \n",
       "2           40100              23370  \n",
       "3           45500              24097  \n",
       "4           26600            33118.5  "
      ]
     },
     "execution_count": 3,
     "metadata": {},
     "output_type": "execute_result"
    }
   ],
   "source": [
    "college.head()"
   ]
  },
  {
   "cell_type": "code",
   "execution_count": 4,
   "id": "bcd4c775",
   "metadata": {},
   "outputs": [
    {
     "data": {
      "text/plain": [
       "(7535, 27)"
      ]
     },
     "execution_count": 4,
     "metadata": {},
     "output_type": "execute_result"
    }
   ],
   "source": [
    "college.shape"
   ]
  },
  {
   "cell_type": "code",
   "execution_count": 5,
   "id": "d3b8906f",
   "metadata": {},
   "outputs": [
    {
     "data": {
      "text/plain": [
       "instnm                 object\n",
       "city                   object\n",
       "stabbr                 object\n",
       "hbcu                  float64\n",
       "menonly               float64\n",
       "womenonly             float64\n",
       "relaffil                int64\n",
       "satvrmid              float64\n",
       "satmtmid              float64\n",
       "distanceonly          float64\n",
       "ugds                  float64\n",
       "ugds_white            float64\n",
       "ugds_black            float64\n",
       "ugds_hisp             float64\n",
       "ugds_asian            float64\n",
       "ugds_aian             float64\n",
       "ugds_nhpi             float64\n",
       "ugds_2mor             float64\n",
       "ugds_nra              float64\n",
       "ugds_unkn             float64\n",
       "pptug_ef              float64\n",
       "curroper                int64\n",
       "pctpell               float64\n",
       "pctfloan              float64\n",
       "ug25abv               float64\n",
       "md_earn_wne_p10        object\n",
       "grad_debt_mdn_supp     object\n",
       "dtype: object"
      ]
     },
     "execution_count": 5,
     "metadata": {},
     "output_type": "execute_result"
    }
   ],
   "source": [
    "college.dtypes"
   ]
  },
  {
   "cell_type": "markdown",
   "id": "f821b45d",
   "metadata": {},
   "source": [
    "## Exercise 1: What is the median SAT Math score (satmtmid) for The University of Texas at Dallas?"
   ]
  },
  {
   "cell_type": "code",
   "execution_count": 6,
   "id": "4c96b161",
   "metadata": {},
   "outputs": [
    {
     "data": {
      "text/plain": [
       "3768    645.0\n",
       "Name: satmtmid, dtype: float64"
      ]
     },
     "execution_count": 6,
     "metadata": {},
     "output_type": "execute_result"
    }
   ],
   "source": [
    "# select rows with condition UT Dallas\n",
    "UT_DALLAS = college.loc[college['instnm']=='The University of Texas at Dallas']\n",
    "UT_DALLAS['satmtmid']\n",
    "\n",
    "#college.loc[college['instnm']=='The University of Texas at Dallas']['satmtmid']"
   ]
  },
  {
   "cell_type": "markdown",
   "id": "3f385701",
   "metadata": {},
   "source": [
    "## Exercise 2: What state (stabbr) has the 5th highest total undergraduate population (ugds) and what is that population?"
   ]
  },
  {
   "cell_type": "code",
   "execution_count": 7,
   "id": "5eeb2b31",
   "metadata": {},
   "outputs": [
    {
     "name": "stdout",
     "output_type": "stream",
     "text": [
      "Population 5th highest ugds state is PA with 604942.0\n"
     ]
    }
   ],
   "source": [
    "# group by state and calculate total undergraduate population for each state and select 5th highest \n",
    "tot_ugds_by_state = college.groupby('stabbr')['ugds'].sum().sort_values(ascending=False) # get total ugds by state\n",
    "population_5th = tot_ugds_by_state[4]\n",
    "state_5th = tot_ugds_by_state.index.tolist()[4] # list state\n",
    "print(f'Population 5th highest ugds state is {state_5th} with {population_5th}')\n",
    "\n",
    "# tot_ugds_by_state"
   ]
  },
  {
   "cell_type": "markdown",
   "id": "5d399cc3",
   "metadata": {},
   "source": [
    "## Answer EX 1&2"
   ]
  },
  {
   "cell_type": "code",
   "execution_count": 8,
   "id": "d911827d",
   "metadata": {},
   "outputs": [
    {
     "data": {
      "text/plain": [
       "stabbr\n",
       "PA    604942.0\n",
       "Name: ugds, dtype: float64"
      ]
     },
     "execution_count": 8,
     "metadata": {},
     "output_type": "execute_result"
    }
   ],
   "source": [
    "# 1\n",
    "college.loc[college['instnm'].str.contains('University of Texas'), 'instnm']\n",
    "college.loc[college['instnm']=='The University of Texas at Dallas', 'satmtmid']\n",
    "\n",
    "# 2\n",
    "total_udgs = college.groupby('stabbr')['ugds'].sum()\n",
    "total_udgs.nlargest(5).tail(1)"
   ]
  },
  {
   "cell_type": "markdown",
   "id": "c364d406",
   "metadata": {},
   "source": [
    "## Exercise 3: Which columns in  `college` dataset contain missing value? What are their missing rate(%)?"
   ]
  },
  {
   "cell_type": "code",
   "execution_count": 9,
   "id": "3de9893e",
   "metadata": {},
   "outputs": [
    {
     "data": {
      "text/plain": [
       "instnm                 0.000000\n",
       "city                   0.000000\n",
       "stabbr                 0.000000\n",
       "hbcu                   4.923689\n",
       "menonly                4.923689\n",
       "womenonly              4.923689\n",
       "relaffil               0.000000\n",
       "satvrmid              84.273391\n",
       "satmtmid              84.127405\n",
       "distanceonly           4.923689\n",
       "ugds                   8.772395\n",
       "ugds_white             8.772395\n",
       "ugds_black             8.772395\n",
       "ugds_hisp              8.772395\n",
       "ugds_asian             8.772395\n",
       "ugds_aian              8.772395\n",
       "ugds_nhpi              8.772395\n",
       "ugds_2mor              8.772395\n",
       "ugds_nra               8.772395\n",
       "ugds_unkn              8.772395\n",
       "pptug_ef               9.051095\n",
       "curroper               0.000000\n",
       "pctpell                9.104180\n",
       "pctfloan               9.104180\n",
       "ug25abv               10.842734\n",
       "md_earn_wne_p10       14.890511\n",
       "grad_debt_mdn_supp     0.424685\n",
       "dtype: float64"
      ]
     },
     "execution_count": 9,
     "metadata": {},
     "output_type": "execute_result"
    }
   ],
   "source": [
    "college.isna().sum() # tally missing values\n",
    "college.isna().sum()*100/college.shape[0] # missing rate"
   ]
  },
  {
   "cell_type": "markdown",
   "id": "11a76fa6",
   "metadata": {},
   "source": [
    "## Exercise 4: Is there statistical significant difference between average `md_earn_wne_p10` (Median Earnings 10 years after enrollment) for schools in Texas and California? \n",
    "\n",
    "Hint: we can see this problem as a [two-sample t-test](https://online.stat.psu.edu/stat555/node/36/)\n",
    "\n",
    "you might find the following function useful to converts data to numeric: `pd.to_numeric()`\n",
    "\n",
    "example code for p-value calculation if you'd like to calculate z-scores: `import scipy.stats as st`, `st.norm.cdf(-1.506666)`\n",
    "\n",
    "you may also find the following function useful: `st.ttest_ind()`\n",
    "\n",
    "[Python for Data Analysis: Hypothesis Testing and T-Tests](https://www.youtube.com/watch?v=CIbJSX-biu0&ab_channel=DataDaft)\n"
   ]
  },
  {
   "cell_type": "code",
   "execution_count": 10,
   "id": "5c2ec39d",
   "metadata": {},
   "outputs": [
    {
     "data": {
      "text/plain": [
       "array(['AL', 'IL', 'AK', 'AZ', 'NM', 'AR', 'CA', 'MN', 'CO', 'CT', 'NY',\n",
       "       'DE', 'DC', 'VA', 'FL', 'GA', 'HI', 'ID', 'IN', 'TN', 'MI', 'IA',\n",
       "       'KS', 'MO', 'KY', 'LA', 'ME', 'MD', 'MA', 'MS', 'MT', 'NE', 'NV',\n",
       "       'NH', 'NJ', 'NC', 'ND', 'OH', 'WV', 'OK', 'OR', 'PA', 'RI', 'SC',\n",
       "       'SD', 'TX', 'UT', 'VT', 'WA', 'WI', 'WY', 'AS', 'GU', 'MP', 'PR',\n",
       "       'FM', 'PW', 'VI', 'MH'], dtype=object)"
      ]
     },
     "execution_count": 10,
     "metadata": {},
     "output_type": "execute_result"
    }
   ],
   "source": [
    "college['stabbr'].unique()"
   ]
  },
  {
   "cell_type": "code",
   "execution_count": 11,
   "id": "d5867c1c",
   "metadata": {},
   "outputs": [],
   "source": [
    "# college['md_earn_wne_p10'].unique()"
   ]
  },
  {
   "cell_type": "code",
   "execution_count": 12,
   "id": "8c922b1c",
   "metadata": {},
   "outputs": [
    {
     "name": "stdout",
     "output_type": "stream",
     "text": [
      "0.10909090909090909\n",
      "0.14890510948905109\n",
      "0.2579960185799602\n",
      "0.7420039814200399\n"
     ]
    }
   ],
   "source": [
    "# md_earn_wne_p10\n",
    "# percent privacy suppressed\n",
    "print(len(college[college['md_earn_wne_p10'] == 'PrivacySuppressed'])/college.shape[0]) \n",
    "# percent NaN\n",
    "print(len(college[college['md_earn_wne_p10'].isna()])/college.shape[0])\n",
    "\n",
    "# percent that has no data (na or string)\n",
    "print((len(college[college['md_earn_wne_p10'] == 'PrivacySuppressed'])+len(college[college['md_earn_wne_p10'].isna()]))/college.shape[0])\n",
    "# percent has usable data\n",
    "print(1-(len(college[college['md_earn_wne_p10'] == 'PrivacySuppressed'])+len(college[college['md_earn_wne_p10'].isna()]))/college.shape[0])"
   ]
  },
  {
   "cell_type": "code",
   "execution_count": 13,
   "id": "edb15581",
   "metadata": {},
   "outputs": [],
   "source": [
    "sub_wo_str_md_earn = college[college['md_earn_wne_p10'] != 'PrivacySuppressed']\n",
    "# sanity check = percent has usable data?\n",
    "sub_wo_str_md_earn[sub_wo_str_md_earn['md_earn_wne_p10'].notna()].shape[0]/college.shape[0]\n",
    "\n",
    "# final usable dataset without strings and nan\n",
    "ex4 = sub_wo_str_md_earn[sub_wo_str_md_earn['md_earn_wne_p10'].notna()]"
   ]
  },
  {
   "cell_type": "code",
   "execution_count": 14,
   "id": "0e5e865d",
   "metadata": {},
   "outputs": [],
   "source": [
    "CA_ex4 = ex4[ex4['stabbr']=='CA']\n",
    "TX_ex4 = ex4[ex4['stabbr']=='TX']\n",
    "\n",
    "CA_ex4_md_earn = pd.to_numeric(CA_ex4['md_earn_wne_p10'])\n",
    "TX_ex4_md_earn = pd.to_numeric(TX_ex4['md_earn_wne_p10'])"
   ]
  },
  {
   "cell_type": "code",
   "execution_count": 15,
   "id": "b1687871",
   "metadata": {},
   "outputs": [
    {
     "name": "stdout",
     "output_type": "stream",
     "text": [
      "CA avg md_earn_wne_p10: 33698.81422924901\n",
      "TX avg md_earn_wne_p10: 31004.802259887005\n"
     ]
    }
   ],
   "source": [
    "print(f'CA avg md_earn_wne_p10: {CA_ex4_md_earn.mean()}')\n",
    "print(f'TX avg md_earn_wne_p10: {TX_ex4_md_earn.mean()}')"
   ]
  },
  {
   "cell_type": "code",
   "execution_count": 16,
   "id": "a571be50",
   "metadata": {},
   "outputs": [
    {
     "data": {
      "text/plain": [
       "Ttest_indResult(statistic=2.5022640635179707, pvalue=0.012525260338027689)"
      ]
     },
     "execution_count": 16,
     "metadata": {},
     "output_type": "execute_result"
    }
   ],
   "source": [
    "import scipy.stats as st\n",
    "\n",
    "st.ttest_ind(a=CA_ex4_md_earn, b=TX_ex4_md_earn, equal_var=True)"
   ]
  },
  {
   "cell_type": "markdown",
   "id": "d234a6f5",
   "metadata": {},
   "source": [
    "No statistical significance"
   ]
  },
  {
   "cell_type": "markdown",
   "id": "919ecbaa",
   "metadata": {},
   "source": [
    "# HW3"
   ]
  },
  {
   "cell_type": "markdown",
   "id": "55fd97a7",
   "metadata": {},
   "source": [
    "## Exercise 5 . Find the mean and standard deviation of math and verbal SAT score for men-only, women-only, and non gender specific universities. (`college`)"
   ]
  },
  {
   "cell_type": "code",
   "execution_count": 17,
   "id": "e409b6c4",
   "metadata": {},
   "outputs": [],
   "source": [
    "college.head()\n",
    "#college['menonly'].unique()\n",
    "#college['womenonly'].unique()\n",
    "\n",
    "men_college = college[college['menonly']==1]\n",
    "women_college = college[college['womenonly']==1]\n",
    "non_gender_college = college[(college['menonly']==0) & (college['womenonly']==0)]"
   ]
  },
  {
   "cell_type": "code",
   "execution_count": 18,
   "id": "11709e4e",
   "metadata": {},
   "outputs": [
    {
     "name": "stdout",
     "output_type": "stream",
     "text": [
      "Men-only college verbal SAT mean: 558.0\n",
      "Women-only college verbal SAT mean: 548.4\n",
      "non gender specific college verbal SAT mean: 522.1134199134199\n",
      "\n",
      "\n",
      "Men-only college verbal SAT standard deviation: 52.49761899362675\n",
      "Women-only college verbal SAT standard deviation: 70.65703550720669\n",
      "non gender specific college verbal SAT standard deviation: 68.49748026328294\n",
      "\n",
      "\n",
      "Men-only college math SAT mean: 566.4\n",
      "Women-only college math SAT mean: 531.32\n",
      "non gender specific college math SAT mean: 530.6003430531732\n",
      "\n",
      "\n",
      "Men-only college math SAT standard deviation: 56.88848741177779\n",
      "Women-only college math SAT standard deviation: 71.7093206401139\n",
      "non gender specific college math SAT standard deviation: 73.58176532758233\n"
     ]
    }
   ],
   "source": [
    "print(f'Men-only college verbal SAT mean: {men_college[\"satvrmid\"].mean()}')\n",
    "print(f'Women-only college verbal SAT mean: {women_college[\"satvrmid\"].mean()}')\n",
    "print(f'non gender specific college verbal SAT mean: {non_gender_college[\"satvrmid\"].mean()}\\n\\n')\n",
    "\n",
    "print(f'Men-only college verbal SAT standard deviation: {men_college[\"satvrmid\"].std()}')\n",
    "print(f'Women-only college verbal SAT standard deviation: {women_college[\"satvrmid\"].std()}')\n",
    "print(f'non gender specific college verbal SAT standard deviation: {non_gender_college[\"satvrmid\"].std()}\\n\\n')\n",
    "\n",
    "print(f'Men-only college math SAT mean: {men_college[\"satmtmid\"].mean()}')\n",
    "print(f'Women-only college math SAT mean: {women_college[\"satmtmid\"].mean()}')\n",
    "print(f'non gender specific college math SAT mean: {non_gender_college[\"satmtmid\"].mean()}\\n\\n')\n",
    "\n",
    "print(f'Men-only college math SAT standard deviation: {men_college[\"satmtmid\"].std()}')\n",
    "print(f'Women-only college math SAT standard deviation: {women_college[\"satmtmid\"].std()}')\n",
    "print(f'non gender specific college math SAT standard deviation: {non_gender_college[\"satmtmid\"].std()}')"
   ]
  },
  {
   "cell_type": "markdown",
   "id": "e5ea5a31",
   "metadata": {},
   "source": [
    "## Exercise 6. Find the top 3 universities with largest numbers of undergraduate students for each state"
   ]
  },
  {
   "cell_type": "code",
   "execution_count": 19,
   "id": "0aeb3f2f",
   "metadata": {},
   "outputs": [
    {
     "data": {
      "text/html": [
       "<div>\n",
       "<style scoped>\n",
       "    .dataframe tbody tr th:only-of-type {\n",
       "        vertical-align: middle;\n",
       "    }\n",
       "\n",
       "    .dataframe tbody tr th {\n",
       "        vertical-align: top;\n",
       "    }\n",
       "\n",
       "    .dataframe thead th {\n",
       "        text-align: right;\n",
       "    }\n",
       "</style>\n",
       "<table border=\"1\" class=\"dataframe\">\n",
       "  <thead>\n",
       "    <tr style=\"text-align: right;\">\n",
       "      <th></th>\n",
       "      <th>instnm</th>\n",
       "      <th>ugds</th>\n",
       "    </tr>\n",
       "    <tr>\n",
       "      <th>stabbr</th>\n",
       "      <th></th>\n",
       "      <th></th>\n",
       "    </tr>\n",
       "  </thead>\n",
       "  <tbody>\n",
       "    <tr>\n",
       "      <th>MA</th>\n",
       "      <td>University of Massachusetts-Amherst</td>\n",
       "      <td>21864.0</td>\n",
       "    </tr>\n",
       "    <tr>\n",
       "      <th>MA</th>\n",
       "      <td>Boston University</td>\n",
       "      <td>16457.0</td>\n",
       "    </tr>\n",
       "    <tr>\n",
       "      <th>MA</th>\n",
       "      <td>Northeastern University</td>\n",
       "      <td>13492.0</td>\n",
       "    </tr>\n",
       "  </tbody>\n",
       "</table>\n",
       "</div>"
      ],
      "text/plain": [
       "                                     instnm     ugds\n",
       "stabbr                                              \n",
       "MA      University of Massachusetts-Amherst  21864.0\n",
       "MA                        Boston University  16457.0\n",
       "MA                  Northeastern University  13492.0"
      ]
     },
     "execution_count": 19,
     "metadata": {},
     "output_type": "execute_result"
    }
   ],
   "source": [
    "college_copy = college.copy()\n",
    "college_copy = college_copy.set_index('instnm')\n",
    "top_3_state= college_copy.groupby('stabbr')['ugds'].nlargest(3).to_frame().reset_index().set_index('stabbr')\n",
    "top_3_state.loc['MA'] # locate any state\n",
    "# top_3_state"
   ]
  },
  {
   "cell_type": "markdown",
   "id": "4daaf7a3",
   "metadata": {},
   "source": [
    "## Using `emp.csv` for the following questions:\n",
    "### Exercise 7. Generate a DataFrame for the ratios of (number of employees of specific gender and race/total number of employees) for all race-gender combinations. \n"
   ]
  },
  {
   "cell_type": "code",
   "execution_count": 20,
   "id": "2acdd8ec",
   "metadata": {},
   "outputs": [
    {
     "data": {
      "text/html": [
       "<div>\n",
       "<style scoped>\n",
       "    .dataframe tbody tr th:only-of-type {\n",
       "        vertical-align: middle;\n",
       "    }\n",
       "\n",
       "    .dataframe tbody tr th {\n",
       "        vertical-align: top;\n",
       "    }\n",
       "\n",
       "    .dataframe thead th {\n",
       "        text-align: right;\n",
       "    }\n",
       "</style>\n",
       "<table border=\"1\" class=\"dataframe\">\n",
       "  <thead>\n",
       "    <tr style=\"text-align: right;\">\n",
       "      <th></th>\n",
       "      <th>title</th>\n",
       "      <th>dept</th>\n",
       "      <th>salary</th>\n",
       "      <th>race</th>\n",
       "      <th>gender</th>\n",
       "      <th>hire_date</th>\n",
       "    </tr>\n",
       "  </thead>\n",
       "  <tbody>\n",
       "    <tr>\n",
       "      <th>0</th>\n",
       "      <td>POLICE OFFICER</td>\n",
       "      <td>Houston Police Department-HPD</td>\n",
       "      <td>45279.0</td>\n",
       "      <td>White</td>\n",
       "      <td>Male</td>\n",
       "      <td>2015-02-03</td>\n",
       "    </tr>\n",
       "    <tr>\n",
       "      <th>1</th>\n",
       "      <td>ENGINEER/OPERATOR</td>\n",
       "      <td>Houston Fire Department (HFD)</td>\n",
       "      <td>63166.0</td>\n",
       "      <td>White</td>\n",
       "      <td>Male</td>\n",
       "      <td>1982-02-08</td>\n",
       "    </tr>\n",
       "    <tr>\n",
       "      <th>2</th>\n",
       "      <td>SENIOR POLICE OFFICER</td>\n",
       "      <td>Houston Police Department-HPD</td>\n",
       "      <td>66614.0</td>\n",
       "      <td>Black</td>\n",
       "      <td>Male</td>\n",
       "      <td>1984-11-26</td>\n",
       "    </tr>\n",
       "    <tr>\n",
       "      <th>3</th>\n",
       "      <td>ENGINEER</td>\n",
       "      <td>Public Works &amp; Engineering-PWE</td>\n",
       "      <td>71680.0</td>\n",
       "      <td>Asian</td>\n",
       "      <td>Male</td>\n",
       "      <td>2012-03-26</td>\n",
       "    </tr>\n",
       "    <tr>\n",
       "      <th>4</th>\n",
       "      <td>CARPENTER</td>\n",
       "      <td>Houston Airport System (HAS)</td>\n",
       "      <td>42390.0</td>\n",
       "      <td>White</td>\n",
       "      <td>Male</td>\n",
       "      <td>2013-11-04</td>\n",
       "    </tr>\n",
       "  </tbody>\n",
       "</table>\n",
       "</div>"
      ],
      "text/plain": [
       "                   title                            dept   salary   race  \\\n",
       "0         POLICE OFFICER   Houston Police Department-HPD  45279.0  White   \n",
       "1      ENGINEER/OPERATOR   Houston Fire Department (HFD)  63166.0  White   \n",
       "2  SENIOR POLICE OFFICER   Houston Police Department-HPD  66614.0  Black   \n",
       "3               ENGINEER  Public Works & Engineering-PWE  71680.0  Asian   \n",
       "4              CARPENTER    Houston Airport System (HAS)  42390.0  White   \n",
       "\n",
       "  gender   hire_date  \n",
       "0   Male  2015-02-03  \n",
       "1   Male  1982-02-08  \n",
       "2   Male  1984-11-26  \n",
       "3   Male  2012-03-26  \n",
       "4   Male  2013-11-04  "
      ]
     },
     "execution_count": 20,
     "metadata": {},
     "output_type": "execute_result"
    }
   ],
   "source": [
    "emp = pd.read_csv('data/employee.csv')\n",
    "emp.head()"
   ]
  },
  {
   "cell_type": "code",
   "execution_count": 21,
   "id": "ad7cd72d",
   "metadata": {},
   "outputs": [
    {
     "data": {
      "text/plain": [
       "(1653, 6)"
      ]
     },
     "execution_count": 21,
     "metadata": {},
     "output_type": "execute_result"
    }
   ],
   "source": [
    "emp.shape # 1653 employees ttl"
   ]
  },
  {
   "cell_type": "code",
   "execution_count": 22,
   "id": "c546647e",
   "metadata": {},
   "outputs": [
    {
     "data": {
      "text/plain": [
       "title          0\n",
       "dept           0\n",
       "salary       102\n",
       "race          20\n",
       "gender         0\n",
       "hire_date      0\n",
       "dtype: int64"
      ]
     },
     "execution_count": 22,
     "metadata": {},
     "output_type": "execute_result"
    }
   ],
   "source": [
    "emp.isna().sum()"
   ]
  },
  {
   "cell_type": "code",
   "execution_count": 23,
   "id": "be2ce5cf",
   "metadata": {},
   "outputs": [
    {
     "data": {
      "text/plain": [
       "array(['White', 'Black', 'Asian', 'Non_specified', 'Hispanic',\n",
       "       'Native American'], dtype=object)"
      ]
     },
     "execution_count": 23,
     "metadata": {},
     "output_type": "execute_result"
    }
   ],
   "source": [
    "emp_noNaN = emp.replace(np.nan,'Non_specified')\n",
    "emp_noNaN['race'].unique()"
   ]
  },
  {
   "cell_type": "code",
   "execution_count": 24,
   "id": "2de0900d",
   "metadata": {},
   "outputs": [
    {
     "data": {
      "text/html": [
       "<div>\n",
       "<style scoped>\n",
       "    .dataframe tbody tr th:only-of-type {\n",
       "        vertical-align: middle;\n",
       "    }\n",
       "\n",
       "    .dataframe tbody tr th {\n",
       "        vertical-align: top;\n",
       "    }\n",
       "\n",
       "    .dataframe thead th {\n",
       "        text-align: right;\n",
       "    }\n",
       "</style>\n",
       "<table border=\"1\" class=\"dataframe\">\n",
       "  <thead>\n",
       "    <tr style=\"text-align: right;\">\n",
       "      <th></th>\n",
       "      <th></th>\n",
       "      <th>Population Proportion Over Total</th>\n",
       "    </tr>\n",
       "    <tr>\n",
       "      <th>race</th>\n",
       "      <th>gender</th>\n",
       "      <th></th>\n",
       "    </tr>\n",
       "  </thead>\n",
       "  <tbody>\n",
       "    <tr>\n",
       "      <th rowspan=\"2\" valign=\"top\">Asian</th>\n",
       "      <th>Female</th>\n",
       "      <td>1.088929</td>\n",
       "    </tr>\n",
       "    <tr>\n",
       "      <th>Male</th>\n",
       "      <td>4.234725</td>\n",
       "    </tr>\n",
       "    <tr>\n",
       "      <th rowspan=\"2\" valign=\"top\">Black</th>\n",
       "      <th>Female</th>\n",
       "      <td>13.067151</td>\n",
       "    </tr>\n",
       "    <tr>\n",
       "      <th>Male</th>\n",
       "      <td>19.721718</td>\n",
       "    </tr>\n",
       "    <tr>\n",
       "      <th rowspan=\"2\" valign=\"top\">Hispanic</th>\n",
       "      <th>Female</th>\n",
       "      <td>6.110103</td>\n",
       "    </tr>\n",
       "    <tr>\n",
       "      <th>Male</th>\n",
       "      <td>17.785844</td>\n",
       "    </tr>\n",
       "    <tr>\n",
       "      <th rowspan=\"2\" valign=\"top\">Native American</th>\n",
       "      <th>Female</th>\n",
       "      <td>0.241984</td>\n",
       "    </tr>\n",
       "    <tr>\n",
       "      <th>Male</th>\n",
       "      <td>0.241984</td>\n",
       "    </tr>\n",
       "    <tr>\n",
       "      <th rowspan=\"2\" valign=\"top\">Non_specified</th>\n",
       "      <th>Female</th>\n",
       "      <td>0.483969</td>\n",
       "    </tr>\n",
       "    <tr>\n",
       "      <th>Male</th>\n",
       "      <td>0.725953</td>\n",
       "    </tr>\n",
       "    <tr>\n",
       "      <th rowspan=\"2\" valign=\"top\">White</th>\n",
       "      <th>Female</th>\n",
       "      <td>4.718693</td>\n",
       "    </tr>\n",
       "    <tr>\n",
       "      <th>Male</th>\n",
       "      <td>31.578947</td>\n",
       "    </tr>\n",
       "  </tbody>\n",
       "</table>\n",
       "</div>"
      ],
      "text/plain": [
       "                        Population Proportion Over Total\n",
       "race            gender                                  \n",
       "Asian           Female                          1.088929\n",
       "                Male                            4.234725\n",
       "Black           Female                         13.067151\n",
       "                Male                           19.721718\n",
       "Hispanic        Female                          6.110103\n",
       "                Male                           17.785844\n",
       "Native American Female                          0.241984\n",
       "                Male                            0.241984\n",
       "Non_specified   Female                          0.483969\n",
       "                Male                            0.725953\n",
       "White           Female                          4.718693\n",
       "                Male                           31.578947"
      ]
     },
     "execution_count": 24,
     "metadata": {},
     "output_type": "execute_result"
    }
   ],
   "source": [
    "emp_noNaN.groupby(['race','gender'])['gender'].count()*100/emp_noNaN.shape[0]\n",
    "emp_gender_race = (emp_noNaN.groupby(['race','gender'])['gender'].count()*100/emp_noNaN.shape[0]).to_frame()\n",
    "emp_gender_race = emp_gender_race.rename(columns={\"gender\": \"Population Proportion Over Total\"})\n",
    "emp_gender_race"
   ]
  },
  {
   "cell_type": "markdown",
   "id": "4e13e678",
   "metadata": {},
   "source": [
    "### Exercise 8. Use `pd.melt()` to unpivot table `pv3` to the format of `pv4` in example above.\n",
    "Result: pv5"
   ]
  },
  {
   "cell_type": "code",
   "execution_count": 25,
   "id": "777af0e0",
   "metadata": {},
   "outputs": [
    {
     "data": {
      "text/html": [
       "<div>\n",
       "<style scoped>\n",
       "    .dataframe tbody tr th:only-of-type {\n",
       "        vertical-align: middle;\n",
       "    }\n",
       "\n",
       "    .dataframe tbody tr th {\n",
       "        vertical-align: top;\n",
       "    }\n",
       "\n",
       "    .dataframe thead th {\n",
       "        text-align: right;\n",
       "    }\n",
       "</style>\n",
       "<table border=\"1\" class=\"dataframe\">\n",
       "  <thead>\n",
       "    <tr style=\"text-align: right;\">\n",
       "      <th>race</th>\n",
       "      <th>gender</th>\n",
       "      <th>Asian</th>\n",
       "      <th>Black</th>\n",
       "      <th>Hispanic</th>\n",
       "      <th>Native American</th>\n",
       "      <th>White</th>\n",
       "    </tr>\n",
       "  </thead>\n",
       "  <tbody>\n",
       "    <tr>\n",
       "      <th>0</th>\n",
       "      <td>Female</td>\n",
       "      <td>58000.0</td>\n",
       "      <td>48000.0</td>\n",
       "      <td>44000.0</td>\n",
       "      <td>59000.0</td>\n",
       "      <td>66000.0</td>\n",
       "    </tr>\n",
       "    <tr>\n",
       "      <th>1</th>\n",
       "      <td>Male</td>\n",
       "      <td>61000.0</td>\n",
       "      <td>52000.0</td>\n",
       "      <td>55000.0</td>\n",
       "      <td>69000.0</td>\n",
       "      <td>63000.0</td>\n",
       "    </tr>\n",
       "  </tbody>\n",
       "</table>\n",
       "</div>"
      ],
      "text/plain": [
       "race  gender    Asian    Black  Hispanic  Native American    White\n",
       "0     Female  58000.0  48000.0   44000.0          59000.0  66000.0\n",
       "1       Male  61000.0  52000.0   55000.0          69000.0  63000.0"
      ]
     },
     "execution_count": 25,
     "metadata": {},
     "output_type": "execute_result"
    }
   ],
   "source": [
    "pv2 = emp.pivot_table(index='gender', columns='race', \n",
    "                      values='salary', aggfunc='mean').round(-3)\n",
    "pv3 = pv2.reset_index()\n",
    "pv3 "
   ]
  },
  {
   "cell_type": "code",
   "execution_count": 26,
   "id": "5bf32b75",
   "metadata": {},
   "outputs": [
    {
     "data": {
      "text/html": [
       "<div>\n",
       "<style scoped>\n",
       "    .dataframe tbody tr th:only-of-type {\n",
       "        vertical-align: middle;\n",
       "    }\n",
       "\n",
       "    .dataframe tbody tr th {\n",
       "        vertical-align: top;\n",
       "    }\n",
       "\n",
       "    .dataframe thead th {\n",
       "        text-align: right;\n",
       "    }\n",
       "</style>\n",
       "<table border=\"1\" class=\"dataframe\">\n",
       "  <thead>\n",
       "    <tr style=\"text-align: right;\">\n",
       "      <th></th>\n",
       "      <th>gender</th>\n",
       "      <th>race</th>\n",
       "      <th>0</th>\n",
       "    </tr>\n",
       "  </thead>\n",
       "  <tbody>\n",
       "    <tr>\n",
       "      <th>0</th>\n",
       "      <td>Female</td>\n",
       "      <td>Asian</td>\n",
       "      <td>58000.0</td>\n",
       "    </tr>\n",
       "    <tr>\n",
       "      <th>1</th>\n",
       "      <td>Female</td>\n",
       "      <td>Black</td>\n",
       "      <td>48000.0</td>\n",
       "    </tr>\n",
       "    <tr>\n",
       "      <th>2</th>\n",
       "      <td>Female</td>\n",
       "      <td>Hispanic</td>\n",
       "      <td>44000.0</td>\n",
       "    </tr>\n",
       "    <tr>\n",
       "      <th>3</th>\n",
       "      <td>Female</td>\n",
       "      <td>Native American</td>\n",
       "      <td>59000.0</td>\n",
       "    </tr>\n",
       "    <tr>\n",
       "      <th>4</th>\n",
       "      <td>Female</td>\n",
       "      <td>White</td>\n",
       "      <td>66000.0</td>\n",
       "    </tr>\n",
       "    <tr>\n",
       "      <th>5</th>\n",
       "      <td>Male</td>\n",
       "      <td>Asian</td>\n",
       "      <td>61000.0</td>\n",
       "    </tr>\n",
       "    <tr>\n",
       "      <th>6</th>\n",
       "      <td>Male</td>\n",
       "      <td>Black</td>\n",
       "      <td>52000.0</td>\n",
       "    </tr>\n",
       "    <tr>\n",
       "      <th>7</th>\n",
       "      <td>Male</td>\n",
       "      <td>Hispanic</td>\n",
       "      <td>55000.0</td>\n",
       "    </tr>\n",
       "    <tr>\n",
       "      <th>8</th>\n",
       "      <td>Male</td>\n",
       "      <td>Native American</td>\n",
       "      <td>69000.0</td>\n",
       "    </tr>\n",
       "    <tr>\n",
       "      <th>9</th>\n",
       "      <td>Male</td>\n",
       "      <td>White</td>\n",
       "      <td>63000.0</td>\n",
       "    </tr>\n",
       "  </tbody>\n",
       "</table>\n",
       "</div>"
      ],
      "text/plain": [
       "   gender             race        0\n",
       "0  Female            Asian  58000.0\n",
       "1  Female            Black  48000.0\n",
       "2  Female         Hispanic  44000.0\n",
       "3  Female  Native American  59000.0\n",
       "4  Female            White  66000.0\n",
       "5    Male            Asian  61000.0\n",
       "6    Male            Black  52000.0\n",
       "7    Male         Hispanic  55000.0\n",
       "8    Male  Native American  69000.0\n",
       "9    Male            White  63000.0"
      ]
     },
     "execution_count": 26,
     "metadata": {},
     "output_type": "execute_result"
    }
   ],
   "source": [
    "pv4 = pv2.stack().reset_index()\n",
    "pv4"
   ]
  },
  {
   "cell_type": "code",
   "execution_count": 27,
   "id": "4ced24b5",
   "metadata": {},
   "outputs": [
    {
     "data": {
      "text/html": [
       "<div>\n",
       "<style scoped>\n",
       "    .dataframe tbody tr th:only-of-type {\n",
       "        vertical-align: middle;\n",
       "    }\n",
       "\n",
       "    .dataframe tbody tr th {\n",
       "        vertical-align: top;\n",
       "    }\n",
       "\n",
       "    .dataframe thead th {\n",
       "        text-align: right;\n",
       "    }\n",
       "</style>\n",
       "<table border=\"1\" class=\"dataframe\">\n",
       "  <thead>\n",
       "    <tr style=\"text-align: right;\">\n",
       "      <th></th>\n",
       "      <th>gender</th>\n",
       "      <th>race</th>\n",
       "      <th>0</th>\n",
       "    </tr>\n",
       "  </thead>\n",
       "  <tbody>\n",
       "    <tr>\n",
       "      <th>0</th>\n",
       "      <td>Female</td>\n",
       "      <td>Asian</td>\n",
       "      <td>58000.0</td>\n",
       "    </tr>\n",
       "    <tr>\n",
       "      <th>1</th>\n",
       "      <td>Female</td>\n",
       "      <td>Black</td>\n",
       "      <td>48000.0</td>\n",
       "    </tr>\n",
       "    <tr>\n",
       "      <th>2</th>\n",
       "      <td>Female</td>\n",
       "      <td>Hispanic</td>\n",
       "      <td>44000.0</td>\n",
       "    </tr>\n",
       "    <tr>\n",
       "      <th>3</th>\n",
       "      <td>Female</td>\n",
       "      <td>Native American</td>\n",
       "      <td>59000.0</td>\n",
       "    </tr>\n",
       "    <tr>\n",
       "      <th>4</th>\n",
       "      <td>Female</td>\n",
       "      <td>White</td>\n",
       "      <td>66000.0</td>\n",
       "    </tr>\n",
       "    <tr>\n",
       "      <th>5</th>\n",
       "      <td>Male</td>\n",
       "      <td>Asian</td>\n",
       "      <td>61000.0</td>\n",
       "    </tr>\n",
       "    <tr>\n",
       "      <th>6</th>\n",
       "      <td>Male</td>\n",
       "      <td>Black</td>\n",
       "      <td>52000.0</td>\n",
       "    </tr>\n",
       "    <tr>\n",
       "      <th>7</th>\n",
       "      <td>Male</td>\n",
       "      <td>Hispanic</td>\n",
       "      <td>55000.0</td>\n",
       "    </tr>\n",
       "    <tr>\n",
       "      <th>8</th>\n",
       "      <td>Male</td>\n",
       "      <td>Native American</td>\n",
       "      <td>69000.0</td>\n",
       "    </tr>\n",
       "    <tr>\n",
       "      <th>9</th>\n",
       "      <td>Male</td>\n",
       "      <td>White</td>\n",
       "      <td>63000.0</td>\n",
       "    </tr>\n",
       "  </tbody>\n",
       "</table>\n",
       "</div>"
      ],
      "text/plain": [
       "   gender             race        0\n",
       "0  Female            Asian  58000.0\n",
       "1  Female            Black  48000.0\n",
       "2  Female         Hispanic  44000.0\n",
       "3  Female  Native American  59000.0\n",
       "4  Female            White  66000.0\n",
       "5    Male            Asian  61000.0\n",
       "6    Male            Black  52000.0\n",
       "7    Male         Hispanic  55000.0\n",
       "8    Male  Native American  69000.0\n",
       "9    Male            White  63000.0"
      ]
     },
     "execution_count": 27,
     "metadata": {},
     "output_type": "execute_result"
    }
   ],
   "source": [
    "pv5 = pv3.melt(id_vars=['gender'],var_name=['race'],value_name='0').sort_values('gender').reset_index().drop(columns=['index'])\n",
    "pv5"
   ]
  }
 ],
 "metadata": {
  "kernelspec": {
   "display_name": "Python 3 (ipykernel)",
   "language": "python",
   "name": "python3"
  },
  "language_info": {
   "codemirror_mode": {
    "name": "ipython",
    "version": 3
   },
   "file_extension": ".py",
   "mimetype": "text/x-python",
   "name": "python",
   "nbconvert_exporter": "python",
   "pygments_lexer": "ipython3",
   "version": "3.10.8"
  }
 },
 "nbformat": 4,
 "nbformat_minor": 5
}
