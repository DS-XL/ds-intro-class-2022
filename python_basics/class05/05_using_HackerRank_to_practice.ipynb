{
 "cells": [
  {
   "cell_type": "markdown",
   "metadata": {},
   "source": [
    "# Intro to Python3 - Class05\n",
    "\n",
    "### Class agenda:\n",
    "##### 9. Using HackerRank to practice your programming skill\n",
    "\n",
    "\n",
    "## 9. Using HackerRank to practice your programming skill\n",
    "There are lots of online resources you can use to practice data structure and algo. Two popular options are [Leet Code](https://leetcode.com/problemset/all/?page=1) and Hacker Rank. Many companies use them for interviews too. So if you practice and get familairized with the interface, you might already set yourself up for success.\n",
    "\n",
    "I'll take HackerRank to examples in this class. Let's look at a problem together and learn about the website.\n",
    "\n",
    "- [if-else problem](https://www.hackerrank.com/challenges/py-if-else/problem)"
   ]
  },
  {
   "cell_type": "code",
   "execution_count": 14,
   "metadata": {},
   "outputs": [
    {
     "name": "stdout",
     "output_type": "stream",
     "text": [
      "5 4\n"
     ]
    }
   ],
   "source": [
    "numbers = (1, 2, 3, 4, 5, 6, 7, 8, 9)\n",
    "odd = []\n",
    "even = []\n",
    "for num in numbers:\n",
    "    if num % 2 ==1:\n",
    "        odd.append(num)\n",
    "    if num % 2 ==0:\n",
    "        even.append(num)\n",
    "\n",
    "odd1= len(odd)\n",
    "even1 = len(even)\n",
    "print(odd1, even1)"
   ]
  },
  {
   "cell_type": "code",
   "execution_count": null,
   "metadata": {},
   "outputs": [],
   "source": [
    "#!/bin/python3\n",
    "\n",
    "import math\n",
    "import os\n",
    "import random\n",
    "import re\n",
    "import sys\n",
    "\n",
    "\n",
    "\n",
    "if __name__ == '__main__':\n",
    "    n = int(input().strip())\n",
    "    if n % 2:\n",
    "        print('Weird')\n",
    "    elif n <= 5 or n > 20:\n",
    "        print('Not Weird')\n",
    "    else:\n",
    "        print('Weird')"
   ]
  },
  {
   "cell_type": "markdown",
   "metadata": {},
   "source": [
    "Solving the problem is the first step, then you can challeng yourself to use less and less compexity in your solution. Let's take the following problem as an example\n",
    "\n",
    "- [mini-max-sum](https://www.hackerrank.com/challenges/mini-max-sum/problem)"
   ]
  },
  {
   "cell_type": "code",
   "execution_count": 1,
   "metadata": {},
   "outputs": [
    {
     "name": "stdout",
     "output_type": "stream",
     "text": [
      "23 1 2 4 8\n",
      "(15, 37)\n"
     ]
    }
   ],
   "source": [
    "import math\n",
    "import os\n",
    "import random\n",
    "import re\n",
    "import sys\n",
    "\n",
    "# Complete the miniMaxSum function below.\n",
    "def miniMaxSum(arr):\n",
    "    # nlog(n)\n",
    "    s_arr = sorted(arr)\n",
    "    # n\n",
    "    return(sum(s_arr[:4]), sum(s_arr[-4:]))\n",
    "\n",
    "if __name__ == '__main__':\n",
    "    arr = list(map(int, input().rstrip().split()))\n",
    "    \n",
    "    print(miniMaxSum(arr))"
   ]
  },
  {
   "cell_type": "code",
   "execution_count": 3,
   "metadata": {},
   "outputs": [
    {
     "name": "stdout",
     "output_type": "stream",
     "text": [
      "23 1 2 4 8\n",
      "(15, 37)\n"
     ]
    }
   ],
   "source": [
    "def miniMaxSum_2(arr):\n",
    "    # n\n",
    "    asum = sum(arr)\n",
    "    # 2n\n",
    "    return(asum - max(arr), asum - min(arr))\n",
    "\n",
    "if __name__ == '__main__':\n",
    "    arr = list(map(int, input().rstrip().split()))\n",
    "    \n",
    "    print(miniMaxSum(arr))"
   ]
  },
  {
   "cell_type": "code",
   "execution_count": 4,
   "metadata": {},
   "outputs": [
    {
     "name": "stdout",
     "output_type": "stream",
     "text": [
      "23 1 2 4 8\n",
      "(15, 37)\n"
     ]
    }
   ],
   "source": [
    "def miniMaxSum_3(arr):\n",
    "    # n\n",
    "    amin = math.inf\n",
    "    amax = -math.inf\n",
    "    asum = 0\n",
    "    for a in arr:\n",
    "        if a < amin: amin = a\n",
    "        if a > amax: amax = a\n",
    "        asum += a\n",
    "    return(asum - amax, asum - amin)\n",
    "\n",
    "if __name__ == '__main__':\n",
    "    arr = list(map(int, input().rstrip().split()))\n",
    "    \n",
    "    print(miniMaxSum(arr))"
   ]
  },
  {
   "cell_type": "code",
   "execution_count": 8,
   "metadata": {},
   "outputs": [
    {
     "data": {
      "text/plain": [
       "array([185, 425, 906, 202, 782, 485, 474, 149, 560, 957, 876,  43, 259,\n",
       "       857, 635, 989, 476, 191, 307, 392, 283, 157, 194, 540, 598, 339,\n",
       "       379, 542, 494, 335, 222, 772, 925, 453, 369, 208, 821, 930, 432,\n",
       "        29, 421, 922, 353, 959, 459, 657, 892, 436, 902, 714, 295, 821,\n",
       "       249, 790, 175,  49, 410, 324, 946, 692, 173, 633, 708, 685, 206,\n",
       "        43, 936, 405, 273, 449, 539, 681, 408, 135, 693, 575, 616, 191,\n",
       "       224, 279, 694, 171, 702, 723, 750, 517, 504, 615, 821, 265, 374,\n",
       "       451, 178, 496, 237, 790, 118, 562, 525, 766,   9, 344, 920, 769,\n",
       "       539, 155,   1, 428, 842, 865, 952, 546, 370, 987, 619, 811, 695,\n",
       "       979, 397,  60,  60, 567, 562, 740, 175, 155, 805, 956, 292, 739,\n",
       "       325, 107, 561, 791, 145, 848, 393, 808, 406, 682, 905, 805, 832,\n",
       "       813, 523, 398, 262, 988, 860, 945, 863, 140, 572, 357, 139, 991,\n",
       "       182, 897,  37, 498, 156, 613, 816, 215, 530, 738, 851, 183, 846,\n",
       "       252, 732, 869,   2, 908, 265, 325, 344, 268, 290, 398,  78, 898,\n",
       "       806, 400, 397, 902, 473, 526, 261, 779, 964,  40, 936, 311, 620,\n",
       "       830, 414, 328, 107, 989])"
      ]
     },
     "execution_count": 8,
     "metadata": {},
     "output_type": "execute_result"
    }
   ],
   "source": [
    "from numpy import random\n",
    "a1 = random.randint(1, 1000, 200)\n",
    "a1"
   ]
  },
  {
   "cell_type": "code",
   "execution_count": 5,
   "metadata": {},
   "outputs": [
    {
     "name": "stdout",
     "output_type": "stream",
     "text": [
      "53 µs ± 2.19 µs per loop (mean ± std. dev. of 7 runs, 10000 loops each)\n"
     ]
    }
   ],
   "source": [
    "%timeit miniMaxSum(a1)"
   ]
  },
  {
   "cell_type": "code",
   "execution_count": 6,
   "metadata": {},
   "outputs": [
    {
     "name": "stdout",
     "output_type": "stream",
     "text": [
      "73.8 µs ± 1.77 µs per loop (mean ± std. dev. of 7 runs, 10000 loops each)\n"
     ]
    }
   ],
   "source": [
    "%timeit miniMaxSum_2(a1)"
   ]
  },
  {
   "cell_type": "code",
   "execution_count": 7,
   "metadata": {},
   "outputs": [
    {
     "name": "stdout",
     "output_type": "stream",
     "text": [
      "60.8 µs ± 1.53 µs per loop (mean ± std. dev. of 7 runs, 10000 loops each)\n"
     ]
    }
   ],
   "source": [
    "%timeit miniMaxSum_3(a1)"
   ]
  },
  {
   "cell_type": "code",
   "execution_count": 9,
   "metadata": {},
   "outputs": [],
   "source": [
    "import numpy as np\n",
    "import timeit\n",
    "import pandas as pd\n",
    "%matplotlib inline"
   ]
  },
  {
   "cell_type": "code",
   "execution_count": 62,
   "metadata": {},
   "outputs": [
    {
     "data": {
      "text/plain": [
       "<matplotlib.axes._subplots.AxesSubplot at 0x117b35048>"
      ]
     },
     "execution_count": 62,
     "metadata": {},
     "output_type": "execute_result"
    },
    {
     "data": {
      "image/png": "[encoded data removed]",
      "text/plain": [
       "<Figure size 432x288 with 1 Axes>"
      ]
     },
     "metadata": {
      "needs_background": "light"
     },
     "output_type": "display_data"
    }
   ],
   "source": [
    "performance = {}\n",
    "\n",
    "for n in np.logspace(1, 6, num=20):\n",
    "    sample_size = int(np.ceil(n))\n",
    "    a = np.random.randint(1, 1000, sample_size)\n",
    "    t1 = timeit.timeit('miniMaxSum(a)','from __main__ import miniMaxSum, a', number=100)\n",
    "    t2 = timeit.timeit('miniMaxSum_2(a)','from __main__ import miniMaxSum_2, a', number=100)\n",
    "    t3 = timeit.timeit('miniMaxSum_3(a)','from __main__ import miniMaxSum_3, a', number=100)\n",
    "    performance[sample_size] = (t1, t2, t3)\n",
    "    \n",
    "perf_df = pd.DataFrame.from_dict(performance, orient='index')\n",
    "perf_df.plot(kind='line')"
   ]
  },
  {
   "cell_type": "markdown",
   "metadata": {},
   "source": [
    " ### Other good practice resources\n",
    " \n",
    " \n",
    "Object-oriented programming (OOP):\n",
    " - Tutorial: https://realpython.com/courses/intro-object-oriented-programming-oop-python/\n",
    " - Youtube tutorial: https://youtu.be/JeznW_7DlB0\n",
    " \n",
    "Usually DA/Analytics DS interview requires good SQL/python data manipulation skills, experimentation skills, and/or data visualization using python. We will cover python for data analysis in the next module.\n",
    " \n",
    "Some DS/DE positions will required understanding of data structure and algorithm, best way to prepare is to practice with actual coding problems.\n",
    " \n",
    " - [LeetCode](https://leetcode.com/problemset/all/?page=1)\n",
    " - [CodeSignal](https://codesignal.com/)"
   ]
  },
  {
   "cell_type": "markdown",
   "metadata": {},
   "source": [
    "## 10. SQL crash course\n",
    "\n",
    "SQL crash course: https://sqlcrashcourse.com/lessons/ \n",
    "- basic statements\n",
    "- joins\n",
    "- aggregation with `group by`\n",
    "- window function (advanced)\n",
    "- table alternation\n",
    "\n",
    "Order of execution matters!\n",
    "\n",
    "Other resources:\n",
    "- SQLbolt: https://sqlbolt.com/lesson/select_queries_order_of_execution\n",
    "- Mode Analytics: https://mode.com/sql-tutorial/intro-to-advanced-sql/"
   ]
  },
  {
   "cell_type": "markdown",
   "metadata": {},
   "source": [
    "![execution_order](IMG_7760.JPG)"
   ]
  },
  {
   "cell_type": "markdown",
   "metadata": {},
   "source": [
    "## 11. Intro to A/B testing\n",
    "\n",
    " - [A/B testing intro (reading assignment, not covered)](https://cxl.com/blog/ab-testing-guide/)\n",
    " - [A/B testing application tips](https://ils.unc.edu/courses/2018_spring/inls509_001/lectures/14-AB-Testing.pdf)\n",
    " - [A/B testing tool](https://www.evanmiller.org/ab-testing/)\n",
    " - [Trustworthy online experiemtns](https://experimentguide.com/wp-content/uploads/TrustworthyOnlineControlledExperiments_PracticalGuideToABTesting_Chapter1.pdf)\n",
    " - [A/B testing design](https://olgabelitskaya.github.io/P7_Design_an_A_B_Test_Overview.html)"
   ]
  },
  {
   "cell_type": "code",
   "execution_count": null,
   "metadata": {},
   "outputs": [],
   "source": []
  }
 ],
 "metadata": {
  "kernelspec": {
   "display_name": "Python 3",
   "language": "python",
   "name": "python3"
  },
  "language_info": {
   "codemirror_mode": {
    "name": "ipython",
    "version": 3
   },
   "file_extension": ".py",
   "mimetype": "text/x-python",
   "name": "python",
   "nbconvert_exporter": "python",
   "pygments_lexer": "ipython3",
   "version": "3.6.13"
  }
 },
 "nbformat": 4,
 "nbformat_minor": 2
}
