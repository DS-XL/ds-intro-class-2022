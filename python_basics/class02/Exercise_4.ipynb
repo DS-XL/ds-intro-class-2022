{
 "cells": [
  {
   "cell_type": "markdown",
   "id": "df2f0279",
   "metadata": {},
   "source": [
    "Exercise 4-1: 1. [Read more on `list`](https://docs.python.org/3/tutorial/datastructures.html#more-on-lists) and select 2 list methods not mentioned in class to give examples of using them."
   ]
  },
  {
   "cell_type": "markdown",
   "id": "adaaeb14",
   "metadata": {},
   "source": [
    "Exercise 4-2: How can you check if a `key` is already in a dictionary? Give an example."
   ]
  },
  {
   "cell_type": "code",
   "execution_count": 5,
   "id": "071e1c8a",
   "metadata": {},
   "outputs": [
    {
     "name": "stdout",
     "output_type": "stream",
     "text": [
      "dict_keys(['A', 'B', 'C', 'D'])\n",
      "1\n"
     ]
    },
    {
     "ename": "KeyError",
     "evalue": "'F'",
     "output_type": "error",
     "traceback": [
      "\u001b[1;31m---------------------------------------------------------------------------\u001b[0m",
      "\u001b[1;31mKeyError\u001b[0m                                  Traceback (most recent call last)",
      "Cell \u001b[1;32mIn[5], line 4\u001b[0m\n\u001b[0;32m      2\u001b[0m \u001b[38;5;28mprint\u001b[39m(sample\u001b[38;5;241m.\u001b[39mkeys())\n\u001b[0;32m      3\u001b[0m \u001b[38;5;28mprint\u001b[39m(sample[\u001b[38;5;124m'\u001b[39m\u001b[38;5;124mA\u001b[39m\u001b[38;5;124m'\u001b[39m])\n\u001b[1;32m----> 4\u001b[0m \u001b[38;5;28mprint\u001b[39m(\u001b[43msample\u001b[49m\u001b[43m[\u001b[49m\u001b[38;5;124;43m'\u001b[39;49m\u001b[38;5;124;43mF\u001b[39;49m\u001b[38;5;124;43m'\u001b[39;49m\u001b[43m]\u001b[49m)\n",
      "\u001b[1;31mKeyError\u001b[0m: 'F'"
     ]
    }
   ],
   "source": [
    "sample = dict(A=1, B=2, C=3, D=4)\n",
    "print(sample.keys())\n",
    "print(sample['A'])\n",
    "print(sample['F'])"
   ]
  },
  {
   "cell_type": "code",
   "execution_count": 12,
   "id": "05259af2",
   "metadata": {},
   "outputs": [],
   "source": [
    "sample = dict(A=1, B=2, C=3, D=4)\n",
    "def check_keys(key):\n",
    "    if key in sample:\n",
    "        print(key, 'is in the dictionary.')\n",
    "    if key not in sample:\n",
    "        print(key, 'is not in the dictionary.')"
   ]
  },
  {
   "cell_type": "code",
   "execution_count": 8,
   "id": "b343c902",
   "metadata": {},
   "outputs": [
    {
     "name": "stdout",
     "output_type": "stream",
     "text": [
      "A is in the dictionary.\n"
     ]
    }
   ],
   "source": [
    "check_keys('A')"
   ]
  },
  {
   "cell_type": "code",
   "execution_count": 9,
   "id": "008f7ac0",
   "metadata": {},
   "outputs": [
    {
     "name": "stdout",
     "output_type": "stream",
     "text": [
      "F is not in the dictionary.\n"
     ]
    }
   ],
   "source": [
    "check_keys('F')"
   ]
  },
  {
   "cell_type": "markdown",
   "id": "82f2ad86",
   "metadata": {},
   "source": [
    "Exercise 4-3: Explore how [`Counter`](https://docs.python.org/3/library/collections.html#collections.Counter) works as another type of collection. Give 2 examples to use `Counter`."
   ]
  },
  {
   "cell_type": "code",
   "execution_count": 14,
   "id": "ed7e1eec",
   "metadata": {},
   "outputs": [
    {
     "name": "stdout",
     "output_type": "stream",
     "text": [
      "Counter({'l': 3, 'o': 2, 'h': 1, 'e': 1, ' ': 1, 'w': 1, 'r': 1, 'd': 1})\n",
      "Counter({'apple': 2, 'banana': 2, 'strawberry': 1, 'lemon': 1})\n"
     ]
    }
   ],
   "source": [
    "from collections import Counter\n",
    "\n",
    "# Count the frequency of each letter in a string\n",
    "string = \"hello world\"\n",
    "letter_count = Counter(string)\n",
    "\n",
    "print(letter_count)\n",
    "\n",
    "# Count the frequency of each word in a sentence\n",
    "sentence = \"apple banana apple strawberry banana lemon\"\n",
    "word_count = Counter(sentence.split())\n",
    "\n",
    "print(word_count)"
   ]
  },
  {
   "cell_type": "markdown",
   "id": "493ff775",
   "metadata": {},
   "source": [
    "Exercise 4-4: The Fibonacci Sequence is the series of numbers:\n",
    "0, 1, 1, 2, 3, 5, 8, 13, 21, 34, ...\n",
    "\n",
    "The next number is found by adding up the two numbers before it.\n",
    "Find the last element of the `fibolist`"
   ]
  },
  {
   "cell_type": "code",
   "execution_count": 15,
   "id": "611886ad",
   "metadata": {},
   "outputs": [
    {
     "data": {
      "text/plain": [
       "34"
      ]
     },
     "execution_count": 15,
     "metadata": {},
     "output_type": "execute_result"
    }
   ],
   "source": [
    "fibonacci = [0, 1, 1, 2, 3, 5, 8, 13, 21, 34]\n",
    "fibonacci[-1]"
   ]
  },
  {
   "cell_type": "markdown",
   "id": "9e7186ca",
   "metadata": {},
   "source": [
    "Exercise 4-5: Calculate the sum of `fibolist`"
   ]
  },
  {
   "cell_type": "code",
   "execution_count": 18,
   "id": "e90ec100",
   "metadata": {},
   "outputs": [
    {
     "data": {
      "text/plain": [
       "832039"
      ]
     },
     "execution_count": 18,
     "metadata": {},
     "output_type": "execute_result"
    }
   ],
   "source": [
    "fibolist=[0, 1, 1, 2, 3, 5, 8, 13, 21, 34, 55, 89, 144, 233, 377, 610, 987, 1597, 2584, 4181, 6765, 10946, 17711, 28657, 46368, 75025, 121393, 196418, 317811]\n",
    "\n",
    "sum(fibolist)\n"
   ]
  },
  {
   "cell_type": "markdown",
   "id": "67f09f80",
   "metadata": {},
   "source": [
    "Exercise 4-6. Calculate and append the next fibonacci number to `fibolist`."
   ]
  },
  {
   "cell_type": "code",
   "execution_count": 21,
   "id": "9e02fba1",
   "metadata": {},
   "outputs": [
    {
     "name": "stdout",
     "output_type": "stream",
     "text": [
      "[0, 1, 1, 2, 3, 5, 8, 13, 21, 34, 55, 89, 144, 233, 377, 610, 987, 1597, 2584, 4181, 6765, 10946, 17711, 28657, 46368, 75025, 121393, 196418, 317811, 514229, 832040, 1346269]\n"
     ]
    }
   ],
   "source": [
    "# code your solution here\n",
    "fibolist.append(fibolist[-1] + fibolist[-2])\n",
    "\n",
    "print(fibolist)"
   ]
  },
  {
   "cell_type": "markdown",
   "id": "03492678",
   "metadata": {},
   "source": [
    "7. Create a reversed copy of fibolist without permanently reversing fibolist liteslf."
   ]
  },
  {
   "cell_type": "code",
   "execution_count": 23,
   "id": "c1859b91",
   "metadata": {},
   "outputs": [
    {
     "name": "stdout",
     "output_type": "stream",
     "text": [
      "[1346269, 832040, 514229, 317811, 196418, 121393, 75025, 46368, 28657, 17711, 10946, 6765, 4181, 2584, 1597, 987, 610, 377, 233, 144, 89, 55, 34, 21, 13, 8, 5, 3, 2, 1, 1, 0]\n"
     ]
    }
   ],
   "source": [
    "# code your solution here\n",
    "rev_fibolist = fibolist[::-1]\n",
    "\n",
    "print(rev_fibolist)"
   ]
  },
  {
   "cell_type": "markdown",
   "id": "488a8381",
   "metadata": {},
   "source": [
    "8. Check if `29473` is a fibonacci number, and assign the anser to variable `fibo_29473`"
   ]
  },
  {
   "cell_type": "code",
   "execution_count": 26,
   "id": "295652f3",
   "metadata": {},
   "outputs": [
    {
     "name": "stdout",
     "output_type": "stream",
     "text": [
      "False\n"
     ]
    }
   ],
   "source": [
    "# code your solution here\n",
    "fibo_29473 = 29473 in fibolist\n",
    "\n",
    "print(fibo_29473)"
   ]
  },
  {
   "cell_type": "markdown",
   "id": "c44fcded",
   "metadata": {},
   "source": [
    "9. Create two sets. Calculate the union, intersection, difference and symmetric difference for the two sets."
   ]
  },
  {
   "cell_type": "code",
   "execution_count": 31,
   "id": "3536a057",
   "metadata": {},
   "outputs": [
    {
     "name": "stdout",
     "output_type": "stream",
     "text": [
      "{1, 2, 3, 4, 5}\n",
      "{4, 5, 6, 7, 8, 9, 10}\n",
      "\n",
      "{1, 2, 3}\n",
      "{1, 2, 3}\n",
      "\n",
      "{1, 2, 3, 4, 5, 6, 7, 8, 9, 10}\n",
      "{1, 2, 3, 4, 5, 6, 7, 8, 9, 10}\n",
      "\n",
      "{4, 5}\n",
      "{4, 5}\n",
      "\n",
      "{1, 2, 3, 6, 7, 8, 9, 10}\n",
      "{1, 2, 3, 6, 7, 8, 9, 10}\n"
     ]
    }
   ],
   "source": [
    "# code your solution here\n",
    "\n",
    "a = {1, 2, 3, 4, 5}\n",
    "b = set([4, 5, 6, 7, 8, 9, 10])\n",
    "\n",
    "print(a)\n",
    "print(b)\n",
    "print()\n",
    "print(a - b)                              # letters in a but not in b \n",
    "print(a.difference(b))\n",
    "print()\n",
    "print(a | b)                              # letters in a or b or both\n",
    "print(a.union(b))\n",
    "print()\n",
    "print(a & b)                              # letters in both a and b\n",
    "print(a.intersection(b))\n",
    "print()\n",
    "print(a ^ b)                              # letters in a or b but not both\n",
    "print(a.symmetric_difference(b))"
   ]
  },
  {
   "cell_type": "markdown",
   "id": "a80166ef",
   "metadata": {},
   "source": [
    "10. Creat a dictionary using at least two different methods."
   ]
  },
  {
   "cell_type": "code",
   "execution_count": 35,
   "id": "b517ce45",
   "metadata": {},
   "outputs": [
    {
     "name": "stdout",
     "output_type": "stream",
     "text": [
      "{'A': 1, 'B': 2, 'C': 3}\n",
      "{'D': 4, 'E': 5, 'F': 6}\n"
     ]
    }
   ],
   "source": [
    "# code your solution here\n",
    "# refer to class material above for 3 ways\n",
    "\n",
    "dict1 = dict(A=1, B=2, C=3)\n",
    "dict2 = {'D':4, 'E':5, 'F':6}\n",
    "\n",
    "print(dict1)\n",
    "print(dict2)"
   ]
  },
  {
   "cell_type": "markdown",
   "id": "f4831912",
   "metadata": {},
   "source": [
    "11. Check if `2` and `9999` are fibonacci numbers. Create a dictionary `fibo_dict` with the numbers as keys, and boolean value=`True` if the number is fibonacci number, and `False` otherwise."
   ]
  },
  {
   "cell_type": "code",
   "execution_count": 47,
   "id": "290be4dd",
   "metadata": {},
   "outputs": [
    {
     "name": "stdout",
     "output_type": "stream",
     "text": [
      "{9999: False}\n"
     ]
    }
   ],
   "source": [
    "# code your solution here\n",
    "\n",
    "def check_fibo(num):\n",
    "    if num in fibolist:\n",
    "        return True\n",
    "    elif num not in fibolist:\n",
    "        return False\n",
    "num = 9999\n",
    "fibo_dict = {}\n",
    "fibo_dict.update({num:check_fibo(num)})\n",
    "\n",
    "\n",
    "print(fibo_dict)"
   ]
  },
  {
   "cell_type": "code",
   "execution_count": null,
   "id": "c563f20b",
   "metadata": {},
   "outputs": [],
   "source": []
  },
  {
   "cell_type": "code",
   "execution_count": null,
   "id": "43279630",
   "metadata": {},
   "outputs": [],
   "source": []
  },
  {
   "cell_type": "code",
   "execution_count": null,
   "id": "a00a95b1",
   "metadata": {},
   "outputs": [],
   "source": []
  },
  {
   "cell_type": "code",
   "execution_count": null,
   "id": "6463854d",
   "metadata": {},
   "outputs": [],
   "source": []
  },
  {
   "cell_type": "code",
   "execution_count": null,
   "id": "5eaded43",
   "metadata": {},
   "outputs": [],
   "source": []
  },
  {
   "cell_type": "code",
   "execution_count": null,
   "id": "b96353e0",
   "metadata": {},
   "outputs": [],
   "source": []
  }
 ],
 "metadata": {
  "kernelspec": {
   "display_name": "Python 3 (ipykernel)",
   "language": "python",
   "name": "python3"
  },
  "language_info": {
   "codemirror_mode": {
    "name": "ipython",
    "version": 3
   },
   "file_extension": ".py",
   "mimetype": "text/x-python",
   "name": "python",
   "nbconvert_exporter": "python",
   "pygments_lexer": "ipython3",
   "version": "3.9.18"
  }
 },
 "nbformat": 4,
 "nbformat_minor": 5
}
