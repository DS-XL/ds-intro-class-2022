{
 "cells": [
  {
   "cell_type": "markdown",
   "metadata": {},
   "source": []
  },
  {
   "cell_type": "code",
   "execution_count": null,
   "metadata": {},
   "outputs": [],
   "source": [
    "# exercise 1\n",
    "college[college['instnm']=='The University of Texas at Dallas']['satmtmid']"
   ]
  },
  {
   "cell_type": "code",
   "execution_count": null,
   "metadata": {},
   "outputs": [],
   "source": [
    "# exercise 2\n",
    "total_udgs = college.groupby('stabbr')['ugds'].sum()\n",
    "total_udgs.nlargest(5).tail(1)\n",
    "\n",
    "# alternative\n",
    "total_udgs.sort_values(ascending=False).reset_index().iloc[5-1]"
   ]
  },
  {
   "cell_type": "code",
   "execution_count": null,
   "metadata": {},
   "outputs": [],
   "source": [
    "# exercise 3\n",
    "college.isna().mean()"
   ]
  },
  {
   "cell_type": "code",
   "execution_count": null,
   "metadata": {},
   "outputs": [],
   "source": [
    "# exercise 4 solution\n",
    "ca = pd.to_numeric(college.loc[college['stabbr']=='CA', 'md_earn_wne_p10'], errors='coerce').dropna()\n",
    "tx = pd.to_numeric(college.loc[college['stabbr']=='TX', 'md_earn_wne_p10'], errors='coerce').dropna()\n",
    "\n",
    "ca.mean(), tx.mean()\n",
    "\n",
    "st.ttest_ind(ca, tx)"
   ]
  },
  {
   "cell_type": "code",
   "execution_count": null,
   "metadata": {},
   "outputs": [],
   "source": [
    "# exercise 5 solution\n",
    "college['gender'] = np.where(college['menonly']==1, 'menonly',\n",
    "                            np.where(college['womenonly']==1, 'womenonly', \n",
    "                                     np.where(college['menonly'].isna(), 'missing', \n",
    "                                             np.where(college['menonly'].isna(), 'missing','nongenderspecific'))))\n",
    "\n",
    "college['gender'].value_counts()\n",
    "\n",
    "df_result = college.groupby('gender').agg({'satmtmid': ['mean','std'],\n",
    "                                          'satvrmid': ['mean','std']})\n",
    "df_result.head()"
   ]
  },
  {
   "cell_type": "code",
   "execution_count": null,
   "metadata": {},
   "outputs": [],
   "source": [
    "# exercise 6 solution\n",
    "college.set_index('instnm',inplace=True)\n",
    "# method 1\n",
    "college.groupby('stabbr')['ugds'].nlargest(3).reset_index()\n",
    "# method 2\n",
    "college.sort_values(['stabbr','ugds'],ascending=False).groupby('stabbr').head(3)"
   ]
  },
  {
   "cell_type": "code",
   "execution_count": null,
   "metadata": {},
   "outputs": [],
   "source": [
    "# exercise 7\n",
    "pd.crosstab(index=emp['gender'], columns=emp['race'], \n",
    "            normalize='all').round(3)"
   ]
  },
  {
   "cell_type": "code",
   "execution_count": null,
   "metadata": {},
   "outputs": [],
   "source": [
    "# exercise 8\n",
    "pv3.melt(id_vars='gender', value_vars=['Asian','Black','Hispanic','Native American','White'])"
   ]
  }
 ],
 "metadata": {
  "kernelspec": {
   "display_name": "Python 3",
   "language": "python",
   "name": "python3"
  },
  "language_info": {
   "codemirror_mode": {
    "name": "ipython",
    "version": 3
   },
   "file_extension": ".py",
   "mimetype": "text/x-python",
   "name": "python",
   "nbconvert_exporter": "python",
   "pygments_lexer": "ipython3",
   "version": "3.9.5"
  }
 },
 "nbformat": 4,
 "nbformat_minor": 2
}
