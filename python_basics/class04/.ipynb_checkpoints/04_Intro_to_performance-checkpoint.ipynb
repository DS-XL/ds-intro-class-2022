{
 "cells": [
  {
   "cell_type": "markdown",
   "metadata": {},
   "source": [
    "# Intro to Python3 - Class04\n",
    "\n",
    "### Class agenda:\n",
    "##### 8. Intro to code performance (high level intro)\n",
    "\n",
    "\n",
    "## 8. Intro to code performance (higher level)\n",
    "We have learned a bunch of techniques to write python code and functions, and it's clear there are multiple ways to solve a problem using a python program. For example, you can sort a list or exhaust a sequence using multiple ways. Usually, different methods or algorithms have their own pros and cons, and you can try to pick the appropriate one for your specific problem. But how do we measure \"appropriate\"? We usually use the term `algorithm analysis` to describe the complexity of differenet algorithms to find the most efficient one for a problem.\n",
    "\n",
    "### 8.1 Using `timeit` for execution time of code snippets\n",
    "[Python has a nice module `timeit`](https://docs.python.org/3/library/timeit.html) to provide simple way to time small bits of python code. There are 3 ways to use it:\n",
    "- jupyter notebook magic function `%timeit`\n",
    "- callable function `timeit.timeit()`\n",
    "- terminal command line `python -m timeit 'some code in a string'`"
   ]
  },
  {
   "cell_type": "code",
   "execution_count": 2,
   "metadata": {},
   "outputs": [
    {
     "data": {
      "text/plain": [
       "'0-1-2-3-4-5-6-7-8-9-10-11-12-13-14-15-16-17-18-19-20-21-22-23-24-25-26-27-28-29-30-31-32-33-34-35-36-37-38-39-40-41-42-43-44-45-46-47-48-49-50-51-52-53-54-55-56-57-58-59-60-61-62-63-64-65-66-67-68-69-70-71-72-73-74-75-76-77-78-79-80-81-82-83-84-85-86-87-88-89-90-91-92-93-94-95-96-97-98-99'"
      ]
     },
     "execution_count": 2,
     "metadata": {},
     "output_type": "execute_result"
    }
   ],
   "source": [
    "\"-\".join(map(str, range(100)))"
   ]
  },
  {
   "cell_type": "code",
   "execution_count": 1,
   "metadata": {},
   "outputs": [
    {
     "name": "stdout",
     "output_type": "stream",
     "text": [
      "15.9 µs ± 492 ns per loop (mean ± std. dev. of 7 runs, 100000 loops each)\n"
     ]
    }
   ],
   "source": [
    "%timeit \"-\".join(map(str, range(100)))"
   ]
  },
  {
   "cell_type": "code",
   "execution_count": 3,
   "metadata": {},
   "outputs": [
    {
     "name": "stdout",
     "output_type": "stream",
     "text": [
      "21.4 µs ± 2.65 µs per loop (mean ± std. dev. of 7 runs, 10000 loops each)\n"
     ]
    }
   ],
   "source": [
    "%timeit \"-\".join([str(n) for n in range(100)])"
   ]
  },
  {
   "cell_type": "code",
   "execution_count": 4,
   "metadata": {},
   "outputs": [
    {
     "data": {
      "text/plain": [
       "0.003297074930742383"
      ]
     },
     "execution_count": 4,
     "metadata": {},
     "output_type": "execute_result"
    }
   ],
   "source": [
    "import timeit\n",
    "\n",
    "timeit.timeit(\"-\".join(map(str, range(100))), number=1000)"
   ]
  },
  {
   "cell_type": "code",
   "execution_count": 5,
   "metadata": {},
   "outputs": [
    {
     "data": {
      "text/plain": [
       "0.002720687072724104"
      ]
     },
     "execution_count": 5,
     "metadata": {},
     "output_type": "execute_result"
    }
   ],
   "source": [
    "timeit.timeit(\"-\".join([str(n) for n in range(100)]), number=1000)"
   ]
  },
  {
   "cell_type": "code",
   "execution_count": 6,
   "metadata": {},
   "outputs": [],
   "source": [
    "! touch 'example.csv'"
   ]
  },
  {
   "cell_type": "code",
   "execution_count": 7,
   "metadata": {},
   "outputs": [
    {
     "name": "stdout",
     "output_type": "stream",
     "text": [
      "100000 loops, best of 3: 16 usec per loop\r\n"
     ]
    }
   ],
   "source": [
    "# you can run terminal command in jupyter notebook\n",
    "# by starting the lie with '!'\n",
    "! python3 -m timeit '\"-\".join(map(str, range(100)))'"
   ]
  },
  {
   "cell_type": "code",
   "execution_count": 15,
   "metadata": {},
   "outputs": [
    {
     "name": "stdout",
     "output_type": "stream",
     "text": [
      "20000 loops, best of 5: 19.2 usec per loop\r\n"
     ]
    }
   ],
   "source": [
    "! python3 -m timeit '\"-\".join([str(n) for n in range(100)])'"
   ]
  },
  {
   "cell_type": "markdown",
   "metadata": {},
   "source": [
    "However, absolute execution time is not a good metric to measure the complexity of an algorithm since it depends upon the hardware. A more objective complexity analysis metrics for the algorithms is needed. This is where Big-O Notation comes to play."
   ]
  },
  {
   "cell_type": "markdown",
   "metadata": {},
   "source": [
    "### 8.2 Big-O Notation for algo analysis\n",
    "**[Big-O Notation](https://en.wikipedia.org/wiki/Big_O_notation)** is commenly used statistical measure to describe algorithm complexity. It can be used to describe how the run time or space requirement grow as the input size grow, i.e. growth rate w.r.t input size. It is denoted by a big \"O\" followed by opening and closing parenthesis. Inside the parenthesis, the relationship between the input and the steps taken by the algorithm is presented using \"n\".\n",
    "\n",
    "For example, if there is a linear relationship between the input and the step taken by the algorithm to complete its execution, the Big-O notation used will be `O(n)`. Similarly, the Big-O notation for quadratic functions is `O(n^2)`. Below is a table listing some of the most commonly used notations.\n",
    "\n",
    "| Name | Big O | Example |\n",
    "| --- | --- | --- |\n",
    "|Constant|O(c) or O(1)| |\n",
    "|Logarithmic|O(log(n))| binary search|\n",
    "|Linear|O(n)| for loop |\n",
    "|Quasilinear|O(nlog(n))| many sorting algos|\n",
    "|Quadratic|O(n^2)| bubble sort|\n",
    "|Cubic|O(n^3)||\n",
    "|Exponential|O(2^n)||\n",
    "|Factorial|O(n!))| heap permutation|"
   ]
  },
  {
   "cell_type": "markdown",
   "metadata": {},
   "source": [
    "#### Constant\n",
    "Algorithm complexity is constant, i.e. irrespective of the input size. It's denoted `O(c)`.\n",
    "Example:"
   ]
  },
  {
   "cell_type": "code",
   "execution_count": 8,
   "metadata": {},
   "outputs": [],
   "source": [
    "num_list = [1,1,2,3,5,8,13,21]"
   ]
  },
  {
   "cell_type": "code",
   "execution_count": 9,
   "metadata": {},
   "outputs": [
    {
     "name": "stdout",
     "output_type": "stream",
     "text": [
      "1\n"
     ]
    }
   ],
   "source": [
    "def constant_algo(num_list):\n",
    "    print(num_list[0])\n",
    "\n",
    "constant_algo(num_list)"
   ]
  },
  {
   "cell_type": "markdown",
   "metadata": {},
   "source": [
    "#### Linear\n",
    "Linear complexity means the steps required to complete the execution of an algorithm increase or decrease linearly with the number of inputs. It's denoted `O(n)`.\n",
    "\n",
    "In the following example, the number of iterations of the for-loop will be equal to the size of the input, hence complexity if liearn."
   ]
  },
  {
   "cell_type": "code",
   "execution_count": 10,
   "metadata": {},
   "outputs": [],
   "source": [
    "def linear_algo(num_list):\n",
    "    for num in num_list:\n",
    "        print(num)"
   ]
  },
  {
   "cell_type": "code",
   "execution_count": 11,
   "metadata": {},
   "outputs": [
    {
     "name": "stdout",
     "output_type": "stream",
     "text": [
      "1\n",
      "1\n",
      "2\n",
      "3\n",
      "5\n",
      "8\n",
      "13\n",
      "21\n"
     ]
    }
   ],
   "source": [
    "linear_algo(num_list)"
   ]
  },
  {
   "cell_type": "code",
   "execution_count": 20,
   "metadata": {},
   "outputs": [],
   "source": [
    "def linear_algo2(num_list):\n",
    "    for num in num_list:\n",
    "        print(num)\n",
    "    # a second for loop\n",
    "    for num in num_list:\n",
    "        print(num)"
   ]
  },
  {
   "cell_type": "markdown",
   "metadata": {},
   "source": [
    "Here the `linear_algo2` is actually `O(2n)`. However, when input size is huge, say, infinitie, the can ignore the contant `2` and it's still linear `O(n)`. Technically, replationship is still linear to input size, just slope is steeper."
   ]
  },
  {
   "cell_type": "markdown",
   "metadata": {},
   "source": [
    "#### Quadratic\n",
    "Algo complexity is quadratic when the steps required to execute an algorithm are a quadratic function of the number of items in the input. Quadratic complexity is denoted as `O(n^2)`. "
   ]
  },
  {
   "cell_type": "code",
   "execution_count": 21,
   "metadata": {},
   "outputs": [],
   "source": [
    "def quadratic_algo(num_list):\n",
    "    for num in num_list:\n",
    "        for num2 in num_list:\n",
    "            print(num, '', num2)"
   ]
  },
  {
   "cell_type": "code",
   "execution_count": null,
   "metadata": {},
   "outputs": [],
   "source": [
    "quadratic_algo(num_list)"
   ]
  },
  {
   "cell_type": "markdown",
   "metadata": {},
   "source": [
    "The outer loop that iterates through all the items in the input list and then a nested inner loop, which again iterates through all the items in the input list. The total number of steps performed is `n * n`, where `n` is the number of items in the input array. Hence complexity is `O(n^2)`."
   ]
  },
  {
   "cell_type": "markdown",
   "metadata": {},
   "source": [
    "### 8.3 How to find complexity\n",
    "How do we find the complexity of a more complex python program? \n",
    "\n",
    "When analyzing the time complexity of an algorithm with several operations, we need to describe the algorithm based on the **largest complexity** among all operations.\n",
    "\n",
    "Let's walk through the following examples."
   ]
  },
  {
   "cell_type": "code",
   "execution_count": 33,
   "metadata": {},
   "outputs": [],
   "source": [
    "def complex_algo(num_list):\n",
    "    \n",
    "    # O(10)\n",
    "    for i in range(10):\n",
    "        print (\"Python is great\")\n",
    "    \n",
    "    # O(n)\n",
    "    for num in num_list:\n",
    "        print(num)\n",
    "    \n",
    "    # O(n)\n",
    "    for num in num_list:\n",
    "        print(num)\n",
    "    \n",
    "    # O(3)\n",
    "    print(\"Big O\")\n",
    "    print(\"Big O\")\n",
    "    print(\"Big O\")"
   ]
  },
  {
   "cell_type": "code",
   "execution_count": null,
   "metadata": {},
   "outputs": [],
   "source": [
    "def complex_algo2(data):\n",
    "    \n",
    "    # O(1)\n",
    "    first_element = data[0]\n",
    "    \n",
    "    # O(n)\n",
    "    for value in data:\n",
    "        print(value)\n",
    "    \n",
    "    # O(n^2)\n",
    "    for x in data:\n",
    "        for y in data:\n",
    "            print(x, y)"
   ]
  },
  {
   "cell_type": "markdown",
   "metadata": {},
   "source": [
    "Ignore lower order as `n --> infinity`."
   ]
  },
  {
   "cell_type": "markdown",
   "metadata": {},
   "source": [
    "### 8.4 Space complexity\n",
    "In addition to the time complexity, where you count the number of steps required to complete the execution of an algorithm, you can also find space complexity which refers to the number of spaces you need to allocate in the memory space during the execution of a program."
   ]
  },
  {
   "cell_type": "code",
   "execution_count": 35,
   "metadata": {},
   "outputs": [],
   "source": [
    "def return_squares(n):\n",
    "    square_list = []\n",
    "    for num in n:\n",
    "        # could be more complex\n",
    "        # create list to store inputs\n",
    "        # do list comprehension for inputs...\n",
    "        square_list.append(num * num)\n",
    "\n",
    "    return square_list"
   ]
  },
  {
   "cell_type": "markdown",
   "metadata": {},
   "source": [
    "In the script above, the function accepts a list of integers and returns a list with the corresponding squares of integers. The algorithm has to allocate memory for the same number of items as in the input list. Therefore, the space complexity of the algorithm becomes `O(n)`."
   ]
  },
  {
   "cell_type": "markdown",
   "metadata": {},
   "source": [
    "### 8.5 Worst and best case\n",
    "Sometimes your program will change its behavior based on input and pre-defined conditions. The best case will be the scenario where you have shortest run time, while worst will be the longest. "
   ]
  },
  {
   "cell_type": "code",
   "execution_count": 36,
   "metadata": {},
   "outputs": [
    {
     "name": "stdout",
     "output_type": "stream",
     "text": [
      "True\n"
     ]
    }
   ],
   "source": [
    "def search_algo(num, num_list):\n",
    "    for item in num_list:\n",
    "        if item == num:\n",
    "            return True\n",
    "        else:\n",
    "            return False\n",
    "        \n",
    "nums = [2, 4, 6, 8, 10]\n",
    "print(search_algo(2, nums))"
   ]
  },
  {
   "cell_type": "markdown",
   "metadata": {},
   "source": [
    "In the script above, we have a function that takes a number and a list of numbers as input. It returns `True` if the passed number is found in the list of numbers, otherwise it returns `False`. \n",
    "\n",
    "If you search `2` in the list, it will be found in the first comparison. This is the best case complexity of the algorithm that the searched item is found in the first searched index. The best case complexity, in this case, is `O(1)`. On the other hand, if you search `10`, it will be found at the last searched index. The algorithm will have to search through all the items in the list, hence the worst case complexity becomes `O(n)`.\n",
    "\n",
    "\n",
    "In addition to best and worst case complexity, you can also calculate the average complexity of an algorithm or other complexity metric to get a taste of performance."
   ]
  },
  {
   "cell_type": "markdown",
   "metadata": {},
   "source": [
    "### 8.6 Notes and useful material\n",
    "\n",
    "It's usefuly to understand the difference in performance and keep it in mind while you are designing your code. Python has a lot of built-in methods that are already optimized in performance (e.g.`sort` function) as they are using less complex algo and written in C. If there is already a popular module/function for something you'd like to do, chances are they are usually more efficient than you writing your own function.\n",
    "\n",
    "Below are some some good cheatsheets to illustrate Big-O complexcity. If you'd like to learn more about some more examples of the algos, you can [check out this post](https://towardsdatascience.com/understanding-time-complexity-with-python-examples-2bda6e8158a7).\n",
    "\n",
    "We will not cover algo design in this class, but you can find lots of books and materials online for classic algos that can help you build up your strength inalgo design."
   ]
  },
  {
   "cell_type": "markdown",
   "metadata": {},
   "source": [
    "![big-o-plots](https://miro.medium.com/max/1400/1*5ZLci3SuR0zM_QlZOADv8Q.jpeg)\n",
    "![big-o-cheatsheet1](https://miro.medium.com/max/1400/1*Uzrw9faXdYgg20I6NjUTBw.png)\n",
    "![big-o-cheatsheet2](https://miro.medium.com/max/1400/1*X1hZCxNdfgZ0sT_2tynPKA.png)"
   ]
  },
  {
   "cell_type": "code",
   "execution_count": null,
   "metadata": {},
   "outputs": [],
   "source": []
  }
 ],
 "metadata": {
  "kernelspec": {
   "display_name": "Python 3 (ipykernel)",
   "language": "python",
   "name": "python3"
  },
  "language_info": {
   "codemirror_mode": {
    "name": "ipython",
    "version": 3
   },
   "file_extension": ".py",
   "mimetype": "text/x-python",
   "name": "python",
   "nbconvert_exporter": "python",
   "pygments_lexer": "ipython3",
   "version": "3.10.8"
  }
 },
 "nbformat": 4,
 "nbformat_minor": 2
}
