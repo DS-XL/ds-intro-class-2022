{
 "cells": [
  {
   "cell_type": "markdown",
   "id": "2f8d3739-f9cb-48da-8190-cd541f635efc",
   "metadata": {
    "tags": []
   },
   "source": [
    "\n",
    "\n",
    "#### Exercise 2:\n",
    "1. Define a fraction number with numerator=123 and denominator=456, print out the fraction number in format `a/b` and the quotient with 8 digits after decimal point.\n",
    "\n",
    "Sample output: `\"123/456 = 0.269737\"`"
   ]
  },
  {
   "cell_type": "code",
   "execution_count": 32,
   "id": "ac6fc154-6db7-4b9a-a7d1-e6dbfc5bd31f",
   "metadata": {},
   "outputs": [
    {
     "name": "stdout",
     "output_type": "stream",
     "text": [
      "123/456 = 0.26973684\n"
     ]
    }
   ],
   "source": [
    "numerator = 123\n",
    "denominator = 456\n",
    "\n",
    "# code up your solution below\n",
    "print(f'123/456 = {numerator/denominator :.8f}')"
   ]
  },
  {
   "cell_type": "markdown",
   "id": "8e1a20f9-0705-4733-b36f-b95bc3b1e303",
   "metadata": {},
   "source": [
    "2. Print out every other character of the string `\"Data Science\"` using string slicing. "
   ]
  },
  {
   "cell_type": "code",
   "execution_count": 1,
   "id": "f47025f8-d168-47b1-a82d-5d903e10e914",
   "metadata": {},
   "outputs": [
    {
     "name": "stdout",
     "output_type": "stream",
     "text": [
      "Dt cec\n"
     ]
    }
   ],
   "source": [
    "# code up you solution here\n",
    "target = \"Data Science\"\n",
    "print(target[::2])"
   ]
  },
  {
   "cell_type": "markdown",
   "id": "5aa3affd-425d-4d7d-9952-432ace705782",
   "metadata": {},
   "source": [
    "3. The string `regex_wiki` contains the second paragraph of regular expression introduction in Wikipedia. Modify the string with all lower case and no space."
   ]
  },
  {
   "cell_type": "code",
   "execution_count": 2,
   "id": "ffbce5d7-7759-49cc-b172-45153363e677",
   "metadata": {},
   "outputs": [
    {
     "name": "stdout",
     "output_type": "stream",
     "text": [
      "theconceptaroseinthe1950swhentheamericanmathematicianstephencolekleeneformalized\n",
      "thedescriptionofaregularlanguage.theconceptcameintocommonusewithunixtext-processingutilities.\n",
      "differentsyntaxesforwritingregularexpressionshaveexistedsincethe1980s,onebeingtheposixstandard\n",
      "andanother,widelyused,beingtheperlsyntax.\n"
     ]
    }
   ],
   "source": [
    "regex_wiki = \"\"\"The concept arose in the 1950s when the American mathematician Stephen Cole Kleene formalized \n",
    "the description of a regular language. The concept came into common use with Unix text-processing utilities. \n",
    "Different syntaxes for writing regular expressions have existed since the 1980s, one being the POSIX standard \n",
    "and another, widely used, being the Perl syntax.\"\"\"\n",
    "\n",
    "# code up your solution below and print to check answer\n",
    "print(regex_wiki.lower().replace(' ',''))"
   ]
  },
  {
   "cell_type": "markdown",
   "id": "75fbece7-5d35-4fd6-9b2f-56c25f29293f",
   "metadata": {},
   "source": [
    "4. Replace all `data` with `<3` in the following string. Use a string method to check `data` is not in the new string."
   ]
  },
  {
   "cell_type": "code",
   "execution_count": 6,
   "id": "e426c868-fc04-4a9a-add7-9ce650c4bc27",
   "metadata": {},
   "outputs": [
    {
     "name": "stdout",
     "output_type": "stream",
     "text": [
      "False\n"
     ]
    }
   ],
   "source": [
    "data_science = \"\"\"Data science continues to evolve as one of the most promising and in-demand career paths for \n",
    "skilled professionals. Today, successful data professionals understand that they must advance past the traditional \n",
    "skills of analyzing large amounts of data, data mining, and programming skills. In order to uncover useful \n",
    "intelligence for their organizations, data scientists must master the full spectrum of the data science life cycle \n",
    "and possess a level of flexibility and understanding to maximize returns at each phase of the process.\"\"\"\n",
    "\n",
    "# code up your solution below\n",
    "data_science_1 = data_science.replace('data','<3')\n",
    "print('data' in data_science_1)"
   ]
  },
  {
   "cell_type": "markdown",
   "id": "22cb2847-b80f-46e7-a44c-6747c4ab9375",
   "metadata": {},
   "source": [
    "5. (Bonus Challenge): if you are familiar with string manipulation and `regex`, use python's regular expression `re` module to replace the first `a` in all `data` in the paragraph above, and keep the original case for the word.\n",
    "\n",
    "`Data ---> D<3ta`, `data ---> d<3ta`, `DATA --- D<3TA`, etc.\n",
    "\n",
    "We can use this example for an intro to regex if some of your are interested."
   ]
  },
  {
   "cell_type": "code",
   "execution_count": 9,
   "id": "193e1712-ff80-427c-adbe-1d45266f5c98",
   "metadata": {},
   "outputs": [
    {
     "name": "stdout",
     "output_type": "stream",
     "text": [
      "D<3ta science continues to evolve as one of the most promising and in-demand career paths for \n",
      "skilled professionals. Today, successful d<3ta professionals understand that they must advance past the traditional \n",
      "skills of analyzing large amounts of d<3ta, d<3ta mining, and programming skills. In order to uncover useful \n",
      "intelligence for their organizations, d<3ta scientists must master the full spectrum of the d<3ta science life cycle \n",
      "and possess a level of flexibility and understanding to maximize returns at each phase of the process.\n"
     ]
    }
   ],
   "source": [
    "import re\n",
    "# code up your solution here\n",
    "data_science_2 = re.sub(\"data\", 'd<3ta', data_science)\n",
    "data_science_2 = re.sub(\"Data\", 'D<3ta', data_science_2)\n",
    "data_science_2 = re.sub(\"DATA\", 'D<3TA', data_science_2)\n",
    "print(data_science_2)"
   ]
  },
  {
   "cell_type": "markdown",
   "id": "5817e5cb-af73-48ab-8c6d-1fdef3a64c1e",
   "metadata": {},
   "source": [
    "Check out [Regular Expression syntax](https://docs.python.org/3/library/re.html#regular-expression-syntax) for how to \"look around\" in your pattern."
   ]
  },
  {
   "cell_type": "markdown",
   "id": "aa1c9291-d283-4e17-b23a-710e7ecff60b",
   "metadata": {
    "tags": []
   },
   "source": [
    "#### Exercise 3."
   ]
  },
  {
   "cell_type": "markdown",
   "id": "066ef855-9ca7-4abc-a573-6e471b2c30a8",
   "metadata": {},
   "source": [
    "1. Write a program flow which will assign `grade` by the test scores using the following conditions:\n",
    "\n",
    "    1. If score >= 90, grade=\"A\"\n",
    "    2. If 80 >= score >90, grade=\"B\"\n",
    "    3. If 70 >= score >80, grade=\"C\"\n",
    "    4. If 60 >= score >70, grade=\"D\"\n",
    "    5. IF score < 60, grade=\"F\""
   ]
  },
  {
   "cell_type": "code",
   "execution_count": 13,
   "id": "0f8d64f2-dd2a-4084-b954-27f2111240a4",
   "metadata": {},
   "outputs": [
    {
     "data": {
      "text/plain": [
       "'A'"
      ]
     },
     "execution_count": 13,
     "metadata": {},
     "output_type": "execute_result"
    }
   ],
   "source": [
    "# code up your solution here\n",
    "def grader(n):\n",
    "    grade = 0\n",
    "    if n>=90:\n",
    "        grade=\"A\"\n",
    "    elif n>=80:\n",
    "        grade=\"B\"\n",
    "    elif n>=70:\n",
    "        grade=\"C\"\n",
    "    elif n>=60:\n",
    "        grade=\"D\"\n",
    "    else:\n",
    "        grade=\"F\"\n",
    "    return grade\n",
    "\n",
    "grader(90)"
   ]
  },
  {
   "cell_type": "markdown",
   "id": "b8a551a2-fafd-4da9-ae17-96e700210154",
   "metadata": {},
   "source": [
    "2. x=1, y=1, write a flow to assign messge to different value base on different criteria as below, and in the end print out the message:\n",
    "\n",
    "    a. If x less than y, messge=\"x is less than y\"\n",
    "    \n",
    "    b. If x larger than y, messge=\"x is greater than y\"\n",
    "    \n",
    "    c. If x equal to y, messge=\"x is the same as y\"\n"
   ]
  },
  {
   "cell_type": "code",
   "execution_count": 20,
   "id": "d5d3b80d-ed1e-43a0-81f7-9fd9f8175879",
   "metadata": {},
   "outputs": [
    {
     "name": "stdout",
     "output_type": "stream",
     "text": [
      "x is the same as y\n"
     ]
    }
   ],
   "source": [
    "# code up your solution here\n",
    "x, y = 1,1\n",
    "if x<y:\n",
    "    print(\"x is less than y\")\n",
    "elif x>y:\n",
    "    print(\"x is greater than y\")\n",
    "else:\n",
    "    print('x is the same as y')"
   ]
  },
  {
   "cell_type": "code",
   "execution_count": null,
   "id": "af521ff9-6d31-411e-96fd-beaa17dbd2ce",
   "metadata": {},
   "outputs": [],
   "source": []
  }
 ],
 "metadata": {
  "kernelspec": {
   "display_name": "Python 3 (ipykernel)",
   "language": "python",
   "name": "python3"
  },
  "language_info": {
   "codemirror_mode": {
    "name": "ipython",
    "version": 3
   },
   "file_extension": ".py",
   "mimetype": "text/x-python",
   "name": "python",
   "nbconvert_exporter": "python",
   "pygments_lexer": "ipython3",
   "version": "3.9.15"
  }
 },
 "nbformat": 4,
 "nbformat_minor": 5
}
