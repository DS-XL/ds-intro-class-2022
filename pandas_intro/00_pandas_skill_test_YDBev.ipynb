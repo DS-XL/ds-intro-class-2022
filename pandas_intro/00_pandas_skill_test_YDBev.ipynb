{
 "cells": [
  {
   "cell_type": "markdown",
   "metadata": {},
   "source": [
    "Goal: test how familiar you are with `pandas`"
   ]
  },
  {
   "cell_type": "code",
   "execution_count": 1,
   "metadata": {},
   "outputs": [
    {
     "data": {
      "text/html": [
       "<div>\n",
       "<style scoped>\n",
       "    .dataframe tbody tr th:only-of-type {\n",
       "        vertical-align: middle;\n",
       "    }\n",
       "\n",
       "    .dataframe tbody tr th {\n",
       "        vertical-align: top;\n",
       "    }\n",
       "\n",
       "    .dataframe thead th {\n",
       "        text-align: right;\n",
       "    }\n",
       "</style>\n",
       "<table border=\"1\" class=\"dataframe\">\n",
       "  <thead>\n",
       "    <tr style=\"text-align: right;\">\n",
       "      <th></th>\n",
       "      <th>instnm</th>\n",
       "      <th>city</th>\n",
       "      <th>stabbr</th>\n",
       "      <th>hbcu</th>\n",
       "      <th>menonly</th>\n",
       "      <th>womenonly</th>\n",
       "      <th>relaffil</th>\n",
       "      <th>satvrmid</th>\n",
       "      <th>satmtmid</th>\n",
       "      <th>distanceonly</th>\n",
       "      <th>...</th>\n",
       "      <th>ugds_2mor</th>\n",
       "      <th>ugds_nra</th>\n",
       "      <th>ugds_unkn</th>\n",
       "      <th>pptug_ef</th>\n",
       "      <th>curroper</th>\n",
       "      <th>pctpell</th>\n",
       "      <th>pctfloan</th>\n",
       "      <th>ug25abv</th>\n",
       "      <th>md_earn_wne_p10</th>\n",
       "      <th>grad_debt_mdn_supp</th>\n",
       "    </tr>\n",
       "  </thead>\n",
       "  <tbody>\n",
       "    <tr>\n",
       "      <th>0</th>\n",
       "      <td>Alabama A &amp; M University</td>\n",
       "      <td>Normal</td>\n",
       "      <td>AL</td>\n",
       "      <td>1.0</td>\n",
       "      <td>0.0</td>\n",
       "      <td>0.0</td>\n",
       "      <td>0</td>\n",
       "      <td>424.0</td>\n",
       "      <td>420.0</td>\n",
       "      <td>0.0</td>\n",
       "      <td>...</td>\n",
       "      <td>0.0000</td>\n",
       "      <td>0.0059</td>\n",
       "      <td>0.0138</td>\n",
       "      <td>0.0656</td>\n",
       "      <td>1</td>\n",
       "      <td>0.7356</td>\n",
       "      <td>0.8284</td>\n",
       "      <td>0.1049</td>\n",
       "      <td>30300</td>\n",
       "      <td>33888</td>\n",
       "    </tr>\n",
       "    <tr>\n",
       "      <th>1</th>\n",
       "      <td>University of Alabama at Birmingham</td>\n",
       "      <td>Birmingham</td>\n",
       "      <td>AL</td>\n",
       "      <td>0.0</td>\n",
       "      <td>0.0</td>\n",
       "      <td>0.0</td>\n",
       "      <td>0</td>\n",
       "      <td>570.0</td>\n",
       "      <td>565.0</td>\n",
       "      <td>0.0</td>\n",
       "      <td>...</td>\n",
       "      <td>0.0368</td>\n",
       "      <td>0.0179</td>\n",
       "      <td>0.0100</td>\n",
       "      <td>0.2607</td>\n",
       "      <td>1</td>\n",
       "      <td>0.3460</td>\n",
       "      <td>0.5214</td>\n",
       "      <td>0.2422</td>\n",
       "      <td>39700</td>\n",
       "      <td>21941.5</td>\n",
       "    </tr>\n",
       "    <tr>\n",
       "      <th>2</th>\n",
       "      <td>Amridge University</td>\n",
       "      <td>Montgomery</td>\n",
       "      <td>AL</td>\n",
       "      <td>0.0</td>\n",
       "      <td>0.0</td>\n",
       "      <td>0.0</td>\n",
       "      <td>1</td>\n",
       "      <td>NaN</td>\n",
       "      <td>NaN</td>\n",
       "      <td>1.0</td>\n",
       "      <td>...</td>\n",
       "      <td>0.0000</td>\n",
       "      <td>0.0000</td>\n",
       "      <td>0.2715</td>\n",
       "      <td>0.4536</td>\n",
       "      <td>1</td>\n",
       "      <td>0.6801</td>\n",
       "      <td>0.7795</td>\n",
       "      <td>0.8540</td>\n",
       "      <td>40100</td>\n",
       "      <td>23370</td>\n",
       "    </tr>\n",
       "    <tr>\n",
       "      <th>3</th>\n",
       "      <td>University of Alabama in Huntsville</td>\n",
       "      <td>Huntsville</td>\n",
       "      <td>AL</td>\n",
       "      <td>0.0</td>\n",
       "      <td>0.0</td>\n",
       "      <td>0.0</td>\n",
       "      <td>0</td>\n",
       "      <td>595.0</td>\n",
       "      <td>590.0</td>\n",
       "      <td>0.0</td>\n",
       "      <td>...</td>\n",
       "      <td>0.0172</td>\n",
       "      <td>0.0332</td>\n",
       "      <td>0.0350</td>\n",
       "      <td>0.2146</td>\n",
       "      <td>1</td>\n",
       "      <td>0.3072</td>\n",
       "      <td>0.4596</td>\n",
       "      <td>0.2640</td>\n",
       "      <td>45500</td>\n",
       "      <td>24097</td>\n",
       "    </tr>\n",
       "    <tr>\n",
       "      <th>4</th>\n",
       "      <td>Alabama State University</td>\n",
       "      <td>Montgomery</td>\n",
       "      <td>AL</td>\n",
       "      <td>1.0</td>\n",
       "      <td>0.0</td>\n",
       "      <td>0.0</td>\n",
       "      <td>0</td>\n",
       "      <td>425.0</td>\n",
       "      <td>430.0</td>\n",
       "      <td>0.0</td>\n",
       "      <td>...</td>\n",
       "      <td>0.0098</td>\n",
       "      <td>0.0243</td>\n",
       "      <td>0.0137</td>\n",
       "      <td>0.0892</td>\n",
       "      <td>1</td>\n",
       "      <td>0.7347</td>\n",
       "      <td>0.7554</td>\n",
       "      <td>0.1270</td>\n",
       "      <td>26600</td>\n",
       "      <td>33118.5</td>\n",
       "    </tr>\n",
       "  </tbody>\n",
       "</table>\n",
       "<p>5 rows × 27 columns</p>\n",
       "</div>"
      ],
      "text/plain": [
       "                                instnm        city stabbr  hbcu  menonly  \\\n",
       "0             Alabama A & M University      Normal     AL   1.0      0.0   \n",
       "1  University of Alabama at Birmingham  Birmingham     AL   0.0      0.0   \n",
       "2                   Amridge University  Montgomery     AL   0.0      0.0   \n",
       "3  University of Alabama in Huntsville  Huntsville     AL   0.0      0.0   \n",
       "4             Alabama State University  Montgomery     AL   1.0      0.0   \n",
       "\n",
       "   womenonly  relaffil  satvrmid  satmtmid  distanceonly  ...  ugds_2mor  \\\n",
       "0        0.0         0     424.0     420.0           0.0  ...     0.0000   \n",
       "1        0.0         0     570.0     565.0           0.0  ...     0.0368   \n",
       "2        0.0         1       NaN       NaN           1.0  ...     0.0000   \n",
       "3        0.0         0     595.0     590.0           0.0  ...     0.0172   \n",
       "4        0.0         0     425.0     430.0           0.0  ...     0.0098   \n",
       "\n",
       "   ugds_nra  ugds_unkn  pptug_ef  curroper  pctpell  pctfloan  ug25abv  \\\n",
       "0    0.0059     0.0138    0.0656         1   0.7356    0.8284   0.1049   \n",
       "1    0.0179     0.0100    0.2607         1   0.3460    0.5214   0.2422   \n",
       "2    0.0000     0.2715    0.4536         1   0.6801    0.7795   0.8540   \n",
       "3    0.0332     0.0350    0.2146         1   0.3072    0.4596   0.2640   \n",
       "4    0.0243     0.0137    0.0892         1   0.7347    0.7554   0.1270   \n",
       "\n",
       "   md_earn_wne_p10  grad_debt_mdn_supp  \n",
       "0            30300               33888  \n",
       "1            39700             21941.5  \n",
       "2            40100               23370  \n",
       "3            45500               24097  \n",
       "4            26600             33118.5  \n",
       "\n",
       "[5 rows x 27 columns]"
      ]
     },
     "execution_count": 1,
     "metadata": {},
     "output_type": "execute_result"
    }
   ],
   "source": [
    "import pandas as pd\n",
    "\n",
    "college = pd.read_csv('data/college.csv')\n",
    "college.head()"
   ]
  },
  {
   "cell_type": "code",
   "execution_count": 2,
   "metadata": {},
   "outputs": [
    {
     "name": "stdout",
     "output_type": "stream",
     "text": [
      "Index(['instnm', 'city', 'stabbr', 'hbcu', 'menonly', 'womenonly', 'relaffil',\n",
      "       'satvrmid', 'satmtmid', 'distanceonly', 'ugds', 'ugds_white',\n",
      "       'ugds_black', 'ugds_hisp', 'ugds_asian', 'ugds_aian', 'ugds_nhpi',\n",
      "       'ugds_2mor', 'ugds_nra', 'ugds_unkn', 'pptug_ef', 'curroper', 'pctpell',\n",
      "       'pctfloan', 'ug25abv', 'md_earn_wne_p10', 'grad_debt_mdn_supp'],\n",
      "      dtype='object')\n",
      "(7535, 27)\n"
     ]
    }
   ],
   "source": [
    "print(college.keys())\n",
    "print(college.shape)"
   ]
  },
  {
   "cell_type": "markdown",
   "metadata": {},
   "source": [
    "### Exercise 1\n",
    "What is the median SAT Math score (satmtmid) for **The University of Texas at Dallas**?"
   ]
  },
  {
   "cell_type": "code",
   "execution_count": 3,
   "metadata": {},
   "outputs": [
    {
     "data": {
      "text/plain": [
       "3768    645.0\n",
       "Name: satmtmid, dtype: float64"
      ]
     },
     "execution_count": 3,
     "metadata": {},
     "output_type": "execute_result"
    }
   ],
   "source": [
    "# select rows with condition UT Dallas\n",
    "UT_DALLAS = college.loc[college['instnm']=='The University of Texas at Dallas']\n",
    "UT_DALLAS['satmtmid']\n",
    "\n",
    "#college.loc[college['instnm']=='The University of Texas at Dallas']['satmtmid']"
   ]
  },
  {
   "cell_type": "markdown",
   "metadata": {},
   "source": [
    "### Exercise 2\n",
    "What state (stabbr) has the 5th highest total undergraduate population (ugds) and what is that population?"
   ]
  },
  {
   "cell_type": "code",
   "execution_count": 4,
   "metadata": {},
   "outputs": [
    {
     "name": "stdout",
     "output_type": "stream",
     "text": [
      "Population 5th highest ugds state is PA with 604942.0\n"
     ]
    }
   ],
   "source": [
    "# group by state and calculate total undergraduate population for each state and select 5th highest \n",
    "tot_ugds_by_state = college.groupby('stabbr')['ugds'].sum().sort_values(ascending=False) # get total ugds by state\n",
    "population_5th = tot_ugds_by_state[4]\n",
    "state_5th = tot_ugds_by_state.index.tolist()[4] # list state\n",
    "print(f'Population 5th highest ugds state is {state_5th} with {population_5th}')"
   ]
  },
  {
   "cell_type": "code",
   "execution_count": 5,
   "metadata": {},
   "outputs": [
    {
     "data": {
      "text/plain": [
       "stabbr\n",
       "CA    2304492.0\n",
       "TX    1277374.0\n",
       "NY     993623.0\n",
       "FL     959753.0\n",
       "PA     604942.0\n",
       "IL     599816.0\n",
       "OH     537638.0\n",
       "AZ     520439.0\n",
       "MI     494244.0\n",
       "NC     462455.0\n",
       "GA     443952.0\n",
       "VA     431184.0\n",
       "NJ     371819.0\n",
       "MA     352018.0\n",
       "IN     337002.0\n",
       "MD     282294.0\n",
       "MO     281828.0\n",
       "WI     276171.0\n",
       "MN     275346.0\n",
       "CO     272011.0\n",
       "TN     266933.0\n",
       "WA     254376.0\n",
       "AL     248298.0\n",
       "PR     227033.0\n",
       "UT     218544.0\n",
       "SC     213571.0\n",
       "IA     206455.0\n",
       "KY     199104.0\n",
       "LA     197569.0\n",
       "OR     196438.0\n",
       "OK     190496.0\n",
       "CT     166746.0\n",
       "KS     165652.0\n",
       "MS     144918.0\n",
       "AR     134820.0\n",
       "WV     123068.0\n",
       "NM     108172.0\n",
       "NV     102342.0\n",
       "NE      92751.0\n",
       "ID      83850.0\n",
       "NH      78298.0\n",
       "RI      72723.0\n",
       "HI      56657.0\n",
       "ME      56027.0\n",
       "DC      47615.0\n",
       "DE      47330.0\n",
       "MT      44120.0\n",
       "ND      40883.0\n",
       "SD      40744.0\n",
       "VT      33277.0\n",
       "AK      24932.0\n",
       "WY      24688.0\n",
       "GU       5682.0\n",
       "FM       2344.0\n",
       "VI       1971.0\n",
       "AS       1276.0\n",
       "MP       1120.0\n",
       "MH       1078.0\n",
       "PW        602.0\n",
       "Name: ugds, dtype: float64"
      ]
     },
     "execution_count": 5,
     "metadata": {},
     "output_type": "execute_result"
    }
   ],
   "source": [
    "tot_ugds_by_state"
   ]
  },
  {
   "cell_type": "markdown",
   "metadata": {},
   "source": [
    "# Answer"
   ]
  },
  {
   "cell_type": "code",
   "execution_count": 6,
   "metadata": {},
   "outputs": [
    {
     "data": {
      "text/plain": [
       "stabbr\n",
       "PA    604942.0\n",
       "Name: ugds, dtype: float64"
      ]
     },
     "execution_count": 6,
     "metadata": {},
     "output_type": "execute_result"
    }
   ],
   "source": [
    "# 1\n",
    "college.loc[college['instnm'].str.contains('University of Texas'), 'instnm']\n",
    "college.loc[college['instnm']=='The University of Texas at Dallas', 'satmtmid']\n",
    "\n",
    "\n",
    "# 2\n",
    "total_udgs = college.groupby('stabbr')['ugds'].sum()\n",
    "total_udgs.nlargest(5).tail(1)\n"
   ]
  }
 ],
 "metadata": {
  "kernelspec": {
   "display_name": "Python 3 (ipykernel)",
   "language": "python",
   "name": "python3"
  },
  "language_info": {
   "codemirror_mode": {
    "name": "ipython",
    "version": 3
   },
   "file_extension": ".py",
   "mimetype": "text/x-python",
   "name": "python",
   "nbconvert_exporter": "python",
   "pygments_lexer": "ipython3",
   "version": "3.10.8"
  }
 },
 "nbformat": 4,
 "nbformat_minor": 2
}
