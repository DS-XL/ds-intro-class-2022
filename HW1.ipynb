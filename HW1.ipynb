{
 "cells": [
  {
   "cell_type": "markdown",
   "id": "2f8d3739-f9cb-48da-8190-cd541f635efc",
   "metadata": {
    "tags": []
   },
   "source": [
    "\n",
    "\n",
    "#### Exercise 2:\n",
    "1. Define a fraction number with numerator=123 and denominator=456, print out the fraction number in format `a/b` and the quotient with 8 digits after decimal point.\n",
    "\n",
    "Sample output: `\"123/456 = 0.269737\"`"
   ]
  },
  {
   "cell_type": "code",
   "execution_count": 32,
   "id": "ac6fc154-6db7-4b9a-a7d1-e6dbfc5bd31f",
   "metadata": {},
   "outputs": [
    {
     "name": "stdout",
     "output_type": "stream",
     "text": [
      "123/456 = 0.26973684\n"
     ]
    }
   ],
   "source": [
    "numerator = 123\n",
    "denominator = 456\n",
    "\n",
    "# code up your solution below\n",
    "print(f'123/456 = {numerator/denominator :.8f}')"
   ]
  },
  {
   "cell_type": "markdown",
   "id": "8e1a20f9-0705-4733-b36f-b95bc3b1e303",
   "metadata": {},
   "source": [
    "2. Print out every other character of the string `\"Data Science\"` using string slicing. "
   ]
  },
  {
   "cell_type": "code",
   "execution_count": 1,
   "id": "f47025f8-d168-47b1-a82d-5d903e10e914",
   "metadata": {},
   "outputs": [
    {
     "name": "stdout",
     "output_type": "stream",
     "text": [
      "Dt cec\n"
     ]
    }
   ],
   "source": [
    "# code up you solution here\n",
    "target = \"Data Science\"\n",
    "print(target[::2])"
   ]
  },
  {
   "cell_type": "markdown",
   "id": "5aa3affd-425d-4d7d-9952-432ace705782",
   "metadata": {},
   "source": [
    "3. The string `regex_wiki` contains the second paragraph of regular expression introduction in Wikipedia. Modify the string with all lower case and no space."
   ]
  },
  {
   "cell_type": "code",
   "execution_count": 2,
   "id": "ffbce5d7-7759-49cc-b172-45153363e677",
   "metadata": {},
   "outputs": [
    {
     "name": "stdout",
     "output_type": "stream",
     "text": [
      "theconceptaroseinthe1950swhentheamericanmathematicianstephencolekleeneformalized\n",
      "thedescriptionofaregularlanguage.theconceptcameintocommonusewithunixtext-processingutilities.\n",
      "differentsyntaxesforwritingregularexpressionshaveexistedsincethe1980s,onebeingtheposixstandard\n",
      "andanother,widelyused,beingtheperlsyntax.\n"
     ]
    }
   ],
   "source": [
    "regex_wiki = \"\"\"The concept arose in the 1950s when the American mathematician Stephen Cole Kleene formalized \n",
    "the description of a regular language. The concept came into common use with Unix text-processing utilities. \n",
    "Different syntaxes for writing regular expressions have existed since the 1980s, one being the POSIX standard \n",
    "and another, widely used, being the Perl syntax.\"\"\"\n",
    "\n",
    "# code up your solution below and print to check answer\n",
    "print(regex_wiki.lower().replace(' ',''))"
   ]
  },
  {
   "cell_type": "markdown",
   "id": "75fbece7-5d35-4fd6-9b2f-56c25f29293f",
   "metadata": {},
   "source": [
    "4. Replace all `data` with `<3` in the following string. Use a string method to check `data` is not in the new string."
   ]
  },
  {
   "cell_type": "code",
   "execution_count": 6,
   "id": "e426c868-fc04-4a9a-add7-9ce650c4bc27",
   "metadata": {},
   "outputs": [
    {
     "name": "stdout",
     "output_type": "stream",
     "text": [
      "False\n"
     ]
    }
   ],
   "source": [
    "data_science = \"\"\"Data science continues to evolve as one of the most promising and in-demand career paths for \n",
    "skilled professionals. Today, successful data professionals understand that they must advance past the traditional \n",
    "skills of analyzing large amounts of data, data mining, and programming skills. In order to uncover useful \n",
    "intelligence for their organizations, data scientists must master the full spectrum of the data science life cycle \n",
    "and possess a level of flexibility and understanding to maximize returns at each phase of the process.\"\"\"\n",
    "\n",
    "# code up your solution below\n",
    "data_science_1 = data_science.replace('data','<3')\n",
    "print('data' in data_science_1)"
   ]
  },
  {
   "cell_type": "markdown",
   "id": "22cb2847-b80f-46e7-a44c-6747c4ab9375",
   "metadata": {},
   "source": [
    "5. (Bonus Challenge): if you are familiar with string manipulation and `regex`, use python's regular expression `re` module to replace the first `a` in all `data` in the paragraph above, and keep the original case for the word.\n",
    "\n",
    "`Data ---> D<3ta`, `data ---> d<3ta`, `DATA --- D<3TA`, etc.\n",
    "\n",
    "We can use this example for an intro to regex if some of your are interested."
   ]
  },
  {
   "cell_type": "code",
   "execution_count": 9,
   "id": "193e1712-ff80-427c-adbe-1d45266f5c98",
   "metadata": {},
   "outputs": [
    {
     "name": "stdout",
     "output_type": "stream",
     "text": [
      "D<3ta science continues to evolve as one of the most promising and in-demand career paths for \n",
      "skilled professionals. Today, successful d<3ta professionals understand that they must advance past the traditional \n",
      "skills of analyzing large amounts of d<3ta, d<3ta mining, and programming skills. In order to uncover useful \n",
      "intelligence for their organizations, d<3ta scientists must master the full spectrum of the d<3ta science life cycle \n",
      "and possess a level of flexibility and understanding to maximize returns at each phase of the process.\n"
     ]
    }
   ],
   "source": [
    "import re\n",
    "# code up your solution here\n",
    "data_science_2 = re.sub(\"data\", 'd<3ta', data_science)\n",
    "data_science_2 = re.sub(\"Data\", 'D<3ta', data_science_2)\n",
    "data_science_2 = re.sub(\"DATA\", 'D<3TA', data_science_2)\n",
    "print(data_science_2)"
   ]
  },
  {
   "cell_type": "markdown",
   "id": "5817e5cb-af73-48ab-8c6d-1fdef3a64c1e",
   "metadata": {},
   "source": [
    "Check out [Regular Expression syntax](https://docs.python.org/3/library/re.html#regular-expression-syntax) for how to \"look around\" in your pattern."
   ]
  },
  {
   "cell_type": "markdown",
   "id": "aa1c9291-d283-4e17-b23a-710e7ecff60b",
   "metadata": {
    "tags": []
   },
   "source": [
    "#### Exercise 3."
   ]
  },
  {
   "cell_type": "markdown",
   "id": "066ef855-9ca7-4abc-a573-6e471b2c30a8",
   "metadata": {},
   "source": [
    "1. Write a program flow which will assign `grade` by the test scores using the following conditions:\n",
    "\n",
    "    1. If score >= 90, grade=\"A\"\n",
    "    2. If 80 >= score >90, grade=\"B\"\n",
    "    3. If 70 >= score >80, grade=\"C\"\n",
    "    4. If 60 >= score >70, grade=\"D\"\n",
    "    5. IF score < 60, grade=\"F\""
   ]
  },
  {
   "cell_type": "code",
   "execution_count": 21,
   "id": "0f8d64f2-dd2a-4084-b954-27f2111240a4",
   "metadata": {},
   "outputs": [
    {
     "data": {
      "text/plain": [
       "'F'"
      ]
     },
     "execution_count": 21,
     "metadata": {},
     "output_type": "execute_result"
    }
   ],
   "source": [
    "# code up your solution here\n",
    "def grader(n):\n",
    "    grade = 0\n",
    "    if n>=90:\n",
    "        grade=\"A\"\n",
    "    elif n>=80:\n",
    "        grade=\"B\"\n",
    "    elif n>=70:\n",
    "        grade=\"C\"\n",
    "    elif n>=60:\n",
    "        grade=\"D\"\n",
    "    else:\n",
    "        grade=\"F\"\n",
    "    return grade\n",
    "\n",
    "grader(21)"
   ]
  },
  {
   "cell_type": "markdown",
   "id": "b8a551a2-fafd-4da9-ae17-96e700210154",
   "metadata": {},
   "source": [
    "2. x=1, y=1, write a flow to assign messge to different value base on different criteria as below, and in the end print out the message:\n",
    "\n",
    "    a. If x less than y, messge=\"x is less than y\"\n",
    "    \n",
    "    b. If x larger than y, messge=\"x is greater than y\"\n",
    "    \n",
    "    c. If x equal to y, messge=\"x is the same as y\"\n"
   ]
  },
  {
   "cell_type": "code",
   "execution_count": 24,
   "id": "d5d3b80d-ed1e-43a0-81f7-9fd9f8175879",
   "metadata": {},
   "outputs": [
    {
     "name": "stdout",
     "output_type": "stream",
     "text": [
      "x is greater than y\n"
     ]
    }
   ],
   "source": [
    "# code up your solution here\n",
    "def compare(x,y):\n",
    "    if x<y:\n",
    "        print(\"x is less than y\")\n",
    "    elif x>y:\n",
    "        print(\"x is greater than y\")\n",
    "    else:\n",
    "        print('x is the same as y')\n",
    "        \n",
    "compare(3,2)"
   ]
  },
  {
   "cell_type": "markdown",
   "id": "b848a503-fdab-4aba-aa42-369c8f91c317",
   "metadata": {
    "tags": []
   },
   "source": [
    "#### Exercise 4. "
   ]
  },
  {
   "cell_type": "markdown",
   "id": "a83275e5-bbb1-470d-8cbc-65b65d66947b",
   "metadata": {},
   "source": [
    "1. [Read more on `list`](https://docs.python.org/3/tutorial/datastructures.html#more-on-lists) and select 2 list methods not mentioned in class to give examples of using them."
   ]
  },
  {
   "cell_type": "code",
   "execution_count": 64,
   "id": "0956a790-c427-460e-a789-22e49addeb35",
   "metadata": {},
   "outputs": [
    {
     "name": "stdout",
     "output_type": "stream",
     "text": [
      "2\n",
      "['D', 'a', 't', 'a', ' ', 'S', 'c', 'i', 'e', 'n', 'c', 'e', ' ', 'HW01']\n",
      "['D', 'a', 't', 'a', ' ', 'S', 'c', 'i', 'e', 'n', 'c', 'e', [' ', 'HW01']]\n"
     ]
    }
   ],
   "source": [
    "one_list = list(\"Data Science\")\n",
    "\n",
    "# return number of occurrences of value\n",
    "print(one_list.count('a'))\n",
    "\n",
    "# extends the list by appending elements from the specified iterable [change in place]\n",
    "one_list.extend([' ','HW01'])\n",
    "print(one_list)\n",
    "\n",
    "# extend vs append: append() aim to append a specified object at the end of the list\n",
    "one_list_app = list(\"Data Science\")\n",
    "one_list_app.append([' ','HW01'])\n",
    "print(one_list_app)"
   ]
  },
  {
   "cell_type": "markdown",
   "id": "ff578278-5a61-4498-af31-2936bb9e2cf1",
   "metadata": {},
   "source": [
    "2. How can you check if a `key` is already in a dictionary? Give an example."
   ]
  },
  {
   "cell_type": "code",
   "execution_count": 69,
   "id": "b838aff4-5750-4d15-816e-92d076db9c06",
   "metadata": {},
   "outputs": [
    {
     "name": "stdout",
     "output_type": "stream",
     "text": [
      "True\n",
      "False\n"
     ]
    }
   ],
   "source": [
    "one_dict = {'data':'science', 'science':0}\n",
    "print('data' in one_dict)\n",
    "print('Data' in one_dict)"
   ]
  },
  {
   "cell_type": "markdown",
   "id": "c60b3f8d-9ee7-4dc9-b40b-0b45b28a5eeb",
   "metadata": {},
   "source": [
    "3. [Explore how `Counter`](https://docs.python.org/3/library/collections.html#collections.Counter) works as another type of collection. Give 2 examples to use `Counter`."
   ]
  },
  {
   "cell_type": "code",
   "execution_count": 74,
   "id": "1c03cbc5-8083-4d8f-b9c3-7c790d673668",
   "metadata": {},
   "outputs": [
    {
     "name": "stdout",
     "output_type": "stream",
     "text": [
      "Counter({'x': 4, 'y': 2, 'z': 2})\n",
      "Counter({'a': 2, 'c': 2, 'e': 2, 'D': 1, 't': 1, ' ': 1, 'S': 1, 'i': 1, 'n': 1})\n"
     ]
    }
   ],
   "source": [
    "from collections import Counter\n",
    "\n",
    "# Counter is used to count the number of each item\n",
    "list1 = ['x','y','z','x','x','x','y', 'z']\n",
    "print(Counter(list1))\n",
    "\n",
    "one_str = \"Data Science\"\n",
    "print(Counter(one_str))"
   ]
  },
  {
   "cell_type": "markdown",
   "id": "30a794f3-5bf4-4ccc-8aa2-ed234118e667",
   "metadata": {},
   "source": [
    "4. The Fibonacci Sequence is the series of numbers:\n",
    "0, 1, 1, 2, 3, 5, 8, 13, 21, 34, ...\n",
    "\n",
    "The next number is found by adding up the two numbers before it.\n",
    "Find the last element of the `fibolist`"
   ]
  },
  {
   "cell_type": "code",
   "execution_count": 90,
   "id": "f93aa04d-98f1-481b-bab6-fd514c55e3c6",
   "metadata": {},
   "outputs": [
    {
     "name": "stdout",
     "output_type": "stream",
     "text": [
      "317811\n"
     ]
    }
   ],
   "source": [
    "fibolist=[0, 1, 1, 2, 3, 5, 8, 13, 21, 34, 55, 89, 144, 233, 377, 610, 987, 1597, 2584, 4181, 6765, 10946, 17711, 28657, 46368, 75025, 121393, 196418, 317811]\n",
    "\n",
    "# code your solution here\n",
    "print(fibolist[-1])"
   ]
  },
  {
   "cell_type": "markdown",
   "id": "54dc8d81-5436-4cbe-8cec-14784efd5fbe",
   "metadata": {},
   "source": [
    "5. Calculate the sum of `fibolist`"
   ]
  },
  {
   "cell_type": "code",
   "execution_count": 91,
   "id": "61795f99-3569-4a07-9ecb-6c3e86322e21",
   "metadata": {},
   "outputs": [
    {
     "name": "stdout",
     "output_type": "stream",
     "text": [
      "832039\n"
     ]
    }
   ],
   "source": [
    "# code your solution here\n",
    "print(sum(fibolist))"
   ]
  },
  {
   "cell_type": "markdown",
   "id": "fbe646b0-81dd-4b45-bf38-ec4f1a9d04d7",
   "metadata": {},
   "source": [
    "6. Calculate and append the next fibonacci number to `fibolist`."
   ]
  },
  {
   "cell_type": "code",
   "execution_count": 95,
   "id": "67e44605-7c0e-4c84-881f-b585a929fe3c",
   "metadata": {},
   "outputs": [
    {
     "data": {
      "text/plain": [
       "514229"
      ]
     },
     "execution_count": 95,
     "metadata": {},
     "output_type": "execute_result"
    }
   ],
   "source": [
    "# code your solution here\n",
    "next_fibo = fibolist[-1]+fibolist[-2]\n",
    "next_fibo"
   ]
  },
  {
   "cell_type": "markdown",
   "id": "315a94d1-eefc-45c0-8244-0591e1b7fd77",
   "metadata": {},
   "source": [
    "7. Create a reversed copy of fibolist without permanently reversing fibolist liteslf."
   ]
  },
  {
   "cell_type": "code",
   "execution_count": 97,
   "id": "c1e9bc98-ba50-43af-baea-a77af9e76a11",
   "metadata": {},
   "outputs": [
    {
     "name": "stdout",
     "output_type": "stream",
     "text": [
      "Fibolist: [0, 1, 1, 2, 3, 5, 8, 13, 21, 34, 55, 89, 144, 233, 377, 610, 987, 1597, 2584, 4181, 6765, 10946, 17711, 28657, 46368, 75025, 121393, 196418, 317811]\n",
      "Reversed Fibolist: [317811, 196418, 121393, 75025, 46368, 28657, 17711, 10946, 6765, 4181, 2584, 1597, 987, 610, 377, 233, 144, 89, 55, 34, 21, 13, 8, 5, 3, 2, 1, 1, 0]\n"
     ]
    }
   ],
   "source": [
    "# code your solution here\n",
    "import copy\n",
    "\n",
    "deep_fibolist = copy.deepcopy(fibolist)\n",
    "deep_fibolist.reverse()\n",
    "print(f'Fibolist: {fibolist}')\n",
    "print(f'Reversed Fibolist: {deep_fibolist}')"
   ]
  },
  {
   "cell_type": "markdown",
   "id": "57536a99-1e60-46c4-8c70-a91b0a1d2633",
   "metadata": {},
   "source": [
    "8. Check if `29473` is a fibonacci number, and assign the anser to variable `fibo_29473`"
   ]
  },
  {
   "cell_type": "code",
   "execution_count": 100,
   "id": "5deedc77-2f58-495f-a0c1-3358270bc8ba",
   "metadata": {},
   "outputs": [
    {
     "name": "stdout",
     "output_type": "stream",
     "text": [
      "False\n"
     ]
    }
   ],
   "source": [
    "# code your solution here\n",
    "fibo_29473 = 29473 in fibolist\n",
    "print(fibo_29473)"
   ]
  },
  {
   "cell_type": "markdown",
   "id": "6650124b-b641-4925-8001-99aaa26fd870",
   "metadata": {},
   "source": [
    "9. Create two sets. Calculate the union, intersection, difference and symmetric difference for the two sets."
   ]
  },
  {
   "cell_type": "code",
   "execution_count": 113,
   "id": "db8d89ef-d0ad-4e90-b40b-e2e2e849173a",
   "metadata": {},
   "outputs": [
    {
     "name": "stdout",
     "output_type": "stream",
     "text": [
      "x: {'5', '-', '7', '3', '2', '8', '6', '1'}\n",
      "y: {'5', '0', '-', '7', '3', '2', '4', '9', '6', '1'}\n",
      "Union: {'5', '0', '-', '7', '3', '2', '8', '4', '9', '6', '1'}\n",
      "Intersection: {'5', '-', '7', '3', '2', '6', '1'}\n",
      "Difference: {'8'}\n",
      "Symmetric Difference: {'0', '8', '4', '9'}\n"
     ]
    }
   ],
   "source": [
    "# code your solution here\n",
    "x = set('5378-565612')\n",
    "y = set('356103246-791')\n",
    "print(f'x: {x}\\ny: {y}')\n",
    "print(f'Union: {x|y}')\n",
    "print(f'Intersection: {x&y}')\n",
    "print(f'Difference: {x-y}')\n",
    "print(f'Symmetric Difference: {x^y}')"
   ]
  },
  {
   "cell_type": "markdown",
   "id": "4367b352-107b-46a3-bb05-a354388c4e19",
   "metadata": {},
   "source": [
    "10. Creat a dictionary using at least two different methods."
   ]
  },
  {
   "cell_type": "code",
   "execution_count": 115,
   "id": "49393fab-80f5-4e91-a413-f1e720c12b9f",
   "metadata": {},
   "outputs": [
    {
     "name": "stdout",
     "output_type": "stream",
     "text": [
      "{'apple': ['red', 'tree', 3], 'orange': ['orange', 'tree', 20]}\n",
      "{'apple': ['red', 'tree', 3], 'orange': ['orange', 'tree', 20]}\n"
     ]
    }
   ],
   "source": [
    "# code your solution here\n",
    "# refer to class material above for 3 ways\n",
    "dict_1 = dict(apple=['red','tree',3],orange=['orange','tree',20])\n",
    "dict_2 = {'apple':['red','tree',3],'orange':['orange','tree',20]}\n",
    "print(dict_1)\n",
    "print(dict_2)"
   ]
  },
  {
   "cell_type": "markdown",
   "id": "8262babf-859d-41d8-9729-18a834135feb",
   "metadata": {},
   "source": [
    "11. Check if `2` and `9999` are fibonacci numbers. Create a dictionary `fibo_dict` with the numbers as keys, and boolean value=`True` if the number is fibonacci number, and `False` otherwise."
   ]
  },
  {
   "cell_type": "code",
   "execution_count": 117,
   "id": "d71652bc-dd2d-49db-826c-59ed96f29afb",
   "metadata": {},
   "outputs": [
    {
     "data": {
      "text/plain": [
       "{2: True, 9999: False}"
      ]
     },
     "execution_count": 117,
     "metadata": {},
     "output_type": "execute_result"
    }
   ],
   "source": [
    "# code your solution here\n",
    "is_fibo_2 = 2 in fibolist\n",
    "is_fibo_9999 = 9999 in fibolist\n",
    "fibo_dict = {2:is_fibo_2, 9999:is_fibo_9999}\n",
    "fibo_dict"
   ]
  }
 ],
 "metadata": {
  "kernelspec": {
   "display_name": "Python 3 (ipykernel)",
   "language": "python",
   "name": "python3"
  },
  "language_info": {
   "codemirror_mode": {
    "name": "ipython",
    "version": 3
   },
   "file_extension": ".py",
   "mimetype": "text/x-python",
   "name": "python",
   "nbconvert_exporter": "python",
   "pygments_lexer": "ipython3",
   "version": "3.9.15"
  }
 },
 "nbformat": 4,
 "nbformat_minor": 5
}
