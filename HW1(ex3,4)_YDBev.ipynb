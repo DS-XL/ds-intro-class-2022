{
 "cells": [
  {
   "cell_type": "markdown",
   "id": "ffc8aadc",
   "metadata": {},
   "source": [
    "# HW 1"
   ]
  },
  {
   "cell_type": "markdown",
   "id": "f2f5da78",
   "metadata": {},
   "source": [
    "## Exercise 3."
   ]
  },
  {
   "cell_type": "markdown",
   "id": "98ea8096",
   "metadata": {},
   "source": [
    "1. Write a program flow which will assign grade by the test scores using the following conditions:\n",
    "    1. If score >= 90, grade=\"A\"\n",
    "    2. If 80 >= score >90, grade=\"B\"\n",
    "    3. If 70 >= score >80, grade=\"C\"\n",
    "    4. If 60 >= score >70, grade=\"D\"\n",
    "    5. IF score < 60, grade=\"F\""
   ]
  },
  {
   "cell_type": "code",
   "execution_count": null,
   "id": "a37bbec0",
   "metadata": {},
   "outputs": [],
   "source": []
  },
  {
   "cell_type": "markdown",
   "id": "0821b4df",
   "metadata": {},
   "source": [
    "2. x=1, y=1, write a flow to assign messge to different value base on different criteria as below, and in the end print out the message:\n",
    "\n",
    "    a. If x less than y, messge=\"x is less than y\"\n",
    "    \n",
    "    b. If x larger than y, messge=\"x is greater than y\"\n",
    "    \n",
    "    c. If x equal to y, messge=\"x is the same as y\""
   ]
  },
  {
   "cell_type": "code",
   "execution_count": null,
   "id": "0d6d1df1",
   "metadata": {},
   "outputs": [],
   "source": []
  },
  {
   "cell_type": "markdown",
   "id": "189e8f82",
   "metadata": {},
   "source": [
    "## Exercise 4."
   ]
  },
  {
   "cell_type": "markdown",
   "id": "0235ba42",
   "metadata": {},
   "source": [
    "1. [Read more on `list`](https://docs.python.org/3/tutorial/datastructures.html#more-on-lists) and select 2 list methods not mentioned in class to give examples of using them."
   ]
  },
  {
   "cell_type": "markdown",
   "id": "97ce2234",
   "metadata": {},
   "source": [
    "2. How can you check if a `key` is already in a dictionary? Give an example."
   ]
  },
  {
   "cell_type": "markdown",
   "id": "8d74bcb0",
   "metadata": {},
   "source": [
    "3. [Explore how `Counter`](https://docs.python.org/3/library/collections.html#collections.Counter) works as another type of collection. Give 2 examples to use `Counter`."
   ]
  },
  {
   "cell_type": "markdown",
   "id": "edd6f30e",
   "metadata": {},
   "source": [
    "4. The Fibonacci Sequence is the series of numbers:\n",
    "0, 1, 1, 2, 3, 5, 8, 13, 21, 34, ...\n",
    "\n",
    "The next number is found by adding up the two numbers before it.\n",
    "Find the last element of the `fibolist`"
   ]
  },
  {
   "cell_type": "code",
   "execution_count": null,
   "id": "a37e90c5",
   "metadata": {},
   "outputs": [],
   "source": [
    "fibolist=[0, 1, 1, 2, 3, 5, 8, 13, 21, 34, 55, 89, 144, 233, 377, 610, 987, 1597, 2584, 4181, 6765, 10946, 17711, 28657, 46368, 75025, 121393, 196418, 317811]"
   ]
  },
  {
   "cell_type": "markdown",
   "id": "a6b0db21",
   "metadata": {},
   "source": [
    "5. Calculate the sum of `fibolist`"
   ]
  },
  {
   "cell_type": "code",
   "execution_count": null,
   "id": "6e8e5bf3",
   "metadata": {},
   "outputs": [],
   "source": []
  },
  {
   "cell_type": "markdown",
   "id": "3a54920c",
   "metadata": {},
   "source": [
    "6. Calculate and append the next fibonacci number to `fibolist`."
   ]
  },
  {
   "cell_type": "code",
   "execution_count": null,
   "id": "59b22d79",
   "metadata": {},
   "outputs": [],
   "source": []
  },
  {
   "cell_type": "markdown",
   "id": "ce053233",
   "metadata": {},
   "source": [
    "7. Create a reversed copy of fibolist without permanently reversing fibolist liteslf."
   ]
  },
  {
   "cell_type": "code",
   "execution_count": null,
   "id": "260b3f95",
   "metadata": {},
   "outputs": [],
   "source": []
  },
  {
   "cell_type": "markdown",
   "id": "923808d4",
   "metadata": {},
   "source": [
    "8. Check if `29473` is a fibonacci number, and assign the anser to variable `fibo_29473`"
   ]
  },
  {
   "cell_type": "code",
   "execution_count": null,
   "id": "29346834",
   "metadata": {},
   "outputs": [],
   "source": []
  },
  {
   "cell_type": "markdown",
   "id": "467ed9d6",
   "metadata": {},
   "source": [
    "9. Create two sets. Calculate the union, intersection, difference and symmetric difference for the two sets."
   ]
  },
  {
   "cell_type": "code",
   "execution_count": null,
   "id": "7197e36f",
   "metadata": {},
   "outputs": [],
   "source": []
  },
  {
   "cell_type": "markdown",
   "id": "af660217",
   "metadata": {},
   "source": [
    "10. Creat a dictionary using at least two different methods."
   ]
  },
  {
   "cell_type": "code",
   "execution_count": null,
   "id": "9e9ea78f",
   "metadata": {},
   "outputs": [],
   "source": []
  },
  {
   "cell_type": "markdown",
   "id": "a6b39e0e",
   "metadata": {},
   "source": [
    "11. Check if `2` and `9999` are fibonacci numbers. Create a dictionary `fibo_dict` with the numbers as keys, and boolean value=`True` if the number is fibonacci number, and `False` otherwise."
   ]
  },
  {
   "cell_type": "code",
   "execution_count": null,
   "id": "47f50040",
   "metadata": {},
   "outputs": [],
   "source": []
  }
 ],
 "metadata": {
  "kernelspec": {
   "display_name": "Python 3 (ipykernel)",
   "language": "python",
   "name": "python3"
  },
  "language_info": {
   "codemirror_mode": {
    "name": "ipython",
    "version": 3
   },
   "file_extension": ".py",
   "mimetype": "text/x-python",
   "name": "python",
   "nbconvert_exporter": "python",
   "pygments_lexer": "ipython3",
   "version": "3.10.8"
  }
 },
 "nbformat": 4,
 "nbformat_minor": 5
}
