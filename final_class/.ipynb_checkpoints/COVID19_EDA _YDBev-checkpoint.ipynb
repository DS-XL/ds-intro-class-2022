{
 "cells": [
  {
   "cell_type": "markdown",
   "id": "4ba8ac16",
   "metadata": {},
   "source": [
    "# Tasks: 1hr\n",
    "\n",
    "1. Perform exploratory data analysis (EDA).\n",
    "2. Come up with an interesting question based on your EDA, and try to answer it with supporting data.\n",
    "3. Write a short summary (1 paragraph) of your EDA and findings regarding the question you asked.\n",
    "\n",
    "## Data\n",
    "2019_nCoV_data.csv\n",
    "\n",
    "COVID19_line_list_data.csv\n",
    "\n",
    "COVID19_open_line_list.csv\n",
    "\n",
    "covid_19_data.csv\n",
    "\n",
    "time_series_covid_19_confirmed.csv\n",
    "\n",
    "time_series_covid_19_deaths.csv\n",
    "\n",
    "time_series_covid_19_recovered.csv"
   ]
  },
  {
   "cell_type": "markdown",
   "id": "430fec67",
   "metadata": {},
   "source": [
    "# Load data "
   ]
  },
  {
   "cell_type": "code",
   "execution_count": null,
   "id": "8eff15ba",
   "metadata": {},
   "outputs": [],
   "source": [
    "import os\n",
    "os.getcwd()"
   ]
  },
  {
   "cell_type": "code",
   "execution_count": null,
   "id": "7f016ff8",
   "metadata": {},
   "outputs": [],
   "source": [
    "import pandas as pd\n",
    "\n",
    "dirt = '/Users/dby/Desktop/DS_Projects/ds-intro-class-2022/final_class/novel-corona-virus-2019-dataset/'\n",
    "nCoV_2019 = pd.read_csv(dirt+'2019_nCoV_data.csv')\n",
    "COVID19_line_list_data = pd.read_csv(dirt+'COVID19_line_list_data.csv')\n",
    "COVID19_open_line_list = pd.read_csv(dirt+'COVID19_open_line_list.csv') \n",
    "covid19 = pd.read_csv(dirt+'covid_19_data.csv') \n",
    "time_series_covid_19_confirmed = pd.read_csv(dirt+'time_series_covid_19_confirmed.csv') \n",
    "time_series_covid_19_deaths = pd.read_csv(dirt+'time_series_covid_19_deaths.csv') \n",
    "time_series_covid_19_recovered = pd.read_csv(dirt+'time_series_covid_19_recovered.csv') "
   ]
  },
  {
   "cell_type": "code",
   "execution_count": null,
   "id": "9a212e04",
   "metadata": {},
   "outputs": [],
   "source": [
    "nCoV_2019.info()\n",
    "nCoV_2019.head()"
   ]
  },
  {
   "cell_type": "code",
   "execution_count": null,
   "id": "c74554ad",
   "metadata": {},
   "outputs": [],
   "source": [
    "covid19.info()\n",
    "covid19.head()"
   ]
  },
  {
   "cell_type": "code",
   "execution_count": null,
   "id": "b4cf81b5",
   "metadata": {},
   "outputs": [],
   "source": [
    "COVID19_line_list_data.info()\n",
    "COVID19_line_list_data.head()"
   ]
  },
  {
   "cell_type": "code",
   "execution_count": null,
   "id": "032c69e7",
   "metadata": {},
   "outputs": [],
   "source": [
    "COVID19_open_line_list.info()\n",
    "COVID19_open_line_list.head()"
   ]
  },
  {
   "cell_type": "code",
   "execution_count": null,
   "id": "02d00c5a",
   "metadata": {},
   "outputs": [],
   "source": [
    "time_series_covid_19_confirmed.info()\n",
    "time_series_covid_19_confirmed.head()"
   ]
  },
  {
   "cell_type": "code",
   "execution_count": null,
   "id": "b3b8293d",
   "metadata": {},
   "outputs": [],
   "source": [
    "time_series_covid_19_deaths.info()\n",
    "time_series_covid_19_deaths.head()"
   ]
  },
  {
   "cell_type": "code",
   "execution_count": null,
   "id": "83d21215",
   "metadata": {},
   "outputs": [],
   "source": [
    "time_series_covid_19_recovered.info()\n",
    "time_series_covid_19_recovered.head()"
   ]
  },
  {
   "cell_type": "markdown",
   "id": "7c6fce68",
   "metadata": {},
   "source": [
    "# Question\n",
    "\n",
    "Which country/region has the fastest cases growth? death rate? recovery rate?"
   ]
  },
  {
   "cell_type": "code",
   "execution_count": null,
   "id": "d4e4cfe3",
   "metadata": {},
   "outputs": [],
   "source": [
    "# check time series country region values match in the term series data\n",
    "time_series_covid_19_confirmed['Country/Region'].unique()==time_series_covid_19_deaths['Country/Region'].unique() \n",
    "time_series_covid_19_deaths['Country/Region'].unique() == time_series_covid_19_recovered['Country/Region'].unique() "
   ]
  },
  {
   "cell_type": "code",
   "execution_count": null,
   "id": "7ba7a81b",
   "metadata": {},
   "outputs": [],
   "source": [
    "time_series_covid_19_deaths['Country/Region'].unique() "
   ]
  },
  {
   "cell_type": "code",
   "execution_count": null,
   "id": "467bba56",
   "metadata": {},
   "outputs": [],
   "source": [
    "confirm = time_series_covid_19_confirmed.copy().drop(columns=['Lat','Long'])\n",
    "death = time_series_covid_19_deaths.copy().drop(columns=['Lat','Long'])\n",
    "rec = time_series_covid_19_recovered.copy().drop(columns=['Lat','Long'])"
   ]
  },
  {
   "cell_type": "code",
   "execution_count": null,
   "id": "e69d6390",
   "metadata": {},
   "outputs": [],
   "source": [
    "confirm.groupby('Country/Region').value_counts(['Province/State'])"
   ]
  },
  {
   "cell_type": "code",
   "execution_count": null,
   "id": "de646e39",
   "metadata": {},
   "outputs": [],
   "source": [
    "Hubei_confirm = confirm[confirm['Province/State'] == 'Hubei'].T.reset_index(names='Date').iloc[2:].rename(columns={12:'num'})\n",
    "Hubei_death = death[death['Province/State'] == 'Hubei'].T.reset_index(names='Date').iloc[2:].rename(columns={12:'num'})\n",
    "Hubei_rec = rec[rec['Province/State'] == 'Hubei'].T.reset_index(names='Date').iloc[2:].rename(columns={12:'num'})\n",
    "\n",
    "Hubei_rec = Hubei_rec.astype({'num':'int'})\n",
    "Hubei_rec['Date'] = pd.to_datetime(Hubei_rec['Date'])\n",
    "\n",
    "Hubei_confirm = Hubei_confirm.astype({'num':'int'})\n",
    "Hubei_confirm['Date'] = pd.to_datetime(Hubei_confirm['Date'])\n",
    "\n",
    "Hubei_death = Hubei_death.astype({'num':'int'})\n",
    "Hubei_death['Date'] = pd.to_datetime(Hubei_death['Date'])\n",
    "\n",
    "merge1_Hubei = Hubei_confirm.merge(Hubei_death,on='Date') \n",
    "Hubei_time_series = merge1_Hubei.merge(Hubei_rec, on='Date').rename(columns={'num_x':'confirm','num_y':'death','num':'rec'})\n",
    "\n",
    "Hubei_time_series.head()"
   ]
  },
  {
   "cell_type": "code",
   "execution_count": null,
   "id": "b17c5e66",
   "metadata": {},
   "outputs": [],
   "source": [
    "import matplotlib.pyplot as plt\n",
    "plt.plot(Hubei_time_series['Date'], Hubei_time_series['confirm'], zorder=1)\n",
    "plt.plot(Hubei_time_series['Date'], Hubei_time_series['death'], zorder=2)\n",
    "plt.plot(Hubei_time_series['Date'], Hubei_time_series['rec'], zorder=3)"
   ]
  }
 ],
 "metadata": {
  "kernelspec": {
   "display_name": "Python 3 (ipykernel)",
   "language": "python",
   "name": "python3"
  },
  "language_info": {
   "codemirror_mode": {
    "name": "ipython",
    "version": 3
   },
   "file_extension": ".py",
   "mimetype": "text/x-python",
   "name": "python",
   "nbconvert_exporter": "python",
   "pygments_lexer": "ipython3",
   "version": "3.10.8"
  }
 },
 "nbformat": 4,
 "nbformat_minor": 5
}
