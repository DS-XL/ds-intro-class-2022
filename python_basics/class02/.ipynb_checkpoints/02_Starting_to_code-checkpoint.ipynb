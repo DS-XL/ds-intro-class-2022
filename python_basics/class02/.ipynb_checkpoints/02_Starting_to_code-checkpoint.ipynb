{
 "cells": [
  {
   "cell_type": "markdown",
   "metadata": {},
   "source": [
    "# Intro to Python3 - Class02\n",
    "\n",
    "### Class agenda:\n",
    "##### 4. Collections: `list`, `tuple`, `set`, and `dictionary`\n",
    "##### 5. Iteration: loops and comprehensions\n",
    "##### 6. Writing functions\n",
    "\n",
    "##### Before we start new class, a few tips/resouces:\n",
    "- Jupyter Notebook [quickstart](https://jupyter.readthedocs.io/en/latest/content-quickstart.html): learn about how to use the basic functions and shortcuts.\n",
    "- Windows v.s. Unix commands [cheat sheet](https://www.lemoda.net/windows/windows2unix/windows2unix.html): if you are not fluent in both (like me:) feel free to use this guide to understand what I'm trying to do and use the right command for your OS.\n",
    "- Git [interactive tutorial](https://learngitbranching.js.org/?locale=en_US): very easy to follow and you can try all the `git` commands in web browser.\n",
    "- Try to get comfortable with [using command line/terminal](https://www.codecademy.com/articles/command-line-commands), this resource gives you some general ideas about the basics.\n",
    "- More on [virtual environment](https://docs.conda.io/projects/conda/en/latest/user-guide/getting-started.html#managing-environments) if you are not sure why/how we set up `intro` after downloading Anaconda.\n",
    "- Use [issues](https://github.com/emma-oc/ds-class-intro/issues) in class repo for Q&A."
   ]
  },
  {
   "cell_type": "markdown",
   "metadata": {},
   "source": [
    "[How to exit jupyter notebook in terminal?](https://stackoverflow.com/questions/10162707/how-to-close-ipython-notebook-properly)\n",
    "\n",
    "- hit `control+C` twice\n",
    "- use the `Close ant halt` under `File` menu in Jupyter notebook\n",
    "- open another terminal and run the following:\n",
    "    ```\n",
    "    jupyter notebook list # list all the port number for running apps\n",
    "    jupyter notebook stop [port number] \n",
    "    # port number is not required if you're only running one app under default port 8888\n",
    "    ```"
   ]
  },
  {
   "cell_type": "markdown",
   "metadata": {},
   "source": [
    "#### Exercise 0.\n",
    "Follow the instructions in [git tutorial](https://github.com/DS-XL/ds-intro-class-2022/blob/master/Git-setup-and-hw-instruction.md) to create your commit and push changes to your forked repo."
   ]
  },
  {
   "cell_type": "markdown",
   "metadata": {},
   "source": [
    "### 4. Collections: `list`, `tuple`, `set`, and `dictionary`\n",
    "\n",
    "Python has numerious build-in type of collections to help programmer to manage their data. They have different behavior and serve for different purpose\n",
    "\n",
    "#### 4.1 List\n",
    "Lists are the basic data container for accessing data that is stored according to position. They are created using brackets `[ ]` or `list()` function.\n",
    "\n",
    "Note: list belongs to the category of `sequence` data types, meaning the order of items in the list matters. \n",
    "\n",
    "List can contain mixed data types."
   ]
  },
  {
   "cell_type": "code",
   "execution_count": 2,
   "metadata": {},
   "outputs": [],
   "source": [
    "one_list = list(\"Data Science\")\n",
    "num_list = [101, 3, 7, 9, 10]\n",
    "empty_list = list()\n",
    "empty_list2 = []\n",
    "mixed_list = [1, 2, '3', False, 'five', [], ['a']]"
   ]
  },
  {
   "cell_type": "code",
   "execution_count": 11,
   "metadata": {},
   "outputs": [
    {
     "name": "stdout",
     "output_type": "stream",
     "text": [
      "['D', 'a', 't', 'a', ' ', 'S', 'c', 'i', 'e', 'n', 'c', 'e']\n",
      "[101, 3, 7, 9, 10]\n",
      "[]\n",
      "[]\n",
      "[1, 2, '3', False, 'five', [], ['a']]\n",
      "<class 'str'> <class 'bool'>\n"
     ]
    }
   ],
   "source": [
    "print(one_list)\n",
    "print(num_list)\n",
    "print(empty_list)\n",
    "print(empty_list2)\n",
    "print(mixed_list)\n",
    "print(type(mixed_list[2]), type(mixed_list[3]))"
   ]
  },
  {
   "cell_type": "markdown",
   "metadata": {},
   "source": [
    "##### Slicing and indexing"
   ]
  },
  {
   "cell_type": "markdown",
   "metadata": {},
   "source": [
    "Like we already mentions for `str`, `list` also can be indexed, meaning you can refer to item in list by their position/order. Like all other indices in python, they start with `0`."
   ]
  },
  {
   "cell_type": "code",
   "execution_count": 6,
   "metadata": {},
   "outputs": [
    {
     "data": {
      "text/plain": [
       "12"
      ]
     },
     "execution_count": 6,
     "metadata": {},
     "output_type": "execute_result"
    }
   ],
   "source": [
    "len(one_list) # index starts with 0, end at 11"
   ]
  },
  {
   "cell_type": "code",
   "execution_count": 7,
   "metadata": {},
   "outputs": [
    {
     "data": {
      "text/plain": [
       "['D', 'a', 't', 'a', ' ', 'S', 'c', 'i', 'e', 'n', 'c', 'e']"
      ]
     },
     "execution_count": 7,
     "metadata": {},
     "output_type": "execute_result"
    }
   ],
   "source": [
    "one_list"
   ]
  },
  {
   "cell_type": "code",
   "execution_count": 8,
   "metadata": {},
   "outputs": [
    {
     "name": "stdout",
     "output_type": "stream",
     "text": [
      "D\n",
      "e\n"
     ]
    }
   ],
   "source": [
    "print(one_list[0])\n",
    "print(one_list[-1])"
   ]
  },
  {
   "cell_type": "markdown",
   "metadata": {},
   "source": [
    "We've already seen some slicing in strings, for lists, slicing works similarly"
   ]
  },
  {
   "cell_type": "code",
   "execution_count": 9,
   "metadata": {},
   "outputs": [
    {
     "name": "stdout",
     "output_type": "stream",
     "text": [
      "[7, 9, 10]\n",
      "['e', 'c', 'n', 'e', 'i', 'c', 'S', ' ', 'a', 't', 'a', 'D']\n"
     ]
    }
   ],
   "source": [
    "# [start:stop):step\n",
    "print(num_list[2:-])\n",
    "print(one_list[::-1])"
   ]
  },
  {
   "cell_type": "markdown",
   "metadata": {},
   "source": [
    "List can be nested, meaning elements of a list can be lists too. You can use multi indexing for multi-dimension list to access items."
   ]
  },
  {
   "cell_type": "code",
   "execution_count": 14,
   "metadata": {},
   "outputs": [
    {
     "name": "stdout",
     "output_type": "stream",
     "text": [
      "[[0, 1, 2, 3, 4], ['a', 'b', ['cccccccc']]]\n"
     ]
    }
   ],
   "source": [
    "nested_list = [ list(range(5)), ['a', 'b', ['c'*8]] ]\n",
    "print(nested_list)"
   ]
  },
  {
   "cell_type": "code",
   "execution_count": 16,
   "metadata": {},
   "outputs": [
    {
     "name": "stdout",
     "output_type": "stream",
     "text": [
      "c\n"
     ]
    }
   ],
   "source": [
    "# what does the following mean?\n",
    "print(nested_list[1][2][0][-1])"
   ]
  },
  {
   "cell_type": "code",
   "execution_count": 17,
   "metadata": {},
   "outputs": [
    {
     "data": {
      "text/plain": [
       "list"
      ]
     },
     "execution_count": 17,
     "metadata": {},
     "output_type": "execute_result"
    }
   ],
   "source": [
    "type(nested_list[1][2]) # ['cccccccc']"
   ]
  },
  {
   "cell_type": "code",
   "execution_count": 18,
   "metadata": {},
   "outputs": [
    {
     "data": {
      "text/plain": [
       "str"
      ]
     },
     "execution_count": 18,
     "metadata": {},
     "output_type": "execute_result"
    }
   ],
   "source": [
    "type(nested_list[1][2][0]) # 'cccccccc'"
   ]
  },
  {
   "cell_type": "code",
   "execution_count": 19,
   "metadata": {},
   "outputs": [
    {
     "name": "stdout",
     "output_type": "stream",
     "text": [
      "4\n",
      "cccccccc\n"
     ]
    }
   ],
   "source": [
    "# how to index the number 4 in the list above? how about 'cccccccc'?\n",
    "# solution\n",
    "print(nested_list[0][-1])\n",
    "print(nested_list[1][2][0])"
   ]
  },
  {
   "cell_type": "markdown",
   "metadata": {},
   "source": [
    "##### List methods"
   ]
  },
  {
   "cell_type": "markdown",
   "metadata": {},
   "source": [
    "Lots of methods operate on lists and modify the object in place, and they do not return a value. This is different from a standard function with a `return` so you can assign the returned value to a variable name.\n",
    "\n",
    "This also means two things: 1) lists are [mutable](https://docs.python.org/3/glossary.html#term-mutable), 2) once you apply a method there is no way to revert the change. We will look at some examples below."
   ]
  },
  {
   "cell_type": "code",
   "execution_count": 27,
   "metadata": {},
   "outputs": [
    {
     "name": "stdout",
     "output_type": "stream",
     "text": [
      "['D', 'a', 't', 'a', ' ', 'S', 'c', 'i', 'e', 'n', 'c', 'e']\n"
     ]
    }
   ],
   "source": [
    "print(one_list)"
   ]
  },
  {
   "cell_type": "code",
   "execution_count": 30,
   "metadata": {
    "scrolled": true
   },
   "outputs": [
    {
     "name": "stdout",
     "output_type": "stream",
     "text": [
      "['e', 'c', 'n', 'e', 'i', 'c', 'S', ' ', 'a', 't', 'a', 'D']\n"
     ]
    }
   ],
   "source": [
    "print(one_list[::-1])"
   ]
  },
  {
   "cell_type": "code",
   "execution_count": null,
   "metadata": {},
   "outputs": [],
   "source": [
    "# won't change the object itself unless you do the following assignment\n",
    "# one_list = one_list[::-1]"
   ]
  },
  {
   "cell_type": "code",
   "execution_count": 31,
   "metadata": {},
   "outputs": [
    {
     "name": "stdout",
     "output_type": "stream",
     "text": [
      "['D', 'a', 't', 'a', ' ', 'S', 'c', 'i', 'e', 'n', 'c', 'e']\n"
     ]
    }
   ],
   "source": [
    "print(one_list)"
   ]
  },
  {
   "cell_type": "code",
   "execution_count": 32,
   "metadata": {},
   "outputs": [],
   "source": [
    "one_list.reverse()"
   ]
  },
  {
   "cell_type": "code",
   "execution_count": 33,
   "metadata": {},
   "outputs": [
    {
     "name": "stdout",
     "output_type": "stream",
     "text": [
      "['e', 'c', 'n', 'e', 'i', 'c', 'S', ' ', 'a', 't', 'a', 'D']\n"
     ]
    }
   ],
   "source": [
    "print(one_list)"
   ]
  },
  {
   "cell_type": "code",
   "execution_count": 34,
   "metadata": {},
   "outputs": [
    {
     "name": "stdout",
     "output_type": "stream",
     "text": [
      "None\n"
     ]
    }
   ],
   "source": [
    "# can you do this? is it behaving similarly as you expected?\n",
    "one_list = one_list.reverse()\n",
    "type(one_list)"
   ]
  },
  {
   "cell_type": "code",
   "execution_count": 36,
   "metadata": {},
   "outputs": [
    {
     "name": "stdout",
     "output_type": "stream",
     "text": [
      "[' ', 'D', 'S', 'a', 'a', 'c', 'c', 'e', 'e', 'i', 'n', 't']\n"
     ]
    }
   ],
   "source": [
    "one_list = ['D', 'a', 't', 'a', ' ', 'S', 'c', 'i', 'e', 'n', 'c', 'e']\n",
    "\n",
    "one_list.sort()\n",
    "print(one_list)"
   ]
  },
  {
   "cell_type": "code",
   "execution_count": 37,
   "metadata": {},
   "outputs": [
    {
     "data": {
      "text/plain": [
       "3"
      ]
     },
     "execution_count": 37,
     "metadata": {},
     "output_type": "execute_result"
    }
   ],
   "source": [
    "one_list.index('a')"
   ]
  },
  {
   "cell_type": "code",
   "execution_count": 38,
   "metadata": {},
   "outputs": [
    {
     "data": {
      "text/plain": [
       "[' ', 'D', 'S', 'a', 'a', 'c', 'c', 'e', 'e', 'i', 'n', 't', 101, 3, 7, 9, 10]"
      ]
     },
     "execution_count": 38,
     "metadata": {},
     "output_type": "execute_result"
    }
   ],
   "source": [
    "one_list + num_list\n",
    "# concatenation"
   ]
  },
  {
   "cell_type": "code",
   "execution_count": 39,
   "metadata": {},
   "outputs": [
    {
     "name": "stdout",
     "output_type": "stream",
     "text": [
      "[' ', 'D', 'S', 'a', 'a', 'c', 'c', 'e', 'e', 'i', 'n', 't', ' ', 'D', 'S', 'a', 'a', 'c', 'c', 'e', 'e', 'i', 'n', 't']\n"
     ]
    }
   ],
   "source": [
    "print(one_list * 2)"
   ]
  },
  {
   "cell_type": "code",
   "execution_count": 40,
   "metadata": {},
   "outputs": [
    {
     "data": {
      "text/plain": [
       "True"
      ]
     },
     "execution_count": 40,
     "metadata": {},
     "output_type": "execute_result"
    }
   ],
   "source": [
    "'i' in one_list"
   ]
  },
  {
   "cell_type": "code",
   "execution_count": 41,
   "metadata": {},
   "outputs": [
    {
     "data": {
      "text/plain": [
       "False"
      ]
     },
     "execution_count": 41,
     "metadata": {},
     "output_type": "execute_result"
    }
   ],
   "source": [
    "'!' in one_list"
   ]
  },
  {
   "cell_type": "code",
   "execution_count": 42,
   "metadata": {},
   "outputs": [
    {
     "name": "stdout",
     "output_type": "stream",
     "text": [
      "[' ', 'D', 'S', 'a', 'a', 'c', 'c', 'e', 'e', 'i', 'n', 't', 'Data Science']\n"
     ]
    }
   ],
   "source": [
    "one_list.append('Data Science')\n",
    "print(one_list)"
   ]
  },
  {
   "cell_type": "code",
   "execution_count": 43,
   "metadata": {},
   "outputs": [
    {
     "name": "stdout",
     "output_type": "stream",
     "text": [
      "[' ', 'D', 'S', 'a', 'a', 'c', 'c', 'e', 'e', 'i', 'n', 't', 'Data Science', ['Data Science']]\n"
     ]
    }
   ],
   "source": [
    "one_list.append(['Data Science'])\n",
    "print(one_list)"
   ]
  },
  {
   "cell_type": "code",
   "execution_count": 44,
   "metadata": {},
   "outputs": [
    {
     "name": "stdout",
     "output_type": "stream",
     "text": [
      "[' ', 'D', 'S', 'a', 'a', 'c', 'c', 'e', 'e', 'i', 'n', 't', ['Data Science']]\n"
     ]
    }
   ],
   "source": [
    "one_list.remove('Data Science')\n",
    "print(one_list)"
   ]
  },
  {
   "cell_type": "code",
   "execution_count": 45,
   "metadata": {},
   "outputs": [
    {
     "name": "stdout",
     "output_type": "stream",
     "text": [
      "[' ', 'D', 'S', 'a', 'c', 'c', 'e', 'e', 'i', 'n', 't', ['Data Science']]\n"
     ]
    }
   ],
   "source": [
    "one_list.remove('a')\n",
    "print(one_list)"
   ]
  },
  {
   "cell_type": "markdown",
   "metadata": {},
   "source": [
    "The `del` statement can also be used to remove slices from a list or clear the entire list (which we did earlier by assignment of an empty list to the slice)."
   ]
  },
  {
   "cell_type": "code",
   "execution_count": 46,
   "metadata": {},
   "outputs": [
    {
     "name": "stdout",
     "output_type": "stream",
     "text": [
      "[' ', 'D', 'S', 'a', 'c', 'c', 'e', 'e', 'i', 'n', 't']\n"
     ]
    }
   ],
   "source": [
    "del one_list[-1]\n",
    "print(one_list)"
   ]
  },
  {
   "cell_type": "code",
   "execution_count": 47,
   "metadata": {},
   "outputs": [
    {
     "ename": "NameError",
     "evalue": "name 'one_list' is not defined",
     "output_type": "error",
     "traceback": [
      "\u001b[0;31m---------------------------------------------------------------------------\u001b[0m",
      "\u001b[0;31mNameError\u001b[0m                                 Traceback (most recent call last)",
      "Cell \u001b[0;32mIn [47], line 2\u001b[0m\n\u001b[1;32m      1\u001b[0m \u001b[38;5;28;01mdel\u001b[39;00m one_list\n\u001b[0;32m----> 2\u001b[0m \u001b[38;5;28mprint\u001b[39m(\u001b[43mone_list\u001b[49m)\n",
      "\u001b[0;31mNameError\u001b[0m: name 'one_list' is not defined"
     ]
    }
   ],
   "source": [
    "del one_list\n",
    "print(one_list)"
   ]
  },
  {
   "cell_type": "code",
   "execution_count": 49,
   "metadata": {},
   "outputs": [
    {
     "data": {
      "text/plain": [
       "[' ', 'D', 'S', 'a', 'a', 'c', 'c', 'e', 'e', 'i', 'n', 't']"
      ]
     },
     "execution_count": 49,
     "metadata": {},
     "output_type": "execute_result"
    }
   ],
   "source": [
    "one_list = list('Data Science')\n",
    "one_list.sort()\n",
    "one_list"
   ]
  },
  {
   "cell_type": "code",
   "execution_count": 50,
   "metadata": {
    "scrolled": true
   },
   "outputs": [
    {
     "name": "stdout",
     "output_type": "stream",
     "text": [
      "S\n",
      "[' ', 'D', 'a', 'a', 'c', 'c', 'e', 'e', 'i', 'n', 't']\n"
     ]
    }
   ],
   "source": [
    "# by index, reversal of insert (kind of similar to append)\n",
    "popped = one_list.pop(2)\n",
    "print(popped)\n",
    "print(one_list)"
   ]
  },
  {
   "cell_type": "code",
   "execution_count": 51,
   "metadata": {},
   "outputs": [
    {
     "name": "stdout",
     "output_type": "stream",
     "text": [
      "[' ', 'D', 'S', 'a', 'a', 'c', 'c', 'e', 'e', 'i', 'n', 't']\n"
     ]
    }
   ],
   "source": [
    "# we can put it back\n",
    "one_list.insert(2, popped)\n",
    "print(one_list)"
   ]
  },
  {
   "cell_type": "markdown",
   "metadata": {},
   "source": [
    "List can contain anything, your dataframe or you model object could be stored in lists, and it is defintely one of the most widely used collections. [Read more on lists](https://docs.python.org/3/tutorial/datastructures.html#more-on-lists) on your own."
   ]
  },
  {
   "cell_type": "markdown",
   "metadata": {},
   "source": [
    "#### 4.2 Tuples (多元組)"
   ]
  },
  {
   "cell_type": "markdown",
   "metadata": {},
   "source": [
    "Tuple is a collection of Python objects similar to list, except tutples are **immutable**. Tuple is created using `()` or `tuple()`. Tuples are a little bit faster to use than lists, as you will not make any updates or delete anything. It can also be really helpful if you know the data is not supposed to change, using a tuple can protect youself against accidentally changing it."
   ]
  },
  {
   "cell_type": "code",
   "execution_count": 52,
   "metadata": {},
   "outputs": [
    {
     "name": "stdout",
     "output_type": "stream",
     "text": [
      "Data Science\n",
      "['D', 'a', 't', 'a', ' ', 'S', 'c', 'i', 'e', 'n', 'c', 'e']\n",
      "7\n",
      "(1, 2, 3, 5, 'a', [10, 8, 9])\n"
     ]
    },
    {
     "ename": "TypeError",
     "evalue": "'tuple' object does not support item assignment",
     "output_type": "error",
     "traceback": [
      "\u001b[0;31m---------------------------------------------------------------------------\u001b[0m",
      "\u001b[0;31mTypeError\u001b[0m                                 Traceback (most recent call last)",
      "Cell \u001b[0;32mIn [52], line 12\u001b[0m\n\u001b[1;32m     10\u001b[0m mixed_tuple[\u001b[38;5;241m-\u001b[39m\u001b[38;5;241m1\u001b[39m][\u001b[38;5;241m0\u001b[39m] \u001b[38;5;241m=\u001b[39m \u001b[38;5;241m10\u001b[39m\n\u001b[1;32m     11\u001b[0m \u001b[38;5;28mprint\u001b[39m(mixed_tuple)\n\u001b[0;32m---> 12\u001b[0m mixed_tuple[\u001b[38;5;241m-\u001b[39m\u001b[38;5;241m2\u001b[39m] \u001b[38;5;241m=\u001b[39m \u001b[38;5;241m6\u001b[39m\n",
      "\u001b[0;31mTypeError\u001b[0m: 'tuple' object does not support item assignment"
     ]
    }
   ],
   "source": [
    "one_tuple = ('Data Science') # use () instead of [] to create a tuple\n",
    "print(one_tuple)\n",
    "one_tuple = (list('Data Science'))\n",
    "print(one_tuple)\n",
    "# why the difference?\n",
    "\n",
    "mixed_tuple = (1, 2, 3, 5, \"a\", [7,8,9])\n",
    "print(mixed_tuple[-1][0])\n",
    "\n",
    "# there are weird things though...\n",
    "mixed_tuple[-1][0] = 10\n",
    "print(mixed_tuple)\n",
    "mixed_tuple[-2] = 6"
   ]
  },
  {
   "cell_type": "markdown",
   "metadata": {},
   "source": [
    "The indexing and slicing work similarly for tuples as they do for lists. However as tuples are immutable, some the list methods may not work on them. You can read more about [tuple methods](https://docs.python.org/3/tutorial/datastructures.html#tuples-and-sequences)."
   ]
  },
  {
   "cell_type": "markdown",
   "metadata": {},
   "source": [
    "#### 4.3 Sets"
   ]
  },
  {
   "cell_type": "markdown",
   "metadata": {},
   "source": [
    "Sets are also a kind of collection in python, it differs from list and tuples mainly because it has no order or position. Unlike the previous two, it is not a member of `sequence`. Also, a set does not allow multiple copies of same item, it is either contain `0` or `1` copy of item of a kind. Sets are defined by `set()` or `{}`.\n",
    "\n",
    "Set can have items of multiple data types. Set can not be indexed as it's not ordered. Set is mutable, but the elements contained must be immutable (e.g. can't have a list as an item in set)."
   ]
  },
  {
   "cell_type": "code",
   "execution_count": 55,
   "metadata": {},
   "outputs": [
    {
     "name": "stdout",
     "output_type": "stream",
     "text": [
      "{' ', 'e', 't', 'i', 'n', 'S', 'a', 'D', 'c'}\n",
      "['D', 'a', 't', 'a', ' ', 'S', 'c', 'i', 'e', 'n', 'c', 'e']\n",
      "{1.3, 'abc', True}\n"
     ]
    }
   ],
   "source": [
    "one_set = set('Data Science')\n",
    "print(one_set) # unordered\n",
    "print(list('Data Science'))\n",
    "\n",
    "print(set(['abc', 1.3, True]))"
   ]
  },
  {
   "cell_type": "code",
   "execution_count": 57,
   "metadata": {},
   "outputs": [
    {
     "name": "stdout",
     "output_type": "stream",
     "text": [
      "{' ', 'e', 't', 'i', 'n', 'S', 'a', 'D', '!', 'c'}\n"
     ]
    }
   ],
   "source": [
    "one_set.add('!')\n",
    "print(one_set)"
   ]
  },
  {
   "cell_type": "code",
   "execution_count": 58,
   "metadata": {},
   "outputs": [
    {
     "ename": "TypeError",
     "evalue": "'set' object is not subscriptable",
     "output_type": "error",
     "traceback": [
      "\u001b[0;31m---------------------------------------------------------------------------\u001b[0m",
      "\u001b[0;31mTypeError\u001b[0m                                 Traceback (most recent call last)",
      "Cell \u001b[0;32mIn [58], line 1\u001b[0m\n\u001b[0;32m----> 1\u001b[0m \u001b[43mone_set\u001b[49m\u001b[43m[\u001b[49m\u001b[38;5;241;43m0\u001b[39;49m\u001b[43m]\u001b[49m\n",
      "\u001b[0;31mTypeError\u001b[0m: 'set' object is not subscriptable"
     ]
    }
   ],
   "source": [
    "one_set[0]"
   ]
  },
  {
   "cell_type": "code",
   "execution_count": 59,
   "metadata": {},
   "outputs": [
    {
     "data": {
      "text/plain": [
       "' '"
      ]
     },
     "execution_count": 59,
     "metadata": {},
     "output_type": "execute_result"
    }
   ],
   "source": [
    "list(one_set)[0]"
   ]
  },
  {
   "cell_type": "code",
   "execution_count": 60,
   "metadata": {},
   "outputs": [
    {
     "data": {
      "text/plain": [
       "True"
      ]
     },
     "execution_count": 60,
     "metadata": {},
     "output_type": "execute_result"
    }
   ],
   "source": [
    "'!' in one_set"
   ]
  },
  {
   "cell_type": "markdown",
   "metadata": {},
   "source": [
    "Set objects also support mathematical operations like union, intersection, difference, and symmetric difference. These are defined similarly as in math."
   ]
  },
  {
   "cell_type": "code",
   "execution_count": 61,
   "metadata": {},
   "outputs": [
    {
     "name": "stdout",
     "output_type": "stream",
     "text": [
      "{'d', 'b', 'r'}\n",
      "{'m', 'z', 'd', 'r', 'l', 'a', 'b', 'c'}\n",
      "{'a', 'c'}\n",
      "{'m', 'l', 'z', 'd', 'b', 'r'}\n"
     ]
    }
   ],
   "source": [
    "a = set('abracadabra')\n",
    "b = set('alacazam')\n",
    "print(a - b)                              # letters in a but not in b\n",
    "print(a | b)                              # letters in a or b or both\n",
    "print(a & b)                              # letters in both a and b\n",
    "print(a ^ b)                              # letters in a or b but not both"
   ]
  },
  {
   "cell_type": "code",
   "execution_count": 62,
   "metadata": {},
   "outputs": [
    {
     "name": "stdout",
     "output_type": "stream",
     "text": [
      "{'d', 'b', 'r'}\n",
      "{'m', 'z', 'd', 'r', 'l', 'a', 'b', 'c'}\n",
      "{'a', 'c'}\n",
      "{'m', 'l', 'z', 'd', 'b', 'r'}\n"
     ]
    }
   ],
   "source": [
    "# what are these?\n",
    "print(a.difference(b))\n",
    "print(a.union(b))\n",
    "print(a.intersection(b))\n",
    "print(a.symmetric_difference(b))"
   ]
  },
  {
   "cell_type": "markdown",
   "metadata": {},
   "source": [
    "#### 4.4 Dictionary"
   ]
  },
  {
   "cell_type": "markdown",
   "metadata": {},
   "source": [
    "Python dictionaries are used whenever you have a collection of objects that you want to access by name/key rather than index. Dictionary can be defined by `dict()` or `{key:value[, key2:value2,..]}`, notice here a dictionary will have to have `key:value` pairs separated by comma `,` in `{}`. Key is the name you'll index the value by. Dictionaries are referred to as “associative memories” or “associative arrays” in some other languages.\n",
    "\n",
    "A dictionary is a collection which is unordered, mutable and can be indexed.\n",
    "\n",
    "The name you use to refer to an item is called the `key`, and the item itself is called the `value`. Dictionaries are just a way of organizing a collection of key-value pairs. Since `key` is used for indexing, all keys are unique - if a `key` already exists in a dictionary, you cannot add a second one with the same `key` value. \n",
    "\n",
    "`key` and `value` can be lots of data types, even collections. However, you can’t use lists as keys, since lists can be modified in place using index assignments, slice assignments, or methods like `append()` and `extend()`.\n",
    "\n",
    "Below are 3 ways to generate a dictionary."
   ]
  },
  {
   "cell_type": "code",
   "execution_count": 63,
   "metadata": {},
   "outputs": [
    {
     "name": "stdout",
     "output_type": "stream",
     "text": [
      "{'data': ['science'], 'science': 0}\n"
     ]
    }
   ],
   "source": [
    "one_dict = dict(data=['science'], science=0)\n",
    "# syntax : dict(key1=value1, key2=value2, ...)\n",
    "print(one_dict)"
   ]
  },
  {
   "cell_type": "code",
   "execution_count": 68,
   "metadata": {},
   "outputs": [
    {
     "ename": "KeyError",
     "evalue": "0",
     "output_type": "error",
     "traceback": [
      "\u001b[0;31m---------------------------------------------------------------------------\u001b[0m",
      "\u001b[0;31mKeyError\u001b[0m                                  Traceback (most recent call last)",
      "Cell \u001b[0;32mIn [68], line 1\u001b[0m\n\u001b[0;32m----> 1\u001b[0m \u001b[43mone_dict\u001b[49m\u001b[43m[\u001b[49m\u001b[38;5;241;43m0\u001b[39;49m\u001b[43m]\u001b[49m\n",
      "\u001b[0;31mKeyError\u001b[0m: 0"
     ]
    }
   ],
   "source": [
    "one_dict[0]"
   ]
  },
  {
   "cell_type": "code",
   "execution_count": 69,
   "metadata": {},
   "outputs": [
    {
     "name": "stdout",
     "output_type": "stream",
     "text": [
      "0\n",
      "['science']\n"
     ]
    }
   ],
   "source": [
    "# dict[key] --> returns value\n",
    "print(one_dict['science'])\n",
    "print(one_dict['data'])"
   ]
  },
  {
   "cell_type": "code",
   "execution_count": 70,
   "metadata": {},
   "outputs": [
    {
     "name": "stdout",
     "output_type": "stream",
     "text": [
      "dict_keys(['data', 'science'])\n",
      "dict_values([['science'], 0])\n"
     ]
    },
    {
     "data": {
      "text/plain": [
       "(None, None)"
      ]
     },
     "execution_count": 70,
     "metadata": {},
     "output_type": "execute_result"
    }
   ],
   "source": [
    "print(one_dict.keys()), print(one_dict.values())"
   ]
  },
  {
   "cell_type": "code",
   "execution_count": 73,
   "metadata": {},
   "outputs": [
    {
     "name": "stdout",
     "output_type": "stream",
     "text": [
      "{'data': 'science', 'science': 0, (0, 1): {'data': ['science'], 'science': 0}}\n"
     ]
    }
   ],
   "source": [
    "# you can also do this...\n",
    "two_dict = {'data':'science', 'science':0, (0,1):one_dict}\n",
    "print(two_dict)"
   ]
  },
  {
   "cell_type": "code",
   "execution_count": 74,
   "metadata": {},
   "outputs": [
    {
     "name": "stdout",
     "output_type": "stream",
     "text": [
      "dict_keys(['data', 'science', (0, 1)])\n",
      "dict_values(['science', 0, {'data': ['science'], 'science': 0}])\n",
      "dict_items([('data', 'science'), ('science', 0), ((0, 1), {'data': ['science'], 'science': 0})])\n"
     ]
    }
   ],
   "source": [
    "print(two_dict.keys())\n",
    "print(two_dict.values())\n",
    "print(two_dict.items())"
   ]
  },
  {
   "cell_type": "code",
   "execution_count": 58,
   "metadata": {},
   "outputs": [
    {
     "ename": "TypeError",
     "evalue": "'dict_values' object is not subscriptable",
     "output_type": "error",
     "traceback": [
      "\u001b[0;31m---------------------------------------------------------------------------\u001b[0m",
      "\u001b[0;31mTypeError\u001b[0m                                 Traceback (most recent call last)",
      "\u001b[0;32m<ipython-input-58-0745d7abb10d>\u001b[0m in \u001b[0;36m<module>\u001b[0;34m\u001b[0m\n\u001b[1;32m      1\u001b[0m \u001b[0;31m# you can't index by position\u001b[0m\u001b[0;34m\u001b[0m\u001b[0;34m\u001b[0m\u001b[0;34m\u001b[0m\u001b[0m\n\u001b[0;32m----> 2\u001b[0;31m \u001b[0mprint\u001b[0m\u001b[0;34m(\u001b[0m\u001b[0mtwo_dict\u001b[0m\u001b[0;34m.\u001b[0m\u001b[0mvalues\u001b[0m\u001b[0;34m(\u001b[0m\u001b[0;34m)\u001b[0m\u001b[0;34m[\u001b[0m\u001b[0;36m0\u001b[0m\u001b[0;34m]\u001b[0m\u001b[0;34m)\u001b[0m\u001b[0;34m\u001b[0m\u001b[0;34m\u001b[0m\u001b[0m\n\u001b[0m",
      "\u001b[0;31mTypeError\u001b[0m: 'dict_values' object is not subscriptable"
     ]
    }
   ],
   "source": [
    "# you can't index by position\n",
    "print(two_dict.values()[0])"
   ]
  },
  {
   "cell_type": "code",
   "execution_count": 60,
   "metadata": {},
   "outputs": [
    {
     "data": {
      "text/plain": [
       "'science'"
      ]
     },
     "execution_count": 60,
     "metadata": {},
     "output_type": "execute_result"
    }
   ],
   "source": [
    "# what if i have to? (but seriously why...)\n",
    "list(two_dict.values())[0]"
   ]
  },
  {
   "cell_type": "code",
   "execution_count": 78,
   "metadata": {},
   "outputs": [
    {
     "data": {
      "text/plain": [
       "dict"
      ]
     },
     "execution_count": 78,
     "metadata": {},
     "output_type": "execute_result"
    }
   ],
   "source": [
    "three_dict = {}\n",
    "type(three_dict)"
   ]
  },
  {
   "cell_type": "code",
   "execution_count": 79,
   "metadata": {},
   "outputs": [],
   "source": [
    "# append key and value, syntax: dict[key] = value\n",
    "three_dict['data'] = 'science'\n",
    "three_dict['science'] = 0\n",
    "three_dict[0] = one_dict"
   ]
  },
  {
   "cell_type": "code",
   "execution_count": 80,
   "metadata": {},
   "outputs": [
    {
     "name": "stdout",
     "output_type": "stream",
     "text": [
      "{'data': 'science', 'science': 0, 0: {'upper': ['D', 'S'], 'lower': ['a', 't', 'a', 'c', 'i', 'e', 'n', 'c', 'e'], 'other': [' ', '!', '1', '2', '3'], 'string': 'Data Science!123'}}\n"
     ]
    }
   ],
   "source": [
    "print(three_dict)"
   ]
  },
  {
   "cell_type": "code",
   "execution_count": 78,
   "metadata": {},
   "outputs": [
    {
     "name": "stdout",
     "output_type": "stream",
     "text": [
      "[1, 2]\n"
     ]
    }
   ],
   "source": [
    "# can you do this?\n",
    "three_dict[(1,2)] = [1,2]\n",
    "print(three_dict[(1,2)])"
   ]
  },
  {
   "cell_type": "code",
   "execution_count": 79,
   "metadata": {},
   "outputs": [
    {
     "ename": "TypeError",
     "evalue": "unhashable type: 'dict'",
     "output_type": "error",
     "traceback": [
      "\u001b[0;31m---------------------------------------------------------------------------\u001b[0m",
      "\u001b[0;31mTypeError\u001b[0m                                 Traceback (most recent call last)",
      "Cell \u001b[0;32mIn [79], line 2\u001b[0m\n\u001b[1;32m      1\u001b[0m \u001b[38;5;66;03m# can you do this?\u001b[39;00m\n\u001b[0;32m----> 2\u001b[0m three_dict[one_dict] \u001b[38;5;241m=\u001b[39m (\u001b[38;5;241m1\u001b[39m,\u001b[38;5;241m2\u001b[39m)\n\u001b[1;32m      3\u001b[0m \u001b[38;5;28mprint\u001b[39m(three_dict[[\u001b[38;5;241m1\u001b[39m,\u001b[38;5;241m2\u001b[39m]])\n",
      "\u001b[0;31mTypeError\u001b[0m: unhashable type: 'dict'"
     ]
    }
   ],
   "source": [
    "# can you do this?\n",
    "three_dict[one_dict] = (1,2)\n",
    "print(three_dict[[1,2]])"
   ]
  },
  {
   "cell_type": "markdown",
   "metadata": {},
   "source": [
    "Strings, ints, floats, tuples all worked but lists didn't. The error says `unhashable type`, what does that mean?\n",
    "\n",
    "Essentially, to make dictionaries function properly, Python need a way to convert an object to a number really fast. This function is called hash and strings, ints, floats, tuples all have an implementation of this that Python can use. Unfirtunately, lists do not come with a hash function."
   ]
  },
  {
   "cell_type": "markdown",
   "metadata": {},
   "source": [
    "You can access value by `dictionary[key]` or `dictionary.get(key)`. But value assignment is only available in the first way. Why?"
   ]
  },
  {
   "cell_type": "code",
   "execution_count": 80,
   "metadata": {},
   "outputs": [
    {
     "name": "stdout",
     "output_type": "stream",
     "text": [
      "science\n",
      "science\n"
     ]
    }
   ],
   "source": [
    "print(three_dict['data'])\n",
    "print(three_dict.get('data'))"
   ]
  },
  {
   "cell_type": "code",
   "execution_count": 66,
   "metadata": {},
   "outputs": [
    {
     "data": {
      "text/plain": [
       "'science'"
      ]
     },
     "execution_count": 66,
     "metadata": {},
     "output_type": "execute_result"
    }
   ],
   "source": [
    "three_dict['data']"
   ]
  },
  {
   "cell_type": "code",
   "execution_count": 81,
   "metadata": {},
   "outputs": [
    {
     "ename": "SyntaxError",
     "evalue": "cannot assign to function call (4116899608.py, line 2)",
     "output_type": "error",
     "traceback": [
      "\u001b[0;36m  Cell \u001b[0;32mIn [81], line 2\u001b[0;36m\u001b[0m\n\u001b[0;31m    three_dict.get('data') = 'nonsense'\u001b[0m\n\u001b[0m    ^\u001b[0m\n\u001b[0;31mSyntaxError\u001b[0m\u001b[0;31m:\u001b[0m cannot assign to function call\n"
     ]
    }
   ],
   "source": [
    "three_dict['data'] = 'nonsense'\n",
    "three_dict.get('data') = 'nonsense'\n",
    "# get(key) returns a value, you cannot assign value to a value"
   ]
  },
  {
   "cell_type": "markdown",
   "metadata": {},
   "source": [
    "Dictionaries are very special in python with flexbility and readability. It's usually used to store paramters and other paired values. Since we powered through this section, I'd recommend reading [dict() documentation](https://docs.python.org/3/library/stdtypes.html#dict) if you still have lots of questions.\n",
    "\n",
    "In general, refering to objects by name is a better coding practice than refering to them by position, this is recomended as a general good practice whenever possible. It certainlly makes your code much more readable."
   ]
  },
  {
   "cell_type": "markdown",
   "metadata": {},
   "source": [
    "#### 4.5 Some functions for collections"
   ]
  },
  {
   "cell_type": "markdown",
   "metadata": {},
   "source": [
    "There are lots of functions that can take collections as input. Most common ones include `len()` and `sum()`. \n",
    "\n",
    "`len()` checks the length of a collection"
   ]
  },
  {
   "cell_type": "code",
   "execution_count": 82,
   "metadata": {},
   "outputs": [
    {
     "data": {
      "text/plain": [
       "{'data': ['science'], 'science': 0}"
      ]
     },
     "execution_count": 82,
     "metadata": {},
     "output_type": "execute_result"
    }
   ],
   "source": [
    "one_dict"
   ]
  },
  {
   "cell_type": "code",
   "execution_count": 83,
   "metadata": {},
   "outputs": [
    {
     "name": "stdout",
     "output_type": "stream",
     "text": [
      "12\n",
      "10\n",
      "2\n"
     ]
    }
   ],
   "source": [
    "print(len(one_list))\n",
    "\n",
    "print(len(one_set))\n",
    "\n",
    "print(len(one_dict))"
   ]
  },
  {
   "cell_type": "code",
   "execution_count": 84,
   "metadata": {},
   "outputs": [
    {
     "data": {
      "text/plain": [
       "7"
      ]
     },
     "execution_count": 84,
     "metadata": {},
     "output_type": "execute_result"
    }
   ],
   "source": [
    "len('asjdfla')"
   ]
  },
  {
   "cell_type": "markdown",
   "metadata": {},
   "source": [
    "`sum()` calculates the sum of all items in a collection. As you can imagine, this only apply to numerical collections."
   ]
  },
  {
   "cell_type": "code",
   "execution_count": 130,
   "metadata": {},
   "outputs": [
    {
     "name": "stdout",
     "output_type": "stream",
     "text": [
      "130\n"
     ]
    },
    {
     "ename": "TypeError",
     "evalue": "unsupported operand type(s) for +: 'int' and 'str'",
     "output_type": "error",
     "traceback": [
      "\u001b[0;31m---------------------------------------------------------------------------\u001b[0m",
      "\u001b[0;31mTypeError\u001b[0m                                 Traceback (most recent call last)",
      "\u001b[0;32m<ipython-input-130-cd937d2b231f>\u001b[0m in \u001b[0;36m<module>\u001b[0;34m\u001b[0m\n\u001b[1;32m      1\u001b[0m \u001b[0mprint\u001b[0m\u001b[0;34m(\u001b[0m\u001b[0msum\u001b[0m\u001b[0;34m(\u001b[0m\u001b[0mnum_list\u001b[0m\u001b[0;34m)\u001b[0m\u001b[0;34m)\u001b[0m\u001b[0;34m\u001b[0m\u001b[0m\n\u001b[0;32m----> 2\u001b[0;31m \u001b[0mprint\u001b[0m\u001b[0;34m(\u001b[0m\u001b[0msum\u001b[0m\u001b[0;34m(\u001b[0m\u001b[0mone_list\u001b[0m\u001b[0;34m)\u001b[0m\u001b[0;34m)\u001b[0m\u001b[0;34m\u001b[0m\u001b[0m\n\u001b[0m",
      "\u001b[0;31mTypeError\u001b[0m: unsupported operand type(s) for +: 'int' and 'str'"
     ]
    }
   ],
   "source": [
    "print(sum(num_list))\n",
    "num_set = {1,2,3,4,5}\n",
    "sum(num_set)\n",
    "print(sum(one_list))"
   ]
  },
  {
   "cell_type": "markdown",
   "metadata": {},
   "source": [
    "#### 4.6 `copy` of collections\n",
    "\n",
    "Assignment statements in Python do not copy objects, they create bindings between a target and an object. \n",
    "\n",
    "For collections that are mutable or contain mutable items, a copy is sometimes needed so one can change one copy without changing the other. This module provides generic shallow and deep copy operations (detailed explained [here](https://docs.python.org/2/library/copy.html))."
   ]
  },
  {
   "cell_type": "code",
   "execution_count": 85,
   "metadata": {},
   "outputs": [
    {
     "name": "stdout",
     "output_type": "stream",
     "text": [
      "[' ', 'D', 'S', 'a', 'a', 'c', 'c', 'e', 'e', 'i', 'n', 't']\n",
      "[' ', 'D', 'S', 'a', 'a', 'c', 'c', 'e', 'e', 'i', 'n', 't']\n"
     ]
    }
   ],
   "source": [
    "print(one_list)\n",
    "a = one_list\n",
    "print(a)"
   ]
  },
  {
   "cell_type": "markdown",
   "metadata": {},
   "source": [
    "Here both `one_list` and `a` are mutable type list, so `a=one_list` does not copy `one_list`. Instead, `a` is pointed to the object labeld as `one_list`. Both labels are now binded to the same list. We can try if this is true."
   ]
  },
  {
   "cell_type": "code",
   "execution_count": 86,
   "metadata": {},
   "outputs": [
    {
     "name": "stdout",
     "output_type": "stream",
     "text": [
      "['!', 'D', 'S', 'a', 'a', 'c', 'c', 'e', 'e', 'i', 'n', 't']\n"
     ]
    }
   ],
   "source": [
    "a[0] = '!'\n",
    "print(one_list)"
   ]
  },
  {
   "cell_type": "markdown",
   "metadata": {},
   "source": [
    "This confirmed our thought. Also you can confirm by compare the two."
   ]
  },
  {
   "cell_type": "code",
   "execution_count": 87,
   "metadata": {},
   "outputs": [
    {
     "data": {
      "text/plain": [
       "True"
      ]
     },
     "execution_count": 87,
     "metadata": {},
     "output_type": "execute_result"
    }
   ],
   "source": [
    "a is one_list"
   ]
  },
  {
   "cell_type": "markdown",
   "metadata": {},
   "source": [
    "What if you want two objects instead of two lables? You can explictly make copy instead of assigning value. There are deep and shallow copies. \n",
    "- shallow copy: two labels, two objects, but share the same underlying elements. And when collections share a mutable item (list, set, dict, etc.) the item can be changed through both references.\n",
    "- deep copy: two labels, two completed separated objects. No sharing. Actually, you're very unlikely to need to use deep copy..."
   ]
  },
  {
   "cell_type": "code",
   "execution_count": 88,
   "metadata": {},
   "outputs": [
    {
     "name": "stdout",
     "output_type": "stream",
     "text": [
      "['!', 'D', 'S', 'a', 'a', 'c', 'c', 'e', 'e', 'i', 'n', 't', [1, 2, 3]]\n",
      "['!', 'D', 'S', 'a', 'a', 'c', 'c', 'e', 'e', 'i', 'n', 't', [1, 2, 3]]\n",
      "False\n"
     ]
    }
   ],
   "source": [
    "# shallow copy\n",
    "one_list.append([1,2,3])\n",
    "a = one_list.copy()\n",
    "print(one_list)\n",
    "print(a)\n",
    "print(one_list is a)"
   ]
  },
  {
   "cell_type": "code",
   "execution_count": 89,
   "metadata": {},
   "outputs": [
    {
     "name": "stdout",
     "output_type": "stream",
     "text": [
      "['D', 'D', 'S', 'a', 'a', 'c', 'c', 'e', 'e', 'i', 'n', 't', [1, 2, 3]]\n",
      "['!', 'D', 'S', 'a', 'a', 'c', 'c', 'e', 'e', 'i', 'n', 't', [1, 2, 3]]\n"
     ]
    }
   ],
   "source": [
    "a[0] = 'D'\n",
    "print(a)\n",
    "print(one_list)"
   ]
  },
  {
   "cell_type": "code",
   "execution_count": 90,
   "metadata": {},
   "outputs": [
    {
     "name": "stdout",
     "output_type": "stream",
     "text": [
      "['D', 'D', 'S', 'a', 'a', 'c', 'c', 'e', 'e', 'i', 'n', 't', ['magic', 2, 3]]\n",
      "['!', 'D', 'S', 'a', 'a', 'c', 'c', 'e', 'e', 'i', 'n', 't', ['magic', 2, 3]]\n"
     ]
    }
   ],
   "source": [
    "a[-1][0] = 'magic'\n",
    "print(a)\n",
    "print(one_list)"
   ]
  },
  {
   "cell_type": "code",
   "execution_count": 91,
   "metadata": {},
   "outputs": [
    {
     "name": "stdout",
     "output_type": "stream",
     "text": [
      "['D', 'D', 'S', 'a', 'a', 'c', 'c', 'e', 'e', 'i', 'n', 't', 'magic']\n",
      "['!', 'D', 'S', 'a', 'a', 'c', 'c', 'e', 'e', 'i', 'n', 't', ['magic', 2, 3]]\n"
     ]
    }
   ],
   "source": [
    "a[-1] = 'magic'\n",
    "print(a)\n",
    "print(one_list)"
   ]
  },
  {
   "cell_type": "code",
   "execution_count": 92,
   "metadata": {},
   "outputs": [
    {
     "name": "stdout",
     "output_type": "stream",
     "text": [
      "['!', 'D', 'S', 'a', 'a', 'c', 'c', 'e', 'e', 'i', 'n', 't', ['magic', 2, 3]]\n",
      "['!', 'D', 'S', 'a', 'a', 'c', 'c', 'e', 'e', 'i', 'n', 't', ['magic', 2, 3]]\n",
      "False\n"
     ]
    }
   ],
   "source": [
    "# deep copy example\n",
    "import copy\n",
    "\n",
    "deep_a = copy.deepcopy(one_list)\n",
    "print(one_list)\n",
    "print(deep_a)\n",
    "print(one_list is deep_a)"
   ]
  },
  {
   "cell_type": "code",
   "execution_count": 93,
   "metadata": {},
   "outputs": [
    {
     "name": "stdout",
     "output_type": "stream",
     "text": [
      "['!', 'D', 'S', 'a', 'a', 'c', 'c', 'e', 'e', 'i', 'n', 't', [1, 2, 3]]\n",
      "['!', 'D', 'S', 'a', 'a', 'c', 'c', 'e', 'e', 'i', 'n', 't', ['magic', 2, 3]]\n"
     ]
    }
   ],
   "source": [
    "deep_a[-1][0] = 1\n",
    "print(deep_a)\n",
    "print(one_list)"
   ]
  },
  {
   "cell_type": "markdown",
   "metadata": {},
   "source": [
    "The key concept of `mutability` and `copy` exists in other data structure too, like `dataframe` and `series`. Keep in mind you are operating on different labels most of the time when you are using value assignment. "
   ]
  },
  {
   "cell_type": "markdown",
   "metadata": {},
   "source": [
    "#### Exercise 4. "
   ]
  },
  {
   "cell_type": "markdown",
   "metadata": {},
   "source": [
    "1. [Read more on `list`](https://docs.python.org/3/tutorial/datastructures.html#more-on-lists) and select 2 list methods not mentioned in class to give examples of using them."
   ]
  },
  {
   "cell_type": "markdown",
   "metadata": {},
   "source": [
    "2. How can you check if a `key` is already in a dictionary? Give an example."
   ]
  },
  {
   "cell_type": "markdown",
   "metadata": {},
   "source": [
    "3. [Explore how `Counter`](https://docs.python.org/3/library/collections.html#collections.Counter) works as another type of collection. Give 2 examples to use `Counter`."
   ]
  },
  {
   "cell_type": "markdown",
   "metadata": {},
   "source": [
    "4. The Fibonacci Sequence is the series of numbers:\n",
    "0, 1, 1, 2, 3, 5, 8, 13, 21, 34, ...\n",
    "\n",
    "The next number is found by adding up the two numbers before it.\n",
    "Find the last element of the `fibolist`"
   ]
  },
  {
   "cell_type": "code",
   "execution_count": 1,
   "metadata": {},
   "outputs": [],
   "source": [
    "fibolist=[0, 1, 1, 2, 3, 5, 8, 13, 21, 34, 55, 89, 144, 233, 377, 610, 987, 1597, 2584, 4181, 6765, 10946, 17711, 28657, 46368, 75025, 121393, 196418, 317811]\n",
    "\n",
    "# code your solution here\n"
   ]
  },
  {
   "cell_type": "markdown",
   "metadata": {},
   "source": [
    "5. Calculate the sum of `fibolist`"
   ]
  },
  {
   "cell_type": "code",
   "execution_count": 2,
   "metadata": {},
   "outputs": [],
   "source": [
    "# code your solution here\n"
   ]
  },
  {
   "cell_type": "markdown",
   "metadata": {},
   "source": [
    "6. Calculate and append the next fibonacci number to `fibolist`."
   ]
  },
  {
   "cell_type": "code",
   "execution_count": 3,
   "metadata": {},
   "outputs": [],
   "source": [
    "# code your solution here\n"
   ]
  },
  {
   "cell_type": "markdown",
   "metadata": {},
   "source": [
    "7. Create a reversed copy of fibolist without permanently reversing fibolist liteslf."
   ]
  },
  {
   "cell_type": "code",
   "execution_count": 4,
   "metadata": {},
   "outputs": [],
   "source": [
    "# code your solution here\n"
   ]
  },
  {
   "cell_type": "markdown",
   "metadata": {},
   "source": [
    "8. Check if `29473` is a fibonacci number, and assign the anser to variable `fibo_29473`"
   ]
  },
  {
   "cell_type": "code",
   "execution_count": 5,
   "metadata": {},
   "outputs": [],
   "source": [
    "# code your solution here\n"
   ]
  },
  {
   "cell_type": "markdown",
   "metadata": {},
   "source": [
    "9. Create two sets. Calculate the union, intersection, difference and symmetric difference for the two sets."
   ]
  },
  {
   "cell_type": "code",
   "execution_count": 6,
   "metadata": {},
   "outputs": [],
   "source": [
    "# code your solution here\n"
   ]
  },
  {
   "cell_type": "markdown",
   "metadata": {},
   "source": [
    "10. Creat a dictionary using at least two different methods."
   ]
  },
  {
   "cell_type": "code",
   "execution_count": null,
   "metadata": {},
   "outputs": [],
   "source": [
    "# code your solution here\n",
    "# refer to class material above for 3 ways"
   ]
  },
  {
   "cell_type": "markdown",
   "metadata": {},
   "source": [
    "11. Check if `2` and `9999` are fibonacci numbers. Create a dictionary `fibo_dict` with the numbers as keys, and boolean value=`True` if the number is fibonacci number, and `False` otherwise."
   ]
  },
  {
   "cell_type": "code",
   "execution_count": 7,
   "metadata": {},
   "outputs": [],
   "source": [
    "# code your solution here\n"
   ]
  },
  {
   "cell_type": "markdown",
   "metadata": {},
   "source": [
    "## 5. Iteration: loops and comprehensions"
   ]
  },
  {
   "cell_type": "markdown",
   "metadata": {},
   "source": [
    "We have already learned `if-elif-else` statement to create conditional code for control. Also we now know collections to store data and information. Now we can piece them together and make it powerful with iterations. Here we will cover two methods first."
   ]
  },
  {
   "cell_type": "markdown",
   "metadata": {},
   "source": [
    "### 5.1 `for` loops\n",
    "\n",
    "Syntax:\n",
    "```\n",
    "for item in iterable(collection):\n",
    "____excecute\n",
    "```"
   ]
  },
  {
   "cell_type": "code",
   "execution_count": 5,
   "metadata": {},
   "outputs": [],
   "source": [
    "one_list.append(2)"
   ]
  },
  {
   "cell_type": "code",
   "execution_count": 7,
   "metadata": {},
   "outputs": [],
   "source": [
    "one_list.reverse()"
   ]
  },
  {
   "cell_type": "code",
   "execution_count": 8,
   "metadata": {},
   "outputs": [
    {
     "data": {
      "text/plain": [
       "[2, 'e', 'c', 'n', 'e', 'i', 'c', 'S', ' ', 'a', 't', 'a', 'D']"
      ]
     },
     "execution_count": 8,
     "metadata": {},
     "output_type": "execute_result"
    }
   ],
   "source": [
    "one_list"
   ]
  },
  {
   "cell_type": "code",
   "execution_count": 9,
   "metadata": {},
   "outputs": [
    {
     "name": "stdout",
     "output_type": "stream",
     "text": [
      "3\n"
     ]
    },
    {
     "ename": "TypeError",
     "evalue": "must be str, not int",
     "output_type": "error",
     "traceback": [
      "\u001b[0;31m---------------------------------------------------------------------------\u001b[0m",
      "\u001b[0;31mTypeError\u001b[0m                                 Traceback (most recent call last)",
      "\u001b[0;32m<ipython-input-9-8db5b931ef70>\u001b[0m in \u001b[0;36m<module>\u001b[0;34m\u001b[0m\n\u001b[1;32m      4\u001b[0m     \u001b[0;31m# something more complicated\u001b[0m\u001b[0;34m\u001b[0m\u001b[0;34m\u001b[0m\u001b[0;34m\u001b[0m\u001b[0m\n\u001b[1;32m      5\u001b[0m     \u001b[0;31m# calculation, or condition that won't hold\u001b[0m\u001b[0;34m\u001b[0m\u001b[0;34m\u001b[0m\u001b[0;34m\u001b[0m\u001b[0m\n\u001b[0;32m----> 6\u001b[0;31m     \u001b[0mprint\u001b[0m\u001b[0;34m(\u001b[0m\u001b[0mc\u001b[0m\u001b[0;34m+\u001b[0m\u001b[0;36m1\u001b[0m\u001b[0;34m)\u001b[0m\u001b[0;34m\u001b[0m\u001b[0;34m\u001b[0m\u001b[0m\n\u001b[0m\u001b[1;32m      7\u001b[0m \u001b[0mprint\u001b[0m\u001b[0;34m(\u001b[0m\u001b[0mc\u001b[0m\u001b[0;34m)\u001b[0m\u001b[0;34m\u001b[0m\u001b[0;34m\u001b[0m\u001b[0m\n",
      "\u001b[0;31mTypeError\u001b[0m: must be str, not int"
     ]
    }
   ],
   "source": [
    "# one_list = list('Data Science')\n",
    "for c in one_list:\n",
    "#     print(c*4)\n",
    "    # something more complicated\n",
    "    # calculation, or condition that won't hold\n",
    "    print(c+1)\n",
    "print(c) # won't be excecuted if previous statement errors out"
   ]
  },
  {
   "cell_type": "code",
   "execution_count": 10,
   "metadata": {},
   "outputs": [
    {
     "name": "stdout",
     "output_type": "stream",
     "text": [
      "e\n"
     ]
    }
   ],
   "source": [
    "print(c)"
   ]
  },
  {
   "cell_type": "markdown",
   "metadata": {},
   "source": [
    "As we learned, collections usually contain multiple (sometimes just one) items, the `for` statement iterates over the iterable item `one_list`, and the indented code block is executed for each item in the list.\n",
    "\n",
    "`for` loop is simple yet super powerful. We can combine it with the conditional statement we learned now."
   ]
  },
  {
   "cell_type": "code",
   "execution_count": 11,
   "metadata": {},
   "outputs": [
    {
     "name": "stdout",
     "output_type": "stream",
     "text": [
      "['D', 'a', 't', 'a', ' ', 'S', 'c', 'i', 'e', 'n', 'c', 'e', '!', '1', '2', '3']\n"
     ]
    }
   ],
   "source": [
    "one_list = list('Data Science!123')\n",
    "print(one_list)\n",
    "string = ''\n",
    "upper = []\n",
    "lower = []\n",
    "other = []\n",
    "# c = 0\n",
    "for c in one_list:\n",
    "    string += c\n",
    "#     string = string + c\n",
    "    if c.isupper():\n",
    "        upper.append(c)\n",
    "        #\n",
    "    elif c.islower():\n",
    "        lower.append(c)\n",
    "    else:\n",
    "        other.append(c)\n",
    "        \n",
    "one_dict = {'upper':upper, 'lower':lower, 'other':other, 'string':string}"
   ]
  },
  {
   "cell_type": "code",
   "execution_count": 12,
   "metadata": {},
   "outputs": [
    {
     "data": {
      "text/plain": [
       "{'upper': ['D', 'S'],\n",
       " 'lower': ['a', 't', 'a', 'c', 'i', 'e', 'n', 'c', 'e'],\n",
       " 'other': [' ', '!', '1', '2', '3'],\n",
       " 'string': 'Data Science!123'}"
      ]
     },
     "execution_count": 12,
     "metadata": {},
     "output_type": "execute_result"
    }
   ],
   "source": [
    "one_dict"
   ]
  },
  {
   "cell_type": "code",
   "execution_count": 17,
   "metadata": {},
   "outputs": [
    {
     "data": {
      "text/plain": [
       "'Data Science!123'"
      ]
     },
     "execution_count": 17,
     "metadata": {},
     "output_type": "execute_result"
    }
   ],
   "source": [
    "# how to concatenate list of strings\n",
    "''.join(one_list)"
   ]
  },
  {
   "cell_type": "code",
   "execution_count": 21,
   "metadata": {},
   "outputs": [],
   "source": [
    "# iterate over index\n",
    "string = ''\n",
    "upper = []\n",
    "lower = []\n",
    "other = []\n",
    "for i in range(len(one_list)):\n",
    "    c = one_list[i]\n",
    "# the two statements above is the same as\n",
    "# for c in one_list:\n",
    "    string += c\n",
    "#     string = string + c\n",
    "    if c.isupper():\n",
    "        upper.append(c)\n",
    "        #\n",
    "    elif c.islower():\n",
    "        lower.append(c)\n",
    "    else:\n",
    "        other.append(c)\n",
    "        \n",
    "one_dict = {'upper':upper, 'lower':lower, 'other':other, 'string':string}"
   ]
  },
  {
   "cell_type": "code",
   "execution_count": 22,
   "metadata": {},
   "outputs": [
    {
     "data": {
      "text/plain": [
       "{'upper': ['D', 'S'],\n",
       " 'lower': ['a', 't', 'a', 'c', 'i', 'e', 'n', 'c', 'e'],\n",
       " 'other': [' ', '!', '1', '2', '3'],\n",
       " 'string': 'Data Science!123'}"
      ]
     },
     "execution_count": 22,
     "metadata": {},
     "output_type": "execute_result"
    }
   ],
   "source": [
    "one_dict"
   ]
  },
  {
   "cell_type": "code",
   "execution_count": 23,
   "metadata": {},
   "outputs": [
    {
     "name": "stdout",
     "output_type": "stream",
     "text": [
      "c\n",
      "c\n",
      "c\n",
      "c\n",
      "c\n",
      "c\n",
      "c\n",
      "c\n",
      "c\n",
      "c\n"
     ]
    }
   ],
   "source": [
    "for i in range(10): # iterate for 10 time\n",
    "#     print(i)\n",
    "    print('c')"
   ]
  },
  {
   "cell_type": "code",
   "execution_count": 101,
   "metadata": {},
   "outputs": [
    {
     "name": "stdout",
     "output_type": "stream",
     "text": [
      "101\n",
      "3\n",
      "7\n",
      "9\n",
      "10\n"
     ]
    }
   ],
   "source": [
    "for c in num_list: # \n",
    "    print(c)"
   ]
  },
  {
   "cell_type": "code",
   "execution_count": null,
   "metadata": {},
   "outputs": [],
   "source": [
    "# what is this final dict?\n",
    "print(one_dict)"
   ]
  },
  {
   "cell_type": "markdown",
   "metadata": {},
   "source": [
    "`for` loop will work on any [iterable](https://docs.python.org/3/glossary.html#term-iterable) object. Iterables are `An object capable of returning its members one at a time`. Examples are most of what we have learned in collections, and some others like file object etc. Iterables can be used in a for loop and in many other places where a sequence is needed (`zip()`, `map()`, ...).\n",
    "\n",
    "The `for` statement will execute the indented code block until the items in the iterable is exhausted. You don't need to know the size/length of the iterable ahead of time."
   ]
  },
  {
   "cell_type": "markdown",
   "metadata": {},
   "source": [
    "#### Use `zip()` to make an iterator that aggregates elements from each of the iterables\n",
    "\n",
    "Documentation: https://docs.python.org/3.3/library/functions.html#zip\n",
    "\n",
    "- can be applied on >= 2 iterables\n",
    "- generated iterable takes the length of shortest iterable"
   ]
  },
  {
   "cell_type": "code",
   "execution_count": 37,
   "metadata": {},
   "outputs": [
    {
     "name": "stdout",
     "output_type": "stream",
     "text": [
      "[('four', 4, 0), ('five', 5, 2)]\n"
     ]
    }
   ],
   "source": [
    "x = ['four', 'five', 'six']\n",
    "y = [ 4,      5,      6]\n",
    "z = [ 0,      2 ]\n",
    "zipped = zip(x, y, z)\n",
    "print(list(zipped))\n",
    "# print(list(zipped))"
   ]
  },
  {
   "cell_type": "code",
   "execution_count": 29,
   "metadata": {},
   "outputs": [],
   "source": [
    "zipped_list = list(zip(x, y, z))"
   ]
  },
  {
   "cell_type": "code",
   "execution_count": 38,
   "metadata": {},
   "outputs": [
    {
     "name": "stdout",
     "output_type": "stream",
     "text": [
      "four\n",
      "4\n",
      "0\n",
      "five\n",
      "5\n",
      "2\n"
     ]
    }
   ],
   "source": [
    "# list/tuple/(set?) unpack\n",
    "for x1,y1,z1 in zip(x, y, z):\n",
    "    print(x1)\n",
    "    print(y1)\n",
    "    print(z1)"
   ]
  },
  {
   "cell_type": "code",
   "execution_count": 39,
   "metadata": {},
   "outputs": [
    {
     "name": "stdout",
     "output_type": "stream",
     "text": [
      "four\n",
      "4\n",
      "0\n",
      "five\n",
      "5\n",
      "2\n"
     ]
    }
   ],
   "source": [
    "for i in range(min(len(x), len(y), len(z))):\n",
    "    print(x[i])\n",
    "    print(y[i])\n",
    "    print(z[i])"
   ]
  },
  {
   "cell_type": "markdown",
   "metadata": {},
   "source": [
    "`zip` is for \"one time use\" only as python won't be stored entire sequence in memory -- [look at what yield does in python](https://www.geeksforgeeks.org/use-yield-keyword-instead-return-keyword-python/)\n",
    "\n",
    "The following code will print nothing as `x,y` are `None` since zipped is already used for `print` function two cells above."
   ]
  },
  {
   "cell_type": "code",
   "execution_count": 40,
   "metadata": {},
   "outputs": [],
   "source": [
    "for x,y in zipped:\n",
    "    print(x)\n",
    "    print(y)"
   ]
  },
  {
   "cell_type": "code",
   "execution_count": 41,
   "metadata": {},
   "outputs": [
    {
     "name": "stdout",
     "output_type": "stream",
     "text": [
      "True\n"
     ]
    }
   ],
   "source": [
    "# the * operator can be used to unzip a list\n",
    "x = ['four', 'five', 'six']\n",
    "y = [ 4,      5,      6]\n",
    "x2, y2 = zip(*zip(x, y))\n",
    "print(x == list(x2) and y == list(y2))"
   ]
  },
  {
   "cell_type": "markdown",
   "metadata": {},
   "source": [
    "What is the type of x2 and y2 here? why?\n",
    "\n",
    "Tuple. output of zip is a tuple of tuples, and it was unpacked by the assignment"
   ]
  },
  {
   "cell_type": "code",
   "execution_count": 42,
   "metadata": {},
   "outputs": [
    {
     "data": {
      "text/plain": [
       "[('four', 4), ('five', 5), ('six', 6)]"
      ]
     },
     "execution_count": 42,
     "metadata": {},
     "output_type": "execute_result"
    }
   ],
   "source": [
    "# zip(x,y) produces a tuple with ('four', 4), then unzipped\n",
    "[*zip(x,y)]\n",
    "\n",
    "# ('four', 4)\n",
    "# ('five', 5)\n",
    "# ('six', 6)"
   ]
  },
  {
   "cell_type": "code",
   "execution_count": 122,
   "metadata": {},
   "outputs": [
    {
     "name": "stdout",
     "output_type": "stream",
     "text": [
      "('four', 'five', 'six')\n",
      "(4, 5, 6)\n"
     ]
    }
   ],
   "source": [
    "# zip the three tuples above give us another tuple with ('four', 'five', 'six')\n",
    "# then unpacked\n",
    "x2, y2 = zip(*zip(x,y))\n",
    "print(x2)\n",
    "print(y2)"
   ]
  },
  {
   "cell_type": "markdown",
   "metadata": {},
   "source": [
    "#### Sequence unpacking"
   ]
  },
  {
   "cell_type": "code",
   "execution_count": 43,
   "metadata": {},
   "outputs": [
    {
     "data": {
      "text/plain": [
       "12345"
      ]
     },
     "execution_count": 43,
     "metadata": {},
     "output_type": "execute_result"
    }
   ],
   "source": [
    "t = 12345\n",
    "t"
   ]
  },
  {
   "cell_type": "code",
   "execution_count": 47,
   "metadata": {},
   "outputs": [
    {
     "name": "stdout",
     "output_type": "stream",
     "text": [
      "<class 'tuple'>\n"
     ]
    },
    {
     "data": {
      "text/plain": [
       "(12345, 54321, 'hello!')"
      ]
     },
     "execution_count": 47,
     "metadata": {},
     "output_type": "execute_result"
    }
   ],
   "source": [
    "t = 12345, 54321, 'hello!' # tuple packing\n",
    "print(type(t))\n",
    "t"
   ]
  },
  {
   "cell_type": "code",
   "execution_count": 48,
   "metadata": {},
   "outputs": [
    {
     "data": {
      "text/plain": [
       "(12345, 54321, 'hello!')"
      ]
     },
     "execution_count": 48,
     "metadata": {},
     "output_type": "execute_result"
    }
   ],
   "source": [
    "x, y, z = t\n",
    "x, y, z"
   ]
  },
  {
   "cell_type": "code",
   "execution_count": 49,
   "metadata": {},
   "outputs": [
    {
     "name": "stdout",
     "output_type": "stream",
     "text": [
      "<class 'tuple'>\n",
      "<class 'int'> <class 'int'> <class 'str'>\n"
     ]
    }
   ],
   "source": [
    "t = 12345, 54321, 'hello!' # tuple packing\n",
    "print(type(t))\n",
    "x, y, z = t # typle unpacking\n",
    "print(type(x), type(y), type(z))"
   ]
  },
  {
   "cell_type": "markdown",
   "metadata": {},
   "source": [
    "Sequence packing is length agnostic - you can pack as many items on the right hand side to the left side tuple. Sequence unpacking requires that there are as many variables on the left side of the equals sign as there are elements in the sequence on the ride side. Note that multiple assignment is really just a combination of tuple packing and sequence unpacking.\n",
    "\n",
    "If you don't need or care about some of the unpacked values, you can use `_` to make up for space like the following."
   ]
  },
  {
   "cell_type": "code",
   "execution_count": 51,
   "metadata": {},
   "outputs": [
    {
     "name": "stdout",
     "output_type": "stream",
     "text": [
      "12345\n",
      "hello!\n",
      "54321\n"
     ]
    }
   ],
   "source": [
    "a, _, b = t\n",
    "print(a)\n",
    "print(b)\n",
    "print(_)\n",
    "# the unpacking will fail without _"
   ]
  },
  {
   "cell_type": "markdown",
   "metadata": {},
   "source": [
    "#### 4th way to generate a dictionary"
   ]
  },
  {
   "cell_type": "code",
   "execution_count": 53,
   "metadata": {},
   "outputs": [],
   "source": [
    "dict1 = dict(zip(['one','two','three'], [1,2,3]))"
   ]
  },
  {
   "cell_type": "code",
   "execution_count": 59,
   "metadata": {},
   "outputs": [
    {
     "name": "stdout",
     "output_type": "stream",
     "text": [
      "[('upper', ['D', 'S']), ('lower', ['a', 't', 'a', 'c', 'i', 'e', 'n', 'c', 'e']), ('other', [' ', '!', '1', '2', '3']), ('string', 'Data Science!123')]\n"
     ]
    }
   ],
   "source": [
    "dict_list = zip(one_dict.keys(), one_dict.values())\n",
    "print(list(dict_list))"
   ]
  },
  {
   "cell_type": "code",
   "execution_count": 60,
   "metadata": {},
   "outputs": [
    {
     "name": "stdout",
     "output_type": "stream",
     "text": [
      "{'upper': ['D', 'S'], 'lower': ['a', 't', 'a', 'c', 'i', 'e', 'n', 'c', 'e'], 'other': [' ', '!', '1', '2', '3'], 'string': 'Data Science!123'}\n",
      "{'upper': ['D', 'S'], 'lower': ['a', 't', 'a', 'c', 'i', 'e', 'n', 'c', 'e'], 'other': [' ', '!', '1', '2', '3'], 'string': 'Data Science!123'}\n"
     ]
    }
   ],
   "source": [
    "print(dict(zip(one_dict.keys(), one_dict.values())))\n",
    "print(one_dict)"
   ]
  },
  {
   "cell_type": "markdown",
   "metadata": {},
   "source": [
    "The left-to-right evaluation order of the iterables is guaranteed. This makes possible an idiom for clustering a data series into n-length groups using `zip(*[iter(s)]*n)`. Look at the following example."
   ]
  },
  {
   "cell_type": "code",
   "execution_count": 62,
   "metadata": {},
   "outputs": [],
   "source": [
    "x = ['four', 'five', 'six']\n",
    "y = [ 4,      5,      6]"
   ]
  },
  {
   "cell_type": "code",
   "execution_count": 67,
   "metadata": {},
   "outputs": [
    {
     "data": {
      "text/plain": [
       "[['four', 'five', 'six'],\n",
       " [4, 5, 6],\n",
       " ['four', 'five', 'six'],\n",
       " [4, 5, 6],\n",
       " ['four', 'five', 'six'],\n",
       " [4, 5, 6],\n",
       " ['four', 'five', 'six'],\n",
       " [4, 5, 6]]"
      ]
     },
     "execution_count": 67,
     "metadata": {},
     "output_type": "execute_result"
    }
   ],
   "source": [
    "[x,y]*4"
   ]
  },
  {
   "cell_type": "code",
   "execution_count": 114,
   "metadata": {},
   "outputs": [
    {
     "ename": "SyntaxError",
     "evalue": "can't use starred expression here (<ipython-input-114-575d7bda3f0d>, line 4)",
     "output_type": "error",
     "traceback": [
      "\u001b[0;36m  File \u001b[0;32m\"<ipython-input-114-575d7bda3f0d>\"\u001b[0;36m, line \u001b[0;32m4\u001b[0m\n\u001b[0;31mSyntaxError\u001b[0m\u001b[0;31m:\u001b[0m can't use starred expression here\n"
     ]
    }
   ],
   "source": [
    "*[x,y]*4\n",
    "# see explanations here: \n",
    "# https://stackoverflow.com/questions/64864182/python-unpacking-list-cant-use-starred-expression"
   ]
  },
  {
   "cell_type": "code",
   "execution_count": 115,
   "metadata": {},
   "outputs": [
    {
     "data": {
      "text/plain": [
       "[3, 4, 3, 4, 3, 4, 3, 4]"
      ]
     },
     "execution_count": 115,
     "metadata": {},
     "output_type": "execute_result"
    }
   ],
   "source": [
    "# add \"container\" for unpacked list\n",
    "[ *[x,y]*4 ]"
   ]
  },
  {
   "cell_type": "code",
   "execution_count": 68,
   "metadata": {},
   "outputs": [
    {
     "name": "stdout",
     "output_type": "stream",
     "text": [
      "('four', 4, 'four', 4, 'four', 4, 'four', 4)\n",
      "('five', 5, 'five', 5, 'five', 5, 'five', 5)\n",
      "('six', 6, 'six', 6, 'six', 6, 'six', 6)\n"
     ]
    }
   ],
   "source": [
    "a = zip(*[x,y]*4)\n",
    "for t in a:\n",
    "    print(t)"
   ]
  },
  {
   "cell_type": "markdown",
   "metadata": {},
   "source": [
    "### 5.2 Partial loop using `break` and `continue`\n",
    "\n",
    "`for` loop will be executed for all items in iterable, but what if I don't want that?\n",
    "\n",
    "`break` acts as a hard stop on the loop execution, code will exit from the loop. Note that if `break` is not wrapped within a condition, it will always break out of the loop.\n",
    "\n",
    "`break` breaks out of the innermost layer of loop: [documentation](https://docs.python.org/3/tutorial/controlflow.html#break-and-continue-statements-and-else-clauses-on-loops)"
   ]
  },
  {
   "cell_type": "code",
   "execution_count": 72,
   "metadata": {},
   "outputs": [
    {
     "name": "stdout",
     "output_type": "stream",
     "text": [
      "1\n",
      "2\n",
      "3\n",
      "4\n",
      "5\n",
      "6\n"
     ]
    }
   ],
   "source": [
    "# outer for loop\n",
    "    \n",
    "for i in range(1,10):\n",
    "    \n",
    "    if i%2==0 and i%3==0:\n",
    "        break\n",
    "    print(i)\n",
    "        \n",
    "print(i)"
   ]
  },
  {
   "cell_type": "markdown",
   "metadata": {},
   "source": [
    "- indentation\n",
    "- `range(start, stop, [step])`. This is very convenient to use if you want to generate index for your iterations. [Read how to use `range`](https://docs.python.org/3/library/stdtypes.html#range) on your own for the exercise\n",
    "    ```\n",
    "    num_list = [2,4,6,8]\n",
    "    for i in range(len(num_list)):\n",
    "        print('value at index {0} is {1}'.format(i, num_list[i]))\n",
    "    ```\n",
    "- `==` logical condition\n",
    "- loop is broken when `if` condition is met and hit `break`"
   ]
  },
  {
   "cell_type": "markdown",
   "metadata": {},
   "source": [
    "`continue` is more like a shortcut to do nothing and skip the rest of the code within the indented block, and move on to the next iteration. It has a similar placeholder taste to `pass` for `if-elif-else` statement. However, they are actually different. Is `pass` simply does nothing, while `continue` goes on with the next loop iteration."
   ]
  },
  {
   "cell_type": "code",
   "execution_count": 73,
   "metadata": {},
   "outputs": [
    {
     "name": "stdout",
     "output_type": "stream",
     "text": [
      "1\n",
      "2\n",
      "3\n",
      "4\n",
      "5\n",
      "7\n",
      "8\n",
      "9\n",
      "9\n"
     ]
    }
   ],
   "source": [
    "# global\n",
    "\n",
    "for i in range(1,10):\n",
    "    if i%2==0 and i%3==0:\n",
    "        continue # == pass & got to next iteration\n",
    "    print(i)\n",
    "    \n",
    "print(i)"
   ]
  },
  {
   "cell_type": "code",
   "execution_count": 74,
   "metadata": {},
   "outputs": [
    {
     "name": "stdout",
     "output_type": "stream",
     "text": [
      "0\n",
      "1\n",
      "2\n"
     ]
    }
   ],
   "source": [
    "a = [0, 1, 2]\n",
    "for element in a:\n",
    "    if not element:\n",
    "#      if element == False: 0, '', [], ()\n",
    "#      refer to boolen variable, if-else statement\n",
    "#     if (element == 0) or (element == ''): \n",
    "        pass # do nothing\n",
    "    print(element)"
   ]
  },
  {
   "cell_type": "code",
   "execution_count": 75,
   "metadata": {},
   "outputs": [
    {
     "name": "stdout",
     "output_type": "stream",
     "text": [
      "1\n",
      "2\n"
     ]
    }
   ],
   "source": [
    "a = [0, 1, 2]\n",
    "for element in a:\n",
    "    if not element:\n",
    "#     if element ==0: \n",
    "        continue # just to next iteration\n",
    "    print(element)"
   ]
  },
  {
   "cell_type": "markdown",
   "metadata": {},
   "source": [
    "### 5.3 A few iterables\n",
    "We have seen `list` used with `for`, and it's said other collections will work too. \n",
    "\n",
    "#### `enumerate()`\n",
    "We have seen `range()` is easier at handling indices, there is actually a easier method to get both item and index at the same time. This function yield an interable sequence of values, each value is a pair of index and the actual tiem.\n",
    "doc: https://docs.python.org/3/library/functions.html#enumerate\n",
    "\n",
    "\n",
    "```zip[index/position, values]```"
   ]
  },
  {
   "cell_type": "code",
   "execution_count": 159,
   "metadata": {},
   "outputs": [
    {
     "name": "stdout",
     "output_type": "stream",
     "text": [
      "[(0, 2), (1, 4), (2, 6), (3, 8)]\n"
     ]
    }
   ],
   "source": [
    "print(list(zip(list(range(len(num_list))), num_list)))"
   ]
  },
  {
   "cell_type": "code",
   "execution_count": null,
   "metadata": {},
   "outputs": [],
   "source": [
    "# for item in iterable:\n",
    "    \n",
    "# for index in range(len(iterable)):\n",
    "#     iterable[index]"
   ]
  },
  {
   "cell_type": "code",
   "execution_count": 76,
   "metadata": {},
   "outputs": [
    {
     "name": "stdout",
     "output_type": "stream",
     "text": [
      "value at index 0 is 2\n",
      "value at index 1 is 4\n",
      "value at index 2 is 6\n",
      "value at index 3 is 8\n"
     ]
    }
   ],
   "source": [
    "# compare with the code using range above\n",
    "num_list = [2,4,6,8]\n",
    "for position, number in enumerate(num_list): # tuple unpacking\n",
    "    # number = num_list[postion]\n",
    "    print('value at index {0} is {1}'.format(position, number))"
   ]
  },
  {
   "cell_type": "markdown",
   "metadata": {},
   "source": [
    "`enumerate` seems more powerful when you want to iterate through existing iterable, while `range` gives you more flexibility to run any number of iterations.\n",
    "\n",
    "`i, number` ~ sequence unpacking, already mentioned above, [read more here](https://docs.python.org/3/tutorial/datastructures.html#tuples-and-sequences)"
   ]
  },
  {
   "cell_type": "markdown",
   "metadata": {},
   "source": [
    "#### `dictionary()`\n",
    "You can use `for` statement to iterate through keys of a dictionary"
   ]
  },
  {
   "cell_type": "code",
   "execution_count": 81,
   "metadata": {},
   "outputs": [
    {
     "name": "stdout",
     "output_type": "stream",
     "text": [
      "{'data': 'science', 'science': 0, 0: {'upper': ['D', 'S'], 'lower': ['a', 't', 'a', 'c', 'i', 'e', 'n', 'c', 'e'], 'other': [' ', '!', '1', '2', '3'], 'string': 'Data Science!123'}}\n"
     ]
    }
   ],
   "source": [
    "print(three_dict)"
   ]
  },
  {
   "cell_type": "code",
   "execution_count": 82,
   "metadata": {},
   "outputs": [
    {
     "data": {
      "text/plain": [
       "3"
      ]
     },
     "execution_count": 82,
     "metadata": {},
     "output_type": "execute_result"
    }
   ],
   "source": [
    "len(three_dict)"
   ]
  },
  {
   "cell_type": "code",
   "execution_count": 83,
   "metadata": {},
   "outputs": [
    {
     "name": "stdout",
     "output_type": "stream",
     "text": [
      "data : science\n",
      "science : 0\n",
      "0 : {'upper': ['D', 'S'], 'lower': ['a', 't', 'a', 'c', 'i', 'e', 'n', 'c', 'e'], 'other': [' ', '!', '1', '2', '3'], 'string': 'Data Science!123'}\n"
     ]
    }
   ],
   "source": [
    "# interate over keys\n",
    "for key in three_dict:\n",
    "    print('{0} : {1}'.format(key, three_dict[key]))"
   ]
  },
  {
   "cell_type": "code",
   "execution_count": 84,
   "metadata": {},
   "outputs": [
    {
     "name": "stdout",
     "output_type": "stream",
     "text": [
      "data : science\n",
      "science : 0\n",
      "0 : {'upper': ['D', 'S'], 'lower': ['a', 't', 'a', 'c', 'i', 'e', 'n', 'c', 'e'], 'other': [' ', '!', '1', '2', '3'], 'string': 'Data Science!123'}\n"
     ]
    }
   ],
   "source": [
    "# you can also do this by unpacking\n",
    "for key, value in three_dict.items():\n",
    "    print('{0} : {1}'.format(key, value))"
   ]
  },
  {
   "cell_type": "markdown",
   "metadata": {},
   "source": [
    "Note: dictionary is unordered, so it's not guaranteed you will iterate over the keys in the same order are they are defined. If you care about the order, check out [how to use `sorted()`](https://docs.python.org/3/library/functions.html#sorted) or [OrderedDict collection](https://docs.python.org/2/library/collections.html#ordereddict-objects)."
   ]
  },
  {
   "cell_type": "markdown",
   "metadata": {},
   "source": [
    "### 5.4 Comprehensions\n",
    "Comprehension is nothing but a more concise way of running `for` loop, allegedly more \"pythonic\". If you are familiar with how sets are defined in mathmetics, you can probably see the similarity in comprehension.\n",
    "\n",
    "`[expression/code for item in iterable]`\n",
    "\n",
    "```\n",
    "for item in iterable:\n",
    "____expression/code\n",
    "```\n",
    "\n",
    "Comprehension [may be a bit faster but technically still on the same scale as `for` loop](https://stackoverflow.com/questions/22108488/are-list-comprehensions-and-functional-functions-faster-than-for-loops) with slightly less overhead."
   ]
  },
  {
   "cell_type": "markdown",
   "metadata": {},
   "source": [
    "#### List comprehension"
   ]
  },
  {
   "cell_type": "code",
   "execution_count": 85,
   "metadata": {},
   "outputs": [
    {
     "name": "stdout",
     "output_type": "stream",
     "text": [
      "[2, 4, 6, 8]\n"
     ]
    }
   ],
   "source": [
    "print(num_list)"
   ]
  },
  {
   "cell_type": "code",
   "execution_count": 89,
   "metadata": {},
   "outputs": [
    {
     "name": "stdout",
     "output_type": "stream",
     "text": [
      "[4, 16, 36, 64]\n",
      "4\n",
      "16\n",
      "36\n",
      "64\n"
     ]
    }
   ],
   "source": [
    "# list comprehension\n",
    "num_list_2 = [number**2 for number in num_list]\n",
    "print(num_list_2)\n",
    "# if tuple:\n",
    "for i in num_list_2:\n",
    "    print(i)"
   ]
  },
  {
   "cell_type": "code",
   "execution_count": 90,
   "metadata": {},
   "outputs": [
    {
     "name": "stdout",
     "output_type": "stream",
     "text": [
      "[4, 16, 36, 64]\n"
     ]
    }
   ],
   "source": [
    "# it is basically doing this in one line:\n",
    "num_list_2 = []\n",
    "for number in num_list:\n",
    "    num_list_2.append(number**2)\n",
    "print(num_list_2)"
   ]
  },
  {
   "cell_type": "code",
   "execution_count": 91,
   "metadata": {},
   "outputs": [
    {
     "name": "stdout",
     "output_type": "stream",
     "text": [
      "[0, 1, 8, 27, 64, 125, 216, 343]\n"
     ]
    }
   ],
   "source": [
    "# then what's the equivalent for the following comprehension?\n",
    "num_list_3 = [num**3 for num in range(8)]\n",
    "print(num_list_3)"
   ]
  },
  {
   "cell_type": "code",
   "execution_count": 92,
   "metadata": {},
   "outputs": [
    {
     "name": "stdout",
     "output_type": "stream",
     "text": [
      "[0, 1, 8, 27, 64, 125, 216, 343]\n"
     ]
    }
   ],
   "source": [
    "# code up the for loop version:\n",
    "num_list_3 = []\n",
    "for num in range(8):\n",
    "    num_list_3.append(num**3)\n",
    "print(num_list_3)    "
   ]
  },
  {
   "cell_type": "markdown",
   "metadata": {},
   "source": [
    "You can make it more complex and chain other statements to it.\n",
    "\n",
    "You can combine `if-else` statement with comprehension:\n",
    "\n",
    "`[f(x) for x in iterable if condition]`\n",
    "\n",
    "`[f(x) if condition else g(x) for x in iterable]`"
   ]
  },
  {
   "cell_type": "code",
   "execution_count": 93,
   "metadata": {},
   "outputs": [
    {
     "data": {
      "text/plain": [
       "[2, 4, 6, 8]"
      ]
     },
     "execution_count": 93,
     "metadata": {},
     "output_type": "execute_result"
    }
   ],
   "source": [
    "num_list"
   ]
  },
  {
   "cell_type": "code",
   "execution_count": 94,
   "metadata": {},
   "outputs": [
    {
     "data": {
      "text/plain": [
       "[8, 64, 36, 64]"
      ]
     },
     "execution_count": 94,
     "metadata": {},
     "output_type": "execute_result"
    }
   ],
   "source": [
    "# with if-else\n",
    "[number**3 if number < 5 else number**2 for number in num_list]"
   ]
  },
  {
   "cell_type": "code",
   "execution_count": null,
   "metadata": {},
   "outputs": [],
   "source": [
    "# for x in iterable_1:\n",
    "#     for y in iterable_2:\n",
    "#          for z in iterable_3:\n",
    "#             ...\n",
    "# nested for loop\n",
    "# len(iterable_1) * len(iterable_2) * len(iterable_3) iterations"
   ]
  },
  {
   "cell_type": "code",
   "execution_count": 95,
   "metadata": {},
   "outputs": [
    {
     "name": "stdout",
     "output_type": "stream",
     "text": [
      "[(1, 3), (1, 4), (2, 3), (2, 1), (2, 4), (3, 1), (3, 4)]\n"
     ]
    }
   ],
   "source": [
    "# nested for loops in comprehension\n",
    "# readability\n",
    "print([(x, y) for x in [1,2,3] for y in [3,1,4] if x != y])"
   ]
  },
  {
   "cell_type": "code",
   "execution_count": 96,
   "metadata": {},
   "outputs": [
    {
     "name": "stdout",
     "output_type": "stream",
     "text": [
      "[(1, 3), (1, 4), (2, 3), (2, 1), (2, 4), (3, 1), (3, 4)]\n"
     ]
    }
   ],
   "source": [
    "xy = []\n",
    "for x in [1,2,3]:\n",
    "    for y in [3,1,4]:\n",
    "        # what do you want program to do\n",
    "        if x != y:\n",
    "            xy.append((x,y))\n",
    "print(xy)"
   ]
  },
  {
   "cell_type": "code",
   "execution_count": 98,
   "metadata": {},
   "outputs": [
    {
     "name": "stdout",
     "output_type": "stream",
     "text": [
      "[(1, 3), (1, 4), (2, 3), (2, 1), (2, 4), (3, 1), (3, 4)]\n"
     ]
    }
   ],
   "source": [
    "%timeit # add more comment\n",
    "print([(x, y) for x in [1,2,3] for y in [3,1,4] if x != y])"
   ]
  },
  {
   "cell_type": "code",
   "execution_count": 178,
   "metadata": {},
   "outputs": [
    {
     "name": "stdout",
     "output_type": "stream",
     "text": [
      "CPU times: user 3 µs, sys: 1 µs, total: 4 µs\n",
      "Wall time: 4.77 µs\n"
     ]
    }
   ],
   "source": [
    "# helper function\n",
    "%time\n",
    "%timeit"
   ]
  },
  {
   "cell_type": "markdown",
   "metadata": {},
   "source": [
    "It can get pretty complex really fast. Comprehension is usually quite elegant and short to write, but can be hard to read sometimes. For more examples, read [nested list comprehension here](https://docs.python.org/3/tutorial/datastructures.html#nested-list-comprehensions)."
   ]
  },
  {
   "cell_type": "markdown",
   "metadata": {},
   "source": [
    "#### Set and dictionary comprehension\n",
    "A comprehension creates a collection. The difference between different comprehension is the object generated in the end. Idea is the same though syntax are different.\n",
    "\n",
    "- Dicionary: `{key:value for item in iterable}`\n",
    "- Set: `{expression for item in iterable}`  -- generated set will be deduped"
   ]
  },
  {
   "cell_type": "code",
   "execution_count": 101,
   "metadata": {},
   "outputs": [
    {
     "name": "stdout",
     "output_type": "stream",
     "text": [
      "{1, 3, 5}\n"
     ]
    }
   ],
   "source": [
    "# set\n",
    "num_list = [1,1,2,3,5,8]\n",
    "set_odd = {x for x in num_list if x%2 == 1}\n",
    "print(set_odd)"
   ]
  },
  {
   "cell_type": "code",
   "execution_count": 102,
   "metadata": {},
   "outputs": [
    {
     "name": "stdout",
     "output_type": "stream",
     "text": [
      "{1: 1, 2: 4, 3: 9, 5: 25, 8: 64}\n"
     ]
    }
   ],
   "source": [
    "# dict\n",
    "num_list = [1,1,2,3,5,8]\n",
    "squared_dict = {x:x**2 for x in num_list}\n",
    "print(squared_dict)"
   ]
  },
  {
   "cell_type": "code",
   "execution_count": 103,
   "metadata": {},
   "outputs": [
    {
     "data": {
      "text/plain": [
       "dict_values([1, 4, 9, 25, 64])"
      ]
     },
     "execution_count": 103,
     "metadata": {},
     "output_type": "execute_result"
    }
   ],
   "source": [
    "squared_dict.values()"
   ]
  },
  {
   "cell_type": "code",
   "execution_count": 186,
   "metadata": {},
   "outputs": [
    {
     "name": "stdout",
     "output_type": "stream",
     "text": [
      "[1, 2, 5]\n",
      "[1, 2, 5]\n"
     ]
    }
   ],
   "source": [
    "# the slicing we've learned before is actually list comprehension :)\n",
    "print([num_list[i] for i in range(0, len(num_list), 2)])\n",
    "print(num_list[::2])"
   ]
  },
  {
   "cell_type": "code",
   "execution_count": 187,
   "metadata": {},
   "outputs": [
    {
     "data": {
      "text/plain": [
       "[1, 2, 5]"
      ]
     },
     "execution_count": 187,
     "metadata": {},
     "output_type": "execute_result"
    }
   ],
   "source": [
    "num_list[::2]"
   ]
  },
  {
   "cell_type": "code",
   "execution_count": 188,
   "metadata": {},
   "outputs": [
    {
     "data": {
      "text/plain": [
       "[1, 2, 5]"
      ]
     },
     "execution_count": 188,
     "metadata": {},
     "output_type": "execute_result"
    }
   ],
   "source": [
    "[num_list[i] for i in range(0, len(num_list), 2)]"
   ]
  },
  {
   "cell_type": "markdown",
   "metadata": {},
   "source": [
    "### 5.5 `while` loop\n",
    "\n",
    "With the `while` loop we can execute a set of statements as long as a condition is `True`. It will exit only when the condition is changed into `False`, or when there is a `break` statement.\n",
    "\n",
    "Syntax:\n",
    "```\n",
    "while condition(==True):\n",
    "____execute code block\n",
    "```"
   ]
  },
  {
   "cell_type": "code",
   "execution_count": 104,
   "metadata": {},
   "outputs": [
    {
     "name": "stdout",
     "output_type": "stream",
     "text": [
      "1\n",
      "2\n",
      "3\n",
      "while loop is broken at i=3\n"
     ]
    }
   ],
   "source": [
    "i = 1 # iter/i iteration\n",
    "while i < 6:\n",
    "    print(i)\n",
    "    if i == 3:\n",
    "        break\n",
    "    i += 1\n",
    "    # i = i+1\n",
    "# see final value of i    \n",
    "print('while loop is broken at i={}'.format(i))"
   ]
  },
  {
   "cell_type": "code",
   "execution_count": 105,
   "metadata": {},
   "outputs": [
    {
     "name": "stdout",
     "output_type": "stream",
     "text": [
      "1\n",
      "2\n",
      "4\n",
      "5\n",
      "6\n",
      "while loop is broken at i=6\n"
     ]
    }
   ],
   "source": [
    "i = 0\n",
    "while i < 6:\n",
    "    i += 1\n",
    "    if i == 3:\n",
    "        continue\n",
    "    print(i)\n",
    "print('while loop is broken at i={}'.format(i))"
   ]
  },
  {
   "cell_type": "markdown",
   "metadata": {},
   "source": [
    "With the `else` statement after `while` loop, we can run a block of code once when the condition no longer is `True`."
   ]
  },
  {
   "cell_type": "code",
   "execution_count": 106,
   "metadata": {
    "scrolled": false
   },
   "outputs": [
    {
     "name": "stdout",
     "output_type": "stream",
     "text": [
      "1\n",
      "2\n",
      "3\n",
      "4\n",
      "5\n",
      "i is no longer less than 6\n"
     ]
    }
   ],
   "source": [
    "i = 1\n",
    "while i < 6:\n",
    "    print(i)\n",
    "    i += 1\n",
    "else:\n",
    "    print(\"i is no longer less than 6\")"
   ]
  },
  {
   "cell_type": "markdown",
   "metadata": {},
   "source": [
    "When to use `while` or `for` loops? \n",
    "- `for` will repeat for a fixed number of times\n",
    "- `while` will run until condition is no longer met (**warning: infinite loop**)"
   ]
  },
  {
   "cell_type": "code",
   "execution_count": 107,
   "metadata": {},
   "outputs": [
    {
     "name": "stdout",
     "output_type": "stream",
     "text": [
      "0\n",
      "2\n",
      "3\n",
      "4\n",
      "5\n",
      "5\n",
      "[0, 2, 3, 4]\n",
      "4\n",
      "[0, 2, 3]\n",
      "3\n",
      "[0, 2]\n",
      "2\n",
      "[0]\n",
      "0\n",
      "[]\n"
     ]
    }
   ],
   "source": [
    "# equivalent\n",
    "# while (iterable is not exhausted) or (number of iteration not met):\n",
    "#     do something\n",
    "\n",
    "list1 = [0,2,3,4,5]\n",
    "\n",
    "for number in list1: # iterate over a list\n",
    "    print(number)\n",
    "    \n",
    "while list1: # as long as the list is not empty\n",
    "    # while list1 != []\n",
    "    number = list1.pop()\n",
    "    print(number)\n",
    "    print(list1)"
   ]
  },
  {
   "cell_type": "markdown",
   "metadata": {},
   "source": [
    "what is `True`? https://docs.python.org/3/library/stdtypes.html#truth-value-testing"
   ]
  },
  {
   "cell_type": "markdown",
   "metadata": {},
   "source": [
    "#### Exercise 5.\n",
    "\n",
    "1. Write a Python program to find those numbers which are divisible by 7 and multiple of 5, between 1500 and 2700 (both included)."
   ]
  },
  {
   "cell_type": "code",
   "execution_count": 8,
   "metadata": {},
   "outputs": [],
   "source": [
    "# code up your solution here\n"
   ]
  },
  {
   "cell_type": "markdown",
   "metadata": {},
   "source": [
    "2. Write a Python program to count the number of even and odd numbers from a series of numbers.\n",
    "\n",
    "Sample: `numbers = (1, 2, 3, 4, 5, 6, 7, 8, 9)`\n",
    "\n",
    "Expected Output :\n",
    "\n",
    "```\n",
    "Number of even numbers : 4\n",
    "Number of odd numbers : 5\n",
    "```"
   ]
  },
  {
   "cell_type": "code",
   "execution_count": 9,
   "metadata": {},
   "outputs": [],
   "source": [
    "# code up your solution here\n"
   ]
  },
  {
   "cell_type": "markdown",
   "metadata": {},
   "source": [
    "3. Write a Python program which iterates the integers from 0 to 50. For multiples of three print \"Fizz\" instead of the number and for the multiples of five print \"Buzz\". For numbers which are multiples of both three and five print \"FizzBuzz\".\n",
    "\n",
    "Expected Output :\n",
    "```\n",
    "fizzbuzz\n",
    "1\n",
    "2\n",
    "fizz\n",
    "4\n",
    "buzz\n",
    "...\n",
    "```"
   ]
  },
  {
   "cell_type": "code",
   "execution_count": 10,
   "metadata": {},
   "outputs": [],
   "source": [
    "# code up your solution here\n"
   ]
  },
  {
   "cell_type": "markdown",
   "metadata": {},
   "source": [
    "4. Given a list iterate it and display numbers which are divisible by 5 and if you find number greater than 150 stop the loop iteration\n",
    "\n",
    "`list1 = [12, 15, 32, 42, 55, 75, 122, 132, 150, 180, 200]`\n",
    "\n",
    "Expected output:\n",
    "```\n",
    "15\n",
    "55\n",
    "75\n",
    "150\n",
    "```"
   ]
  },
  {
   "cell_type": "code",
   "execution_count": 11,
   "metadata": {},
   "outputs": [],
   "source": [
    "# code up your solution here\n"
   ]
  },
  {
   "cell_type": "markdown",
   "metadata": {},
   "source": [
    "5. Pick one of the questions above and use `range()` for a different solution"
   ]
  },
  {
   "cell_type": "code",
   "execution_count": null,
   "metadata": {},
   "outputs": [],
   "source": [
    "# code up your solution here\n",
    "# problem 1 & 3 are using range()"
   ]
  },
  {
   "cell_type": "markdown",
   "metadata": {},
   "source": [
    "6. Pick one of the question above and use comprehensions for a different solution"
   ]
  },
  {
   "cell_type": "code",
   "execution_count": 12,
   "metadata": {},
   "outputs": [],
   "source": [
    "# code up your solution here\n"
   ]
  },
  {
   "cell_type": "markdown",
   "metadata": {},
   "source": [
    "7. Pcik one of the questions above and use `while` loop for a different solution"
   ]
  },
  {
   "cell_type": "code",
   "execution_count": 13,
   "metadata": {},
   "outputs": [],
   "source": [
    "# code up your solution here\n"
   ]
  },
  {
   "cell_type": "markdown",
   "metadata": {},
   "source": [
    "**Question from last class:**\n",
    "- Is list comprehension same as `map` + lambda function?\n",
    "    - Can refer to [this post](https://www.geeksforgeeks.org/python-map-vs-list-comprehension/) for some basic discussion and example\n",
    "    - Very similar, key difference being the type of object returned\n",
    "    - comprehension can do filtering with `if-else` condition\n",
    "    - Performance can be different, but not consistent"
   ]
  },
  {
   "cell_type": "markdown",
   "metadata": {},
   "source": [
    "## 6. Writing functions\n",
    "We have learned a bunch of techniques to write code programs to solve problem, in some of the exercises we did, you'll need manually update the variables and it quickly becomes difficult to manage. Imagine you write a more complex program with 500+ lines of code, and now you need to update two varaibles. It's not only tiring but also prone to error. Now we are introducint function (we have already used a lot actually!) to make our code more repeatable.\n",
    "\n",
    "Functions can:\n",
    "- Reduce complexity. Now you can point to a chunk of code using shorthand. Once you make sure it's behaving as expceted, you are confident it will work anywhere.\n",
    "- Be reused. Super easy for you and others for similar tasks.\n",
    "\n",
    "### 6.1 Define functions with `def`\n",
    "\n",
    "Goal of a function is to solve a problem. It could be super easy task, or a group of small tasks stacked together. \n",
    "\n",
    "Python functions take the inputs (`arguments`) to run some code and return results or do something as you defined. This definition is similar to how we define functions in math too, there is domain, mapping, and value.\n",
    "\n",
    "Let's start with some simple examples"
   ]
  },
  {
   "cell_type": "code",
   "execution_count": 116,
   "metadata": {},
   "outputs": [
    {
     "name": "stdout",
     "output_type": "stream",
     "text": [
      "Data Science!"
     ]
    }
   ],
   "source": [
    "print('Data Science', end='!')\n",
    "# print is a built-in function"
   ]
  },
  {
   "cell_type": "markdown",
   "metadata": {},
   "source": [
    "Functions are usually declared by \n",
    "\n",
    "```\n",
    "def function_name(arguments, ...):\n",
    "    \n",
    "____code with arguments\n",
    "    code with arguments\n",
    "    \n",
    "    [optional]\n",
    "    [return output]\n",
    "    \n",
    "another line of code outside the function\n",
    "```"
   ]
  },
  {
   "cell_type": "code",
   "execution_count": 117,
   "metadata": {},
   "outputs": [
    {
     "name": "stdout",
     "output_type": "stream",
     "text": [
      "Heisenberg!\n",
      "Jesse Pinkman\n"
     ]
    }
   ],
   "source": [
    "def say_my_name(name, excited=True):\n",
    "    ''' # docstring\n",
    "    example function to print name\n",
    "    \n",
    "    inputs:\n",
    "        name : str, name to say\n",
    "        excited : bool, optional, default to True\n",
    "    \n",
    "    return:\n",
    "        None\n",
    "    '''\n",
    "    if excited:\n",
    "        end = '!\\n'\n",
    "        print(name, end=end)\n",
    "    else:\n",
    "        print(name)\n",
    "    \n",
    "say_my_name('Heisenberg')\n",
    "say_my_name('Jesse Pinkman', False)"
   ]
  },
  {
   "cell_type": "code",
   "execution_count": 118,
   "metadata": {},
   "outputs": [
    {
     "name": "stdout",
     "output_type": "stream",
     "text": [
      "Jesse Pinkman\n"
     ]
    }
   ],
   "source": [
    "say_my_name(excited=False, name='Jesse Pinkman')"
   ]
  },
  {
   "cell_type": "code",
   "execution_count": 119,
   "metadata": {},
   "outputs": [
    {
     "name": "stdout",
     "output_type": "stream",
     "text": [
      "False!\n"
     ]
    }
   ],
   "source": [
    "say_my_name(False, 'Jesse Pinkman')"
   ]
  },
  {
   "cell_type": "markdown",
   "metadata": {},
   "source": [
    "Syntax:\n",
    "- `def` needs matching `:`\n",
    "- indentation \n",
    "    - indentied block will be executed\n",
    "    - level of indentation: `if-else` has their own leven inside\n",
    "- arguments\n",
    "    - if not specify key words, will go by position\n",
    "    - you can specify default value for your arguments - this argument will be optional\n",
    "    - when passed a value, default will be overwritten"
   ]
  },
  {
   "cell_type": "markdown",
   "metadata": {},
   "source": [
    "### 6.2 Getting value with `return`\n",
    "We noticed there is no `return` from the function above. What does it mean?"
   ]
  },
  {
   "cell_type": "code",
   "execution_count": 120,
   "metadata": {},
   "outputs": [
    {
     "data": {
      "text/plain": [
       "['g', 'r', 'e', 'b', 'n', 'e', 's', 'i', 'e', 'H']"
      ]
     },
     "execution_count": 120,
     "metadata": {},
     "output_type": "execute_result"
    }
   ],
   "source": [
    "l1 = list('Heisenberg')\n",
    "l1.reverse()\n",
    "l1"
   ]
  },
  {
   "cell_type": "code",
   "execution_count": 121,
   "metadata": {},
   "outputs": [],
   "source": [
    "l2 = l1.reverse()\n",
    "l2"
   ]
  },
  {
   "cell_type": "code",
   "execution_count": 122,
   "metadata": {},
   "outputs": [
    {
     "data": {
      "text/plain": [
       "NoneType"
      ]
     },
     "execution_count": 122,
     "metadata": {},
     "output_type": "execute_result"
    }
   ],
   "source": [
    "type(l2)"
   ]
  },
  {
   "cell_type": "code",
   "execution_count": 123,
   "metadata": {},
   "outputs": [
    {
     "name": "stdout",
     "output_type": "stream",
     "text": [
      "Heisenberg!\n"
     ]
    }
   ],
   "source": [
    "a = say_my_name('Heisenberg')"
   ]
  },
  {
   "cell_type": "code",
   "execution_count": 124,
   "metadata": {},
   "outputs": [
    {
     "data": {
      "text/plain": [
       "NoneType"
      ]
     },
     "execution_count": 124,
     "metadata": {},
     "output_type": "execute_result"
    }
   ],
   "source": [
    "type(a)"
   ]
  },
  {
   "cell_type": "code",
   "execution_count": 125,
   "metadata": {},
   "outputs": [
    {
     "name": "stdout",
     "output_type": "stream",
     "text": [
      "Heisenberg!\n",
      "None\n"
     ]
    }
   ],
   "source": [
    "print(say_my_name('Heisenberg'))"
   ]
  },
  {
   "cell_type": "code",
   "execution_count": 126,
   "metadata": {},
   "outputs": [
    {
     "name": "stdout",
     "output_type": "stream",
     "text": [
      "Heisenberg!\n",
      "None\n",
      "None\n"
     ]
    }
   ],
   "source": [
    "print(say_my_name('Heisenberg'))\n",
    "print(a)\n",
    "# what is happening here?"
   ]
  },
  {
   "cell_type": "markdown",
   "metadata": {},
   "source": [
    "If omitting `return`, a `None` object is returned. \n",
    "\n",
    "If want want to return value(s), there are different ways to do it. There are 3 ways to end a function:\n",
    "1. `return expression` statment, this is the result of this function and can be anything\n",
    "2. an empty `return` statement, no explicit return value, technically returns a `None`\n",
    "3. no `return` statement, end the indented block as it. same as 2."
   ]
  },
  {
   "cell_type": "code",
   "execution_count": 129,
   "metadata": {},
   "outputs": [],
   "source": [
    "# wrapper \n",
    "def func1(x):\n",
    "    y = x ** 3\n",
    "    print(y)\n",
    "    return y"
   ]
  },
  {
   "cell_type": "code",
   "execution_count": 128,
   "metadata": {},
   "outputs": [
    {
     "name": "stdout",
     "output_type": "stream",
     "text": [
      "512\n",
      "None\n"
     ]
    }
   ],
   "source": [
    "# no return\n",
    "a = func1(8)\n",
    "print(a)"
   ]
  },
  {
   "cell_type": "code",
   "execution_count": 130,
   "metadata": {},
   "outputs": [
    {
     "name": "stdout",
     "output_type": "stream",
     "text": [
      "512\n",
      "512\n"
     ]
    }
   ],
   "source": [
    "a = func1(8)\n",
    "print(a)"
   ]
  },
  {
   "cell_type": "code",
   "execution_count": 133,
   "metadata": {},
   "outputs": [
    {
     "name": "stdout",
     "output_type": "stream",
     "text": [
      "abc !\n",
      "abc!\n",
      "abc!something\n"
     ]
    }
   ],
   "source": [
    "name = 'abc'\n",
    "end = '!'\n",
    "print(name, end)\n",
    "print(name+end)\n",
    "print(name, end=end)\n",
    "print('something')"
   ]
  },
  {
   "cell_type": "code",
   "execution_count": 136,
   "metadata": {},
   "outputs": [],
   "source": [
    "def say_my_name(name, excited=True):\n",
    "    if excited:\n",
    "        end = '!'\n",
    "        print(name, end=end)\n",
    "    else:\n",
    "        end = ''\n",
    "        print(name)\n",
    "        \n",
    "    return name+end"
   ]
  },
  {
   "cell_type": "code",
   "execution_count": 137,
   "metadata": {
    "scrolled": true
   },
   "outputs": [
    {
     "name": "stdout",
     "output_type": "stream",
     "text": [
      "Heisenberg!Heisenberg!Heisenberg!\n",
      "Heisenberg!\n"
     ]
    }
   ],
   "source": [
    "# try to understand output\n",
    "a = say_my_name('Heisenberg')\n",
    "print(say_my_name('Heisenberg'))\n",
    "print(a)"
   ]
  },
  {
   "cell_type": "code",
   "execution_count": 138,
   "metadata": {},
   "outputs": [],
   "source": [
    "def say_my_name(name, excited=True):\n",
    "    if excited:\n",
    "        end = '!'\n",
    "        print(name, end=end)\n",
    "    else:\n",
    "        end = ''\n",
    "        print(name)\n",
    "        \n",
    "    return name, end\n",
    "#     return "
   ]
  },
  {
   "cell_type": "code",
   "execution_count": 139,
   "metadata": {},
   "outputs": [
    {
     "name": "stdout",
     "output_type": "stream",
     "text": [
      "Heisenberg!Heisenberg!('Heisenberg', '!')\n",
      "('Heisenberg', '!')\n"
     ]
    }
   ],
   "source": [
    "# try to understand output\n",
    "a = say_my_name('Heisenberg')\n",
    "print(say_my_name('Heisenberg'))\n",
    "print(a)"
   ]
  },
  {
   "cell_type": "code",
   "execution_count": 140,
   "metadata": {},
   "outputs": [
    {
     "name": "stdout",
     "output_type": "stream",
     "text": [
      "Heisenberg!"
     ]
    }
   ],
   "source": [
    "# what if only want the '!' in output?\n",
    "#     return name, end\n",
    "\n",
    "_, end = say_my_name('Heisenberg')"
   ]
  },
  {
   "cell_type": "markdown",
   "metadata": {},
   "source": [
    "### 6.3 Arguments\n",
    "Functions can take any number of parameters/arguments/inputs, that means 0 or as many as you want. \n",
    "\n",
    "These are usually provided by parameter **name** or the **position**, of a mixture of the two. We have seen in the example above, we can pass the parameters by position. This seems very straightforward, the only thing is, when you have more parameters you will very easily get confused, and the code will be unreadable too.\n"
   ]
  },
  {
   "cell_type": "code",
   "execution_count": 144,
   "metadata": {},
   "outputs": [
    {
     "name": "stdout",
     "output_type": "stream",
     "text": [
      "!!!!!!!!!!!!!!!!!!!!!!!!!!!!!!!!!!!!!!!!!!!!!!!!!!!!!!!!!!!!!!!!!!!!!!!!!!!!!!!!!!!!!!!!!!!!!!!!!!!!\n"
     ]
    }
   ],
   "source": [
    "# no argument\n",
    "def print_100():\n",
    "    print('!'*100)\n",
    "print_100()"
   ]
  },
  {
   "cell_type": "code",
   "execution_count": 146,
   "metadata": {},
   "outputs": [
    {
     "name": "stdout",
     "output_type": "stream",
     "text": [
      "A girl\n",
      "A girl\n",
      "False!"
     ]
    }
   ],
   "source": [
    "# keywords\n",
    "name, _ = say_my_name(name='A girl', excited=False)\n",
    "name, _ = say_my_name(excited=False, name='A girl')\n",
    "name, _ = say_my_name(False, 'A girl')"
   ]
  },
  {
   "cell_type": "markdown",
   "metadata": {},
   "source": [
    "In the example above we assigned arguments by key words, and we noticed the order of key word arguments does not matter. However, this is not true for position arguments.\n",
    "\n",
    "When mixing key word and position argument value, be sure to provide position arguments first, and they will need to be matched to the parameters by order. Key word arguments won't be affect however they are provided in order."
   ]
  },
  {
   "cell_type": "code",
   "execution_count": 147,
   "metadata": {},
   "outputs": [
    {
     "name": "stdout",
     "output_type": "stream",
     "text": [
      "False\n",
      "True\n"
     ]
    }
   ],
   "source": [
    "print_out = 'False' # != False\n",
    "print(print_out == True)\n",
    "print(bool(print_out) == True)"
   ]
  },
  {
   "cell_type": "code",
   "execution_count": 148,
   "metadata": {},
   "outputs": [],
   "source": [
    "def print_numbers(num1, num2, num3, num4, num5, print_out=True):\n",
    "    if print_out:\n",
    "#     if bool(print_out) == True\n",
    "#     is different from if print_out == True:\n",
    "        print(\"Input has [{0}, {1}, {2}, {3}, {4}].\".format(num1, num2, num3, num4, num5))"
   ]
  },
  {
   "cell_type": "code",
   "execution_count": 149,
   "metadata": {},
   "outputs": [
    {
     "name": "stdout",
     "output_type": "stream",
     "text": [
      "Input has [1, 2, 3, 4, 5].\n"
     ]
    }
   ],
   "source": [
    "print_numbers(1,2,3,4,5)"
   ]
  },
  {
   "cell_type": "code",
   "execution_count": 150,
   "metadata": {},
   "outputs": [
    {
     "name": "stdout",
     "output_type": "stream",
     "text": [
      "Input has [1, 2, 3, 4, 5].\n"
     ]
    }
   ],
   "source": [
    "print_numbers(num4=4, num5=5, num3=3, num1=1, num2=2)"
   ]
  },
  {
   "cell_type": "code",
   "execution_count": 151,
   "metadata": {},
   "outputs": [
    {
     "name": "stdout",
     "output_type": "stream",
     "text": [
      "Input has [1, 2, 3, 4, 5].\n"
     ]
    }
   ],
   "source": [
    "print_numbers(1,2,3, num5=5, num4=4)"
   ]
  },
  {
   "cell_type": "code",
   "execution_count": 152,
   "metadata": {},
   "outputs": [
    {
     "ename": "SyntaxError",
     "evalue": "positional argument follows keyword argument (<ipython-input-152-f9d06026e512>, line 2)",
     "output_type": "error",
     "traceback": [
      "\u001b[0;36m  File \u001b[0;32m\"<ipython-input-152-f9d06026e512>\"\u001b[0;36m, line \u001b[0;32m2\u001b[0m\n\u001b[0;31m    print_numbers(num1=2, num2=1, 4,5,3)\u001b[0m\n\u001b[0m                                 ^\u001b[0m\n\u001b[0;31mSyntaxError\u001b[0m\u001b[0;31m:\u001b[0m positional argument follows keyword argument\n"
     ]
    }
   ],
   "source": [
    "# what's the output?\n",
    "print_numbers(num1=2, num2=1, 4,5,3)"
   ]
  },
  {
   "cell_type": "code",
   "execution_count": 153,
   "metadata": {},
   "outputs": [
    {
     "ename": "SyntaxError",
     "evalue": "positional argument follows keyword argument (<ipython-input-153-22dfdc2e2586>, line 2)",
     "output_type": "error",
     "traceback": [
      "\u001b[0;36m  File \u001b[0;32m\"<ipython-input-153-22dfdc2e2586>\"\u001b[0;36m, line \u001b[0;32m2\u001b[0m\n\u001b[0;31m    print_numbers(1,2,3,num4=4, num5=5, 0)\u001b[0m\n\u001b[0m                                       ^\u001b[0m\n\u001b[0;31mSyntaxError\u001b[0m\u001b[0;31m:\u001b[0m positional argument follows keyword argument\n"
     ]
    }
   ],
   "source": [
    "# what's the output?\n",
    "print_numbers(1,2,3,num4=4, num5=5, 0)"
   ]
  },
  {
   "cell_type": "code",
   "execution_count": 154,
   "metadata": {},
   "outputs": [],
   "source": [
    "# what's the output?\n",
    "print_numbers(1,2,3,4,5,0)"
   ]
  },
  {
   "cell_type": "markdown",
   "metadata": {},
   "source": [
    "You might have noticed even though the function has 6 parameters/arguments, we can run it with 5 arguments. The reason is the 6th parameter is optional, as we already provided a default value in the definition. The opposite of optional parameters is called required/mandatory.\n",
    "\n",
    "When there is default value for an optional parameter, we don't have to provide an argument value. The parameter will take on default value unless there is an actual value specified (by kw or position).\n",
    "\n",
    "*Note: required/mandatory parameters must come before any optional parameters when you definte the functions.*"
   ]
  },
  {
   "cell_type": "code",
   "execution_count": 157,
   "metadata": {},
   "outputs": [
    {
     "ename": "TypeError",
     "evalue": "print_numbers() missing 1 required positional argument: 'num5'",
     "output_type": "error",
     "traceback": [
      "\u001b[0;31m---------------------------------------------------------------------------\u001b[0m",
      "\u001b[0;31mTypeError\u001b[0m                                 Traceback (most recent call last)",
      "\u001b[0;32m<ipython-input-157-16e3b91ea50e>\u001b[0m in \u001b[0;36m<module>\u001b[0;34m\u001b[0m\n\u001b[0;32m----> 1\u001b[0;31m \u001b[0mprint_numbers\u001b[0m\u001b[0;34m(\u001b[0m\u001b[0;36m1\u001b[0m\u001b[0;34m,\u001b[0m\u001b[0;36m2\u001b[0m\u001b[0;34m,\u001b[0m\u001b[0;36m3\u001b[0m\u001b[0;34m,\u001b[0m\u001b[0;36m4\u001b[0m\u001b[0;34m)\u001b[0m\u001b[0;34m\u001b[0m\u001b[0;34m\u001b[0m\u001b[0m\n\u001b[0m",
      "\u001b[0;31mTypeError\u001b[0m: print_numbers() missing 1 required positional argument: 'num5'"
     ]
    }
   ],
   "source": [
    "print_numbers(1,2,3,4)"
   ]
  },
  {
   "cell_type": "code",
   "execution_count": 158,
   "metadata": {},
   "outputs": [
    {
     "ename": "SyntaxError",
     "evalue": "non-default argument follows default argument (<ipython-input-158-3df2860add0f>, line 1)",
     "output_type": "error",
     "traceback": [
      "\u001b[0;36m  File \u001b[0;32m\"<ipython-input-158-3df2860add0f>\"\u001b[0;36m, line \u001b[0;32m1\u001b[0m\n\u001b[0;31m    def print_numbers(print_out=True, num1, num2, num3, num4, num5):\u001b[0m\n\u001b[0m                     ^\u001b[0m\n\u001b[0;31mSyntaxError\u001b[0m\u001b[0;31m:\u001b[0m non-default argument follows default argument\n"
     ]
    }
   ],
   "source": [
    "def print_numbers(print_out=True, num1, num2, num3, num4, num5):\n",
    "    if print_out:\n",
    "        print(\"Input has [{0}, {1}, {2}, {3}, {4}].\".format(num1, num2, num3, num4, num5))"
   ]
  },
  {
   "cell_type": "code",
   "execution_count": 160,
   "metadata": {},
   "outputs": [],
   "source": [
    "def print_numbers(print_out, num1, num2, num3, num4, num5):\n",
    "    if print_out:\n",
    "        print(\"Input has [{0}, {1}, {2}, {3}, {4}].\".format(num1, num2, num3, num4, num5))"
   ]
  },
  {
   "cell_type": "code",
   "execution_count": 161,
   "metadata": {},
   "outputs": [
    {
     "name": "stdout",
     "output_type": "stream",
     "text": [
      "Input has [2, 3, 4, 5, False].\n"
     ]
    }
   ],
   "source": [
    "print_numbers(1,2,3,4,5,False)"
   ]
  },
  {
   "cell_type": "markdown",
   "metadata": {},
   "source": [
    "It's also best practice to use only **imutable** object for optional parameters, as the value will be shared for different function runs."
   ]
  },
  {
   "cell_type": "code",
   "execution_count": 162,
   "metadata": {},
   "outputs": [
    {
     "name": "stdout",
     "output_type": "stream",
     "text": [
      "[3]\n",
      "[3, 3]\n"
     ]
    }
   ],
   "source": [
    "def sum_ab(a, b, c=[]):\n",
    "    c.append(a+b)\n",
    "    return c\n",
    "\n",
    "print(sum_ab(1,2))\n",
    "print(sum_ab(1,2))"
   ]
  },
  {
   "cell_type": "code",
   "execution_count": 163,
   "metadata": {},
   "outputs": [
    {
     "name": "stdout",
     "output_type": "stream",
     "text": [
      "[3]\n",
      "[3]\n"
     ]
    }
   ],
   "source": [
    "def sum_ab(a, b, a_b=None):\n",
    "    \n",
    "    if not a_b: \n",
    "        a_b = []\n",
    "    a_b.append(a+b)\n",
    "    \n",
    "    return a_b\n",
    "\n",
    "print(sum_ab(1,2))\n",
    "print(sum_ab(1,2))"
   ]
  },
  {
   "cell_type": "code",
   "execution_count": null,
   "metadata": {},
   "outputs": [],
   "source": [
    "# potential values?\n",
    "[]\n",
    "[3]\n",
    "None\n",
    "???"
   ]
  },
  {
   "cell_type": "code",
   "execution_count": 164,
   "metadata": {},
   "outputs": [
    {
     "ename": "NameError",
     "evalue": "name 'a_b' is not defined",
     "output_type": "error",
     "traceback": [
      "\u001b[0;31m---------------------------------------------------------------------------\u001b[0m",
      "\u001b[0;31mNameError\u001b[0m                                 Traceback (most recent call last)",
      "\u001b[0;32m<ipython-input-164-9c20fe3b6e07>\u001b[0m in \u001b[0;36m<module>\u001b[0;34m\u001b[0m\n\u001b[0;32m----> 1\u001b[0;31m \u001b[0mprint\u001b[0m\u001b[0;34m(\u001b[0m\u001b[0ma_b\u001b[0m\u001b[0;34m)\u001b[0m\u001b[0;34m\u001b[0m\u001b[0;34m\u001b[0m\u001b[0m\n\u001b[0m",
      "\u001b[0;31mNameError\u001b[0m: name 'a_b' is not defined"
     ]
    }
   ],
   "source": [
    "print(a_b)"
   ]
  },
  {
   "cell_type": "code",
   "execution_count": null,
   "metadata": {},
   "outputs": [],
   "source": [
    "True, False, None, bool(), str"
   ]
  },
  {
   "cell_type": "markdown",
   "metadata": {},
   "source": [
    "### 6.4 Scope and passing by assignment\n",
    "It's an important idea to understand the \"scope\" or \"space\" or a function. Each function has its own \"local\" space, which is different from \"global\". \n",
    "\n",
    "That happens inside a function (usually local) exists only inside the function (local).\n",
    "\n",
    "![img](https://drek4537l1klr.cloudfront.net/hillard/Figures/f0045-01_alt.jpg)\n",
    "\n"
   ]
  },
  {
   "cell_type": "code",
   "execution_count": 165,
   "metadata": {},
   "outputs": [],
   "source": [
    "a = 1"
   ]
  },
  {
   "cell_type": "code",
   "execution_count": 166,
   "metadata": {},
   "outputs": [],
   "source": [
    "def a_prime():\n",
    "    a = 3\n",
    "    print(a)"
   ]
  },
  {
   "cell_type": "code",
   "execution_count": 167,
   "metadata": {},
   "outputs": [
    {
     "name": "stdout",
     "output_type": "stream",
     "text": [
      "1\n",
      "3\n",
      "None\n",
      "1\n"
     ]
    },
    {
     "data": {
      "text/plain": [
       "(None, None, None)"
      ]
     },
     "execution_count": 167,
     "metadata": {},
     "output_type": "execute_result"
    }
   ],
   "source": [
    "print(a), print(a_prime()), print(a)"
   ]
  },
  {
   "cell_type": "code",
   "execution_count": 168,
   "metadata": {},
   "outputs": [],
   "source": [
    "def say_my_name():\n",
    "    name = 'Heisenberg'\n",
    "    print(name)"
   ]
  },
  {
   "cell_type": "code",
   "execution_count": 169,
   "metadata": {},
   "outputs": [
    {
     "name": "stdout",
     "output_type": "stream",
     "text": [
      "Not Heisenberg\n",
      "Heisenberg\n",
      "Not Heisenberg\n"
     ]
    }
   ],
   "source": [
    "name = 'Not Heisenberg'\n",
    "print(name)\n",
    "say_my_name()\n",
    "print(name)"
   ]
  },
  {
   "cell_type": "markdown",
   "metadata": {},
   "source": [
    "Note here we defined `name = 'Not Heisenberg'` in the global environment, and `name = 'Heisenberg'` is defined within the function. Even within the function a different value is assigned to `name`, it only exists within the function, and the original global value persist even after the function is called. The inside and outside of the function stay independent now. You can imagine the function as a \"container\", which have limited access to the outside of current `def`, and the outside has no idea what's happening inside.\n",
    "\n",
    "This is usually desirable property, as you don't need to worry about overcrowding the namespace, or accidentally overwrite another variable. You can have same parameter name as your global variable.\n",
    "\n",
    "The variable scope resolution follows the LEGB rule:\n",
    "\n",
    "`Local -> Enclosed -> Global -> Built-in`\n",
    "\n",
    "![img](https://www.askpython.com/wp-content/uploads/2019/08/python-variable-scope-resolution-legb.png)\n",
    "\n",
    "The following is an example illustrating all definitions, [read more about LEGB here](https://www.askpython.com/python/python-namespace-variable-scope-resolution-legb) if you are interested.\n",
    "\n",
    "![img](https://www.askpython.com/wp-content/uploads/2019/08/python-variable-scope-example.png.webp)\n",
    "\n",
    "Let's look at a few examples to make sure we understand that!"
   ]
  },
  {
   "cell_type": "code",
   "execution_count": 170,
   "metadata": {},
   "outputs": [
    {
     "name": "stdout",
     "output_type": "stream",
     "text": [
      "foo\n",
      "bar\n",
      "foo\n"
     ]
    },
    {
     "ename": "NameError",
     "evalue": "name 'local_var' is not defined",
     "output_type": "error",
     "traceback": [
      "\u001b[0;31m---------------------------------------------------------------------------\u001b[0m",
      "\u001b[0;31mNameError\u001b[0m                                 Traceback (most recent call last)",
      "\u001b[0;32m<ipython-input-170-5955b14c645a>\u001b[0m in \u001b[0;36m<module>\u001b[0;34m\u001b[0m\n\u001b[1;32m      9\u001b[0m \u001b[0mex1\u001b[0m\u001b[0;34m(\u001b[0m\u001b[0;34m)\u001b[0m\u001b[0;34m\u001b[0m\u001b[0;34m\u001b[0m\u001b[0m\n\u001b[1;32m     10\u001b[0m \u001b[0mprint\u001b[0m\u001b[0;34m(\u001b[0m\u001b[0mglobal_var\u001b[0m\u001b[0;34m)\u001b[0m\u001b[0;34m\u001b[0m\u001b[0;34m\u001b[0m\u001b[0m\n\u001b[0;32m---> 11\u001b[0;31m \u001b[0mprint\u001b[0m\u001b[0;34m(\u001b[0m\u001b[0mlocal_var\u001b[0m\u001b[0;34m)\u001b[0m\u001b[0;34m\u001b[0m\u001b[0;34m\u001b[0m\u001b[0m\n\u001b[0m\u001b[1;32m     12\u001b[0m \u001b[0;34m\u001b[0m\u001b[0m\n\u001b[1;32m     13\u001b[0m \u001b[0;31m# global namespace: global_var\u001b[0m\u001b[0;34m\u001b[0m\u001b[0;34m\u001b[0m\u001b[0;34m\u001b[0m\u001b[0m\n",
      "\u001b[0;31mNameError\u001b[0m: name 'local_var' is not defined"
     ]
    }
   ],
   "source": [
    "# difference between global and local\n",
    "global_var = 'foo'\n",
    "\n",
    "def ex1():\n",
    "    local_var = 'bar'\n",
    "    print(global_var)\n",
    "    print(local_var)\n",
    "    \n",
    "ex1()\n",
    "print(global_var)\n",
    "print(local_var)\n",
    "\n",
    "# global namespace: global_var\n",
    "# local namespace: local_var (+ LEGB ^)"
   ]
  },
  {
   "cell_type": "code",
   "execution_count": 171,
   "metadata": {},
   "outputs": [
    {
     "name": "stdout",
     "output_type": "stream",
     "text": [
      "inside the fuction var is bar\n",
      "outside the fuction var is foo\n"
     ]
    }
   ],
   "source": [
    "# how NOT to set global variable\n",
    "var = 'foo'\n",
    "\n",
    "def ex2():\n",
    "    var = 'bar'\n",
    "    print('inside the fuction var is ' + var)\n",
    "    \n",
    "ex2()\n",
    "print('outside the fuction var is ' + var)\n",
    "\n",
    "# this is not setting global variable, but creating a local variable with same name"
   ]
  },
  {
   "cell_type": "code",
   "execution_count": 172,
   "metadata": {},
   "outputs": [
    {
     "name": "stdout",
     "output_type": "stream",
     "text": [
      "inside the fuction var is bar\n",
      "outside the fuction var is bar\n"
     ]
    }
   ],
   "source": [
    "# how to set global variable - BUT STRONGLY NOT RECOMMENDED\n",
    "var = 'foo'\n",
    "\n",
    "def ex3():\n",
    "    global var # declare variable as global\n",
    "    var = 'bar'\n",
    "    print('inside the fuction var is '+var)\n",
    "    \n",
    "ex3()\n",
    "print('outside the fuction var is '+var)"
   ]
  },
  {
   "cell_type": "code",
   "execution_count": 173,
   "metadata": {},
   "outputs": [
    {
     "name": "stdout",
     "output_type": "stream",
     "text": [
      "foo\n",
      "bar\n",
      "foo\n"
     ]
    },
    {
     "ename": "NameError",
     "evalue": "name 'var_inner' is not defined",
     "output_type": "error",
     "traceback": [
      "\u001b[0;31m---------------------------------------------------------------------------\u001b[0m",
      "\u001b[0;31mNameError\u001b[0m                                 Traceback (most recent call last)",
      "\u001b[0;32m<ipython-input-173-3191a11428d7>\u001b[0m in \u001b[0;36m<module>\u001b[0;34m\u001b[0m\n\u001b[1;32m     11\u001b[0m     \u001b[0mprint\u001b[0m\u001b[0;34m(\u001b[0m\u001b[0mvar_inner\u001b[0m\u001b[0;34m)\u001b[0m\u001b[0;34m\u001b[0m\u001b[0;34m\u001b[0m\u001b[0m\n\u001b[1;32m     12\u001b[0m \u001b[0;34m\u001b[0m\u001b[0m\n\u001b[0;32m---> 13\u001b[0;31m \u001b[0mex4\u001b[0m\u001b[0;34m(\u001b[0m\u001b[0;34m)\u001b[0m\u001b[0;34m\u001b[0m\u001b[0;34m\u001b[0m\u001b[0m\n\u001b[0m",
      "\u001b[0;32m<ipython-input-173-3191a11428d7>\u001b[0m in \u001b[0;36mex4\u001b[0;34m()\u001b[0m\n\u001b[1;32m      9\u001b[0m     \u001b[0minner\u001b[0m\u001b[0;34m(\u001b[0m\u001b[0;34m)\u001b[0m\u001b[0;34m\u001b[0m\u001b[0;34m\u001b[0m\u001b[0m\n\u001b[1;32m     10\u001b[0m     \u001b[0mprint\u001b[0m\u001b[0;34m(\u001b[0m\u001b[0mvar_outer\u001b[0m\u001b[0;34m)\u001b[0m\u001b[0;34m\u001b[0m\u001b[0;34m\u001b[0m\u001b[0m\n\u001b[0;32m---> 11\u001b[0;31m     \u001b[0mprint\u001b[0m\u001b[0;34m(\u001b[0m\u001b[0mvar_inner\u001b[0m\u001b[0;34m)\u001b[0m\u001b[0;34m\u001b[0m\u001b[0;34m\u001b[0m\u001b[0m\n\u001b[0m\u001b[1;32m     12\u001b[0m \u001b[0;34m\u001b[0m\u001b[0m\n\u001b[1;32m     13\u001b[0m \u001b[0mex4\u001b[0m\u001b[0;34m(\u001b[0m\u001b[0;34m)\u001b[0m\u001b[0;34m\u001b[0m\u001b[0;34m\u001b[0m\u001b[0m\n",
      "\u001b[0;31mNameError\u001b[0m: name 'var_inner' is not defined"
     ]
    }
   ],
   "source": [
    "# nested functions\n",
    "# function has access to global or outer vars (LEGB), but not vice versa\n",
    "def ex4():\n",
    "    var_outer = 'foo'\n",
    "    def inner():\n",
    "        var_inner = 'bar'\n",
    "        print(var_outer)\n",
    "        print(var_inner)\n",
    "    inner()\n",
    "    print(var_outer)\n",
    "    print(var_inner)\n",
    "    \n",
    "ex4()"
   ]
  },
  {
   "cell_type": "code",
   "execution_count": 295,
   "metadata": {},
   "outputs": [
    {
     "name": "stdout",
     "output_type": "stream",
     "text": [
      "inside inner, var is bar\n",
      "inside outer, var is foo\n"
     ]
    }
   ],
   "source": [
    "# global and outer(enclosed) are different\n",
    "def ex6():\n",
    "    var = 'foo'\n",
    "    def inner():\n",
    "        global var\n",
    "        var = 'bar'\n",
    "        print('inside inner, var is '+var)\n",
    "    inner()\n",
    "    print('inside outer, var is '+var)\n",
    "\n",
    "ex6()"
   ]
  },
  {
   "cell_type": "markdown",
   "metadata": {},
   "source": [
    "When the function is evaluated, a namespace of variables is created inside the function, and removed after function finishes running, with all local variables gone. The value assignment and variable change are localized only to the function. \n",
    "\n",
    "Also, though `global` seems to be helpful, it's generally not suggested to use this `global` statement as it can lead to unexpected changes. Try to avoid it.\n",
    "\n",
    "Then how to solve this? If you are curious, [read more here](https://www.saltycrane.com/blog/2008/01/python-variable-scope-notes/).\n",
    "\n",
    "The key take away from the exercises above is: don't confuse the layers of scopes, and when possible, name your parameters and variables properly to avoid unintended results.\n",
    "\n",
    " This means that, most of the time, a function can't change the variables assigned outside of functions namespace."
   ]
  },
  {
   "cell_type": "code",
   "execution_count": 174,
   "metadata": {},
   "outputs": [],
   "source": [
    "def remember_my_name(name):\n",
    "    return name"
   ]
  },
  {
   "cell_type": "code",
   "execution_count": 175,
   "metadata": {},
   "outputs": [
    {
     "name": "stdout",
     "output_type": "stream",
     "text": [
      "Not Heisenberg\n",
      "Not Heisenberg\n",
      "Heisenberg\n"
     ]
    }
   ],
   "source": [
    "name = 'Not Heisenberg'\n",
    "print(name)\n",
    "\n",
    "remember_my_name('Heisenberg')\n",
    "print(name)\n",
    "\n",
    "name = remember_my_name('Heisenberg')\n",
    "print(name)"
   ]
  },
  {
   "cell_type": "markdown",
   "metadata": {},
   "source": [
    "The first time we called the function `remember_my_name`, the new value of `name` only exists inside the function. Even though it returns a value, the returned object is not captured hence no change to global `name` variable.\n",
    "\n",
    "The second time we called the function, it's exactly the same within the function, but the returned value was assigned to global `name`, and it's changed.\n",
    "\n",
    "Some objects are mutable (`list`, `dict`, etc.) and you can use method function to change the value of them inside the fuction. What's the difference between functions and methods, you may ask? [Check out the answer here.](https://stackoverflow.com/questions/155609/whats-the-difference-between-a-method-and-a-function)"
   ]
  },
  {
   "cell_type": "code",
   "execution_count": 176,
   "metadata": {},
   "outputs": [
    {
     "name": "stdout",
     "output_type": "stream",
     "text": [
      "['aaa', 'bbb']\n",
      "['aaa', 'bbb', 'name1', 'name2']\n"
     ]
    }
   ],
   "source": [
    "def remember_names(name_list):\n",
    "    name_list.append('name1')\n",
    "    name_list.append('name2')\n",
    "    \n",
    "name_list = ['aaa', 'bbb']\n",
    "print(name_list)\n",
    "\n",
    "remember_names(name_list)\n",
    "print(name_list)\n",
    "\n",
    "# no explicit assignment, but object value modified via method"
   ]
  },
  {
   "cell_type": "markdown",
   "metadata": {},
   "source": [
    "### 6.5 Lambda \n",
    "Lambda objects are usually simple functions with only one expression or simple logic. It exists as a one-time use function, with no name assigned and no `def` formatting or `return` written out. Another way to look at Lambda is a \"transformation\" - you'll take the input, do something simple, and output the value. \n",
    "\n",
    "Genrally, you probably won't be coding a lot in Lambdas, but they can be handy once in a while for some super simple calculations. Check out [documentation](https://realpython.com/python-lambda/).\n",
    "\n",
    "Syntax:\n",
    "\n",
    "``` lambda input1, input2, ... : returned expression using inputs```"
   ]
  },
  {
   "cell_type": "code",
   "execution_count": 177,
   "metadata": {},
   "outputs": [
    {
     "name": "stdout",
     "output_type": "stream",
     "text": [
      "25\n",
      "<class 'function'>\n"
     ]
    }
   ],
   "source": [
    "function = lambda x,y  : x**2+y**2  # lambda object is a function\n",
    "# def function(x,y):\n",
    "#     retrun x**2+y**2\n",
    "print(function(x=3, y=4))\n",
    "print(type(function))"
   ]
  },
  {
   "cell_type": "code",
   "execution_count": 178,
   "metadata": {},
   "outputs": [
    {
     "name": "stdout",
     "output_type": "stream",
     "text": [
      "[('student1', 99), ('student2', 65), ('student3', 80)]\n",
      "[('student2', 65), ('student3', 80), ('student1', 99)]\n"
     ]
    }
   ],
   "source": [
    "# quick use of lambda\n",
    "\n",
    "scores = [('student1', 99), ('student2', 65), ('student3', 80)]\n",
    "scores.sort()\n",
    "print(scores) # only sorted by first item in tuple\n",
    "\n",
    "scores.sort(key=lambda x : x[1])\n",
    "print(scores)  "
   ]
  },
  {
   "cell_type": "code",
   "execution_count": 179,
   "metadata": {},
   "outputs": [
    {
     "data": {
      "text/plain": [
       "[65, 80, 99]"
      ]
     },
     "execution_count": 179,
     "metadata": {},
     "output_type": "execute_result"
    }
   ],
   "source": [
    "# lambda x : x[1]\n",
    "[x[1] for x in scores]"
   ]
  },
  {
   "cell_type": "markdown",
   "metadata": {},
   "source": [
    "### 6.6 Script file\n",
    "So far we have only worked in jupyter notebook. It is a powerful tool but this is not the only way to use python. More often than notebook, you'll use python in terminal with `.py` scripts. To execute python script, simply run `python3 [script_name]` in you terminal/command line. The code is running behind the scene and output will be shown on the stdout of the terminal.\n",
    "\n",
    "A typical script looks something like this:"
   ]
  },
  {
   "cell_type": "code",
   "execution_count": 180,
   "metadata": {},
   "outputs": [],
   "source": [
    "%load_ext autoreload\n",
    "%autoreload 2\n",
    "from new_func import *  "
   ]
  },
  {
   "cell_type": "code",
   "execution_count": 181,
   "metadata": {},
   "outputs": [
    {
     "data": {
      "text/plain": [
       "3"
      ]
     },
     "execution_count": 181,
     "metadata": {},
     "output_type": "execute_result"
    }
   ],
   "source": [
    "test(1,2)"
   ]
  },
  {
   "cell_type": "code",
   "execution_count": null,
   "metadata": {},
   "outputs": [],
   "source": [
    "# test.py\n",
    "# command line\n",
    "# >>> python test.py\n",
    "\n",
    "import os\n",
    "import datetime\n",
    "\n",
    "def function1(kw1, kw2):\n",
    "    # some thing \n",
    "    # some thing \n",
    "    return output1\n",
    "\n",
    "def function2(kw1, kw2):\n",
    "    # some thing \n",
    "    # some thing \n",
    "    return output2\n",
    "# ...\n",
    "# ...\n",
    "# ...\n",
    "\n",
    "if __name__==\"__main__\":\n",
    "    function1(1,2)\n",
    "    # code to be executed when script is run "
   ]
  },
  {
   "cell_type": "code",
   "execution_count": null,
   "metadata": {},
   "outputs": [],
   "source": [
    "from test import * \n",
    "function1()"
   ]
  },
  {
   "cell_type": "code",
   "execution_count": 561,
   "metadata": {},
   "outputs": [
    {
     "data": {
      "text/plain": [
       "'__main__'"
      ]
     },
     "execution_count": 561,
     "metadata": {},
     "output_type": "execute_result"
    }
   ],
   "source": [
    "__name__"
   ]
  },
  {
   "cell_type": "markdown",
   "metadata": {},
   "source": [
    "The last `if` statement basically means: only run this part when the script is directly run by user. \n",
    "\n",
    "Writing your program this way will make it more reusable (for imports) and testable (unit testing). Though we are still working primarily out of notebook, it's a good idea to think about writing your code this way when you're writing script.\n",
    "\n",
    "To learn what `if __name__==\"__main__\"` does exactly, [read this post](https://medium.com/@jonathan.turnock/what-does-if-name-main-do-pythons-main-scope-b6fd6b227f25) as it provides more detailed explanation and examples to play with."
   ]
  },
  {
   "cell_type": "markdown",
   "metadata": {},
   "source": [
    "### 6.7 Notes on writing functions\n",
    "Now that you have learned about function, you have stepped out the frist step of reusable code. Coverting repeated code into functions can help prevent potential bugs, save you and other times, while keeping everything more readable and easier to collaborate on.\n",
    "\n",
    "There are some generally good practice to follow:\n",
    "- naming conventions: it's recommended to use understandable abbreviations to improve readability, for both functions and variables\n",
    "- [doc string](https://www.python.org/dev/peps/pep-0257/#what-is-a-docstring): explain the purpose of the function, meaning of arguments, and expected return\n",
    "- a function should do one thing only:  make it simple and flexible, it will make your code less likely to break and easier to test (unit testing)\n",
    "- most of your program should be contained inside function, espcially more complex ones. It will save you A LOT OF time.\n",
    "- it's considered bad practice to write long blocks of code at zero indentation. only imports and function `def` are exceptions. "
   ]
  },
  {
   "cell_type": "markdown",
   "metadata": {},
   "source": [
    "#### Exercise 6.\n",
    "Please finish this exercise in the `excercise_6.py` script."
   ]
  },
  {
   "cell_type": "code",
   "execution_count": null,
   "metadata": {},
   "outputs": [],
   "source": []
  }
 ],
 "metadata": {
  "kernelspec": {
   "display_name": "Python 3 (ipykernel)",
   "language": "python",
   "name": "python3"
  },
  "language_info": {
   "codemirror_mode": {
    "name": "ipython",
    "version": 3
   },
   "file_extension": ".py",
   "mimetype": "text/x-python",
   "name": "python",
   "nbconvert_exporter": "python",
   "pygments_lexer": "ipython3",
   "version": "3.10.8"
  }
 },
 "nbformat": 4,
 "nbformat_minor": 2
}
